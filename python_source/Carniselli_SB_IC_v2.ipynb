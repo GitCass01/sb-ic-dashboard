{
  "cells": [
    {
      "cell_type": "markdown",
      "metadata": {
        "id": "Ed2QtdILMsqp"
      },
      "source": [
        "# Importing Libraries"
      ]
    },
    {
      "cell_type": "code",
      "execution_count": null,
      "metadata": {
        "colab": {
          "base_uri": "https://localhost:8080/"
        },
        "id": "3k-L9XuUJ_vd",
        "outputId": "7a93e83f-0e2e-4a98-c9de-b52247947b56"
      },
      "outputs": [
        {
          "output_type": "stream",
          "name": "stdout",
          "text": [
            "Requirement already satisfied: pyspark in /usr/local/lib/python3.10/dist-packages (3.5.1)\n",
            "Requirement already satisfied: py4j==0.10.9.7 in /usr/local/lib/python3.10/dist-packages (from pyspark) (0.10.9.7)\n"
          ]
        }
      ],
      "source": [
        "!pip install pyspark"
      ]
    },
    {
      "cell_type": "code",
      "execution_count": null,
      "metadata": {
        "colab": {
          "base_uri": "https://localhost:8080/"
        },
        "id": "8BK5BQx7NcdX",
        "outputId": "90a62db1-6221-4bff-c84a-f717ef864944"
      },
      "outputs": [
        {
          "output_type": "stream",
          "name": "stdout",
          "text": [
            "Drive already mounted at /content/drive/; to attempt to forcibly remount, call drive.mount(\"/content/drive/\", force_remount=True).\n"
          ]
        }
      ],
      "source": [
        "from google.colab import drive\n",
        "drive.mount('/content/drive/')"
      ]
    },
    {
      "cell_type": "code",
      "execution_count": null,
      "metadata": {
        "id": "aT9S7mp5Nuec"
      },
      "outputs": [],
      "source": [
        "from pyspark.sql  import SparkSession\n",
        "from pyspark import SparkContext, SparkConf\n",
        "\n",
        "conf = SparkConf() \\\n",
        "          .setMaster('local[*]') \\\n",
        "          .setAppName('SB Analytics') \\\n",
        "          .set('spark.driver.memory', '20g') \\\n",
        "          .set('spark.driver.maxResultSizeSets', '8g')\n",
        "spark = SparkSession.builder.config(conf=conf).getOrCreate()"
      ]
    },
    {
      "cell_type": "code",
      "source": [
        "from pyspark.sql.functions import expr, col, count, sum as sum_, max as max_, min as min_, avg as avg_, round as round_,\\\n",
        "                                  lower, when, udf, mean as mean_, stddev as stddev_, array, struct, product, \\\n",
        "                                  first, last, lit, split, isnan, months_between, row_number, coalesce, size, exp, \\\n",
        "                                  explode, array_repeat, date_format, date_trunc, to_date, to_timestamp, broadcast\n",
        "from pyspark.sql import DataFrame\n",
        "from pyspark.sql.types import DoubleType\n",
        "from pyspark.sql.window import Window\n",
        "import math\n",
        "import datetime\n",
        "import matplotlib.pyplot as plt\n",
        "import numpy as np\n",
        "import pandas as pd\n",
        "import matplotlib.dates as mdates"
      ],
      "metadata": {
        "id": "ldB5XGS6VKgX"
      },
      "execution_count": null,
      "outputs": []
    },
    {
      "cell_type": "markdown",
      "metadata": {
        "id": "QCJFOgeNMYQ0"
      },
      "source": [
        "# Upload Dataset"
      ]
    },
    {
      "cell_type": "code",
      "execution_count": null,
      "metadata": {
        "id": "WDr2Tr6fLni_"
      },
      "outputs": [],
      "source": [
        "dfPatients = spark.read.load('/content/drive/MyDrive/db/patients')\n",
        "dfObservations = spark.read.load('/content/drive/MyDrive/db/observations')\n",
        "dfConditions = spark.read.load('/content/drive/MyDrive/db/conditions')\n",
        "#dfMedications = spark.read.load('/content/drive/MyDrive/db/medications')\n",
        "dfQuestionnaireResponses = spark.read.load('/content/drive/MyDrive/db/questionnaire_responses')\n",
        "\n",
        "dfPatients = dfPatients.withColumnRenamed('id','Patient_id')\n",
        "dfObservations = dfObservations.withColumn('Patient_id',expr(\"substring(subject_reference, 9, length(subject_reference))\"))\n",
        "dfConditions = dfConditions.withColumn('Patient_id',expr(\"substring(subject_reference, 9, length(subject_reference))\"))\n",
        "dfQuestionnaireResponses = dfQuestionnaireResponses.withColumn('Patient_id',expr(\"substring(subject_reference, 9, length(subject_reference))\"))"
      ]
    },
    {
      "cell_type": "markdown",
      "metadata": {
        "id": "dgbf4VQcyg7H"
      },
      "source": [
        "# Functions"
      ]
    },
    {
      "cell_type": "markdown",
      "source": [
        "## Df related"
      ],
      "metadata": {
        "id": "dw0RC5RuDqUU"
      }
    },
    {
      "cell_type": "code",
      "source": [],
      "metadata": {
        "id": "HjRUNJ_pPpTB"
      },
      "execution_count": null,
      "outputs": []
    },
    {
      "cell_type": "code",
      "execution_count": null,
      "metadata": {
        "id": "jA68DasjXSaz"
      },
      "outputs": [],
      "source": [
        "'''\n",
        "Get most recent data\n",
        "Observations Dataframe related\n",
        "'''\n",
        "def codeExtraction(df, code:str, new_name, whichCode = 'code_coding_code', whichValue='component_valueQuantity_value'):\n",
        "  tmp = df.filter(df[whichCode] == code)\n",
        "  tmp = tmp.select('effectiveDateTime', 'Patient_id', whichValue)\n",
        "  tmp_notNull = tmp.filter(tmp.effectiveDateTime.isNotNull()) # & (tmp[whichValue].isNotNull()\n",
        "  tmp_notNull = tmp_notNull.orderBy(tmp_notNull['effectiveDateTime'].desc())\n",
        "  recentData = tmp_notNull.groupBy('Patient_id').agg(first(whichValue).alias(new_name))\n",
        "  # print(\"Recent data for '\" + whichCode + \"'\")\n",
        "  # recentData.show()\n",
        "  return recentData\n",
        "#codeExtraction(dfObservations, '365458002', whichValue='valueCodeableConcept_coding_display', new_name='nuovo_nome').show(truncate=False)\n",
        "\n",
        "'''\n",
        "Get all data corresponding to a given code\n",
        "Observations Dataframe related\n",
        "'''\n",
        "def codeExtractionWithTime(df, code:str, new_name, whichCode = 'code_coding_code', whichValue='component_valueQuantity_value'):\n",
        "  tmp = df.filter(df[whichCode] == code)\n",
        "  tmp = tmp.select('effectiveDateTime', 'Patient_id', whichValue)\n",
        "  tmp_notNull = tmp.filter(tmp.effectiveDateTime.isNotNull()) # & (tmp[whichValue].isNotNull()\n",
        "  tmp_notNull = tmp_notNull.orderBy(tmp_notNull['effectiveDateTime'].desc())\n",
        "  return tmp_notNull.withColumnRenamed(whichValue, new_name).distinct()\n",
        "#codeExtraction(dfObservations, '365458002', whichValue='valueCodeableConcept_coding_display', new_name='nuovo_nome').show(truncate=False)"
      ]
    },
    {
      "cell_type": "markdown",
      "source": [
        "## Fill dates"
      ],
      "metadata": {
        "id": "lWd1MVLHvA4Q"
      }
    },
    {
      "cell_type": "code",
      "source": [
        "'''\n",
        "  generates missing dates for each patient, based on patient's min_date and max_date\n",
        "'''\n",
        "def generatePersonalizedMissingDates(df):\n",
        "  #date_trunc --> truncate a date, e.g. with 'mm' parameters: 15/12/2021 --> 01/12/2021\n",
        "  all_dates_df = df.groupBy(\"Patient_id\").agg(\n",
        "      max_(to_date(\"effectiveDateTime\", \"dd/MM/yyyy\")).alias(\"max_date\"),\n",
        "      min_(to_date(\"effectiveDateTime\", \"dd/MM/yyyy\")).alias(\"min_date\")\n",
        "  ).select(\n",
        "      \"Patient_id\",\n",
        "      expr(\"sequence(min_date, max_date, interval 1 day)\").alias(\"effectiveDateTime\")\n",
        "  ).withColumn(\n",
        "      \"effectiveDateTime\", explode(\"effectiveDateTime\")\n",
        "  ).withColumn(\n",
        "      \"effectiveDateTime\",\n",
        "      date_format(\"effectiveDateTime\", \"yyyy-MM-dd\")\n",
        "  )\n",
        "  return all_dates_df.join(df, ['Patient_id', 'effectiveDateTime'], 'left')\n",
        "\n",
        "'''\n",
        "  fill null values in a column, using values of the same date, if there is not, it's replaced with the mean of the patient's values.\n",
        "'''\n",
        "def fillNullByDate(df, cols):\n",
        "    # uncomment if using more values for a timestamp\n",
        "    #means = df.groupBy(['Patient_id', 'effectiveDateTime']).agg(*(\n",
        "    #    mean_(x).alias(x+'_mean_tmp') for x in df.columns if x in cols\n",
        "    #))\n",
        "    meanByPatient = df.groupBy(['Patient_id']).agg(*(\n",
        "        mean_(x).alias(x+'_mean_tmp') for x in df.columns if x in cols\n",
        "    ))\n",
        "\n",
        "    #df = df.join(means, on=['effectiveDateTime', 'Patient_id'], how='left_outer')\n",
        "    #for c in cols:\n",
        "    #  df = df.withColumn(c, when(col(c).isNotNull(), col(c)).otherwise(col(c+'_mean_tmp'))).drop(c+'_mean_tmp')\n",
        "\n",
        "    df = df.join(meanByPatient, on=['Patient_id'], how='left_outer')\n",
        "    for c in cols:\n",
        "      df = df.withColumn(c, when(col(c).isNotNull(), col(c)).otherwise(col(c+'_mean_tmp'))).drop(c+'_mean_tmp')\n",
        "\n",
        "    return df.select('effectiveDateTime', 'Patient_id', *cols).orderBy('Patient_id', 'effectiveDateTime')\n",
        "\n",
        "'''\n",
        "  create, for every column in 'cols', a column with a percentage of trustness, based on the null values that are going to be imputed\n",
        "'''\n",
        "def imputedIndex(df, cols):\n",
        "  window_spec = Window.partitionBy('Patient_id')\n",
        "  total_rows = count('effectiveDateTime').over(window_spec)\n",
        "  for c in cols:\n",
        "    df = df.withColumn(c+'_imputed', (sum_(when(df[c].isNull(), 1).otherwise(0)).over(window_spec) / total_rows * 100))\n",
        "  return df\n",
        "def imputedIndexRowWise(df, cols, domain):\n",
        "  df = df.withColumn(domain+'_imputed', (sum(when(col(c).isNull(), 1).otherwise(0) for c in cols) / len(cols) * 100))\n",
        "  return df\n",
        "\n",
        "'''data = [\n",
        "    ('2022-01-01', 1111, 1, None, 3),\n",
        "    ('2022-01-01', 1111, 1, None, 3),\n",
        "    ('2022-01-01', 1111, None, None, 3),\n",
        "    ('2022-01-01', 2222, None, 2, None),\n",
        "    ('2022-01-01', 2222, None, 2, None),\n",
        "    ('2022-01-01', 2222, None, 2, None),\n",
        "    ('2022-01-01', 2222, None, 2, None)\n",
        "]\n",
        "colls = ['effectiveDateTime', 'Patient_id', 'col1', 'col2', 'col3']\n",
        "df = spark.createDataFrame(data, colls)\n",
        "\n",
        "result_df = imputedIndexRowWise(df, ['col1', 'col2', 'col3'], 'test')\n",
        "result_df.show()'''"
      ],
      "metadata": {
        "id": "JO44dfkvvCgQ",
        "colab": {
          "base_uri": "https://localhost:8080/",
          "height": 91
        },
        "outputId": "079bd107-9167-4fb7-8c04-985d610aa246"
      },
      "execution_count": null,
      "outputs": [
        {
          "output_type": "execute_result",
          "data": {
            "text/plain": [
              "\"data = [\\n    ('2022-01-01', 1111, 1, None, 3),\\n    ('2022-01-01', 1111, 1, None, 3),\\n    ('2022-01-01', 1111, None, None, 3),\\n    ('2022-01-01', 2222, None, 2, None),\\n    ('2022-01-01', 2222, None, 2, None),\\n    ('2022-01-01', 2222, None, 2, None),\\n    ('2022-01-01', 2222, None, 2, None)\\n]\\ncolls = ['effectiveDateTime', 'Patient_id', 'col1', 'col2', 'col3']\\ndf = spark.createDataFrame(data, colls)\\n\\nresult_df = imputedIndexRowWise(df, ['col1', 'col2', 'col3'], 'test')\\nresult_df.show()\""
            ],
            "application/vnd.google.colaboratory.intrinsic+json": {
              "type": "string"
            }
          },
          "metadata": {},
          "execution_count": 31
        }
      ]
    },
    {
      "cell_type": "markdown",
      "source": [
        "## Datasets length related"
      ],
      "metadata": {
        "id": "x3DkmbQnoGNP"
      }
    },
    {
      "cell_type": "code",
      "source": [
        "'''\n",
        "  It average values if the dates are in a range of 'hours'\n",
        "  for example: 2021-01-01 16:00:00 and 2021-01-01 16:30:00 --> we average those values\n",
        "\n",
        "  Parameters:\n",
        "    df: dataframe\n",
        "    valuesColumnName: the column containing the values\n",
        "    hours: the range of hours\n",
        "'''\n",
        "def averageTooCloseMeasurements(df, valuesColumnName, hours = 3):\n",
        "  w = (Window()\n",
        "   .partitionBy(col(\"Patient_id\"))\n",
        "   .orderBy(col(\"effectiveDateTime\").cast(\"timestamp\").cast(\"long\"))\n",
        "   .rangeBetween(-3 * 3600, 0))\n",
        "  df = df.withColumn(valuesColumnName, mean_(valuesColumnName).over(w))\n",
        "\n",
        "  w_desc = (Window()\n",
        "    .partitionBy(col(\"Patient_id\"))\n",
        "    .orderBy(col(\"effectiveDateTime\").cast(\"timestamp\").cast(\"long\").desc())\n",
        "    .rangeBetween(-3 * 3600, 0))\n",
        "  df = df.withColumn(\"last\", first(\"effectiveDateTime\").over(w_desc))\n",
        "  df = df.filter(col('effectiveDateTime') == col('last')).drop('last')\n",
        "  df.orderBy('Patient_id', 'effectiveDateTime')\n",
        "  return df.orderBy('Patient_id', 'effectiveDateTime')\n",
        "\n",
        "'''\n",
        "  generate missing date for each patient, base on min_date and max_date calculated over the total 'effectiveDateTime' column\n",
        "'''\n",
        "def generateMissingDates(df):\n",
        "  all_dates_df = df.groupBy(\"Patient_id\").agg(\n",
        "      max_(to_date(\"effectiveDateTime\", \"dd/MM/yyyy\")).alias(\"max_date\"),\n",
        "      min_(to_date(\"effectiveDateTime\", \"dd/MM/yyyy\")).alias(\"min_date\")\n",
        "  ).select(\n",
        "      \"Patient_id\",\n",
        "      expr(\"sequence(min_date, max_date, interval 1 day)\").alias(\"effectiveDateTime\")\n",
        "  ).withColumn(\n",
        "      \"effectiveDateTime\", explode(\"effectiveDateTime\")\n",
        "  ).withColumn(\n",
        "      \"effectiveDateTime\",\n",
        "      date_format(\"effectiveDateTime\", \"yyyy-MM-dd\")\n",
        "  )\n",
        "  return all_dates_df.select('effectiveDateTime', 'Patient_id')\n",
        "\n",
        "\n",
        "'''\n",
        "  return a df with date occurrences\n",
        "'''\n",
        "def getDateOccurrences(df):\n",
        "  tmp = df.withColumn('effectiveDateTime', to_date('effectiveDateTime'))\n",
        "  return tmp.groupBy('effectiveDateTime', 'Patient_id').agg(count('effectiveDateTime').alias('occurrences'))\n",
        "\n",
        "'''\n",
        "  It normalize a datasets in order to have a certain amount of daily measurements.\n",
        "  It is done by repeating the same values of a day by 'dailyMeasurements', if a day is not present we repeat the latest (or last) values\n",
        "\n",
        "  Parameters:\n",
        "    df: dataframe\n",
        "    dailyMeasurements: the desidered daily measurements\n",
        "'''\n",
        "def normalizeDatasetLength(df, dailyMeasurements):\n",
        "  df = df.withColumn('effectiveDateTime', to_date('effectiveDateTime'))\n",
        "  cols = df.columns[2:]\n",
        "\n",
        "  all_dates = generateMissingDates(df)\n",
        "  all_dates = all_dates.withColumn('effectiveDateTime', explode(array_repeat('effectiveDateTime', dailyMeasurements))) \\\n",
        "                       .withColumn('effectiveDateTime', to_date('effectiveDateTime'))\n",
        "  all_dates = all_dates.exceptAll(df.select('effectiveDateTime', 'Patient_id'))#.withColumn('effectiveDateTime', to_date('effectiveDateTime')))\n",
        "  #all_dates = all_dates.withColumn('effectiveDateTime', to_timestamp('effectiveDateTime'))\n",
        "  #for c in cols:\n",
        "  #  all_dates = all_dates.withColumn(c, lit(None))\n",
        "  #all_dates.orderBy('Patient_id', 'effectiveDateTime').show()\n",
        "  df = df.unionByName(all_dates, allowMissingColumns=True).orderBy('Patient_id', 'effectiveDateTime')\n",
        "\n",
        "  #df = fillNullByDate(df, cols)\n",
        "\n",
        "  if dailyMeasurements > 1:\n",
        "    # adding an id column to avoid ambiguity with 'Patient_id'-'effectiveDateTime'\n",
        "    windowSpec  = Window.partitionBy(['effectiveDateTime', 'Patient_id']).orderBy('effectiveDateTime')\n",
        "    df = df.withColumn('id', row_number().over(windowSpec))\n",
        "  return df"
      ],
      "metadata": {
        "id": "1NlTI1ycoIwe"
      },
      "execution_count": null,
      "outputs": []
    },
    {
      "cell_type": "markdown",
      "source": [
        "## Z-score"
      ],
      "metadata": {
        "id": "exF7UDJuDm1n"
      }
    },
    {
      "cell_type": "code",
      "source": [
        "'''\n",
        "  Compute the personalized zscore for each value in 'valuesColumnName' based on the column 'id'\n",
        "\n",
        "  Parameters:\n",
        "    df: the dataframe on which to compute the zscore\n",
        "    valuesColumnName: the column containing the values\n",
        "    id: the column representing the singular patients\n",
        "\n",
        "  Return:\n",
        "    the original dataframe with a column for the computed z-score\n",
        "'''\n",
        "def computePersonalizedZScore(df, valueColumnName, idColumnName='Patient_id'):\n",
        "    windowSpec = Window().partitionBy(idColumnName)\n",
        "\n",
        "    mean_col = mean_(df[valueColumnName]).over(windowSpec).alias(valueColumnName + \"_mean\")\n",
        "    stddev_col = stddev_(df[valueColumnName]).over(windowSpec).alias(valueColumnName + \"_stddev\")\n",
        "\n",
        "    df = df.select('*', ((df[valueColumnName] - mean_col) / stddev_col).cast(\"double\").alias(valueColumnName+'_zscore'))\n",
        "\n",
        "    return df#.filter(df[valueColumnName+'_zscore'].isNotNull())\n",
        "\n",
        "'''\n",
        "  Compute z-score for each patient using mean and std calculated globally on the dataframe\n",
        "  Should use it if we have too few data for each patient.\n",
        "\n",
        "  Parameters:\n",
        "    df: the dataframe on which to compute the zscore\n",
        "    valuesColumnName: the column containing the values\n",
        "\n",
        "  Return:\n",
        "    the original dataframe with a column for the computed z-score\n",
        "'''\n",
        "def computeZScore(df, valuesColumnName, g_mean = None, g_stddev = None):\n",
        "    if g_stddev is None:\n",
        "      g_mean = df.agg(mean_(col(valuesColumnName))).collect()[0][0]\n",
        "      g_stddev = df.agg(stddev_(col(valuesColumnName))).collect()[0][0]\n",
        "      print('GMEAN and GSTDDEV')\n",
        "      print(g_mean)\n",
        "      print(g_stddev)\n",
        "\n",
        "    df = df.select('*', ((col(valuesColumnName) - lit(g_mean)) / lit(g_stddev)).cast(\"double\").alias(valuesColumnName+'_zscore'))\n",
        "\n",
        "    return df#.filter(df[valuesColumnName + '_zscore'].isNotNull())"
      ],
      "metadata": {
        "id": "Pv4PimreVgSb"
      },
      "execution_count": null,
      "outputs": []
    },
    {
      "cell_type": "markdown",
      "source": [
        "## Performance Score"
      ],
      "metadata": {
        "id": "xtugnzLqdAMf"
      }
    },
    {
      "cell_type": "code",
      "source": [
        "'''\n",
        "  logistic function implementation (https://en.wikipedia.org/wiki/Logistic_function)\n",
        "  modified in order to get a performance score in [1,6]\n",
        "\n",
        "  Parameters:\n",
        "    x: value\n",
        "    x_0: the 'x-axis' value of the function's midpoint (should be the 'expected value', e.g. mean)\n",
        "    L: the upper bound (the maximum performance score)\n",
        "    k: the growth rate of the function or steepness of the curve\n",
        "'''\n",
        "def logistic_function(x, x_0, L = 5, k=1):\n",
        "  #return L / (1 + math.exp(-k*(x - x_0)))\n",
        "  if x is None:\n",
        "    return None\n",
        "  return (L / (1 + math.exp(-k*(x - x_0)))) + 1\n",
        "\n",
        "def reverse_logistic_function(x, x_0, L = 5, k=1):\n",
        "  if x is None:\n",
        "    return None\n",
        "  return L / (1 + math.exp(k*(x - x_0))) + 1\n",
        "\n",
        "'''\n",
        "  gaussian function implementation (https://en.wikipedia.org/wiki/Gaussian_function)\n",
        "  modified in order to get a performance score in [1,6]\n",
        "\n",
        "  Parameters:\n",
        "    x: value\n",
        "    a = the height of the bell curve\n",
        "    b = the position of the center of the peak (should be the 'expected value', e.g. mean)\n",
        "    c = the width of the bell (should be the 'standard deviation')\n",
        "'''\n",
        "def gaussian(x, b, c, a = 5):\n",
        "  if x is None:\n",
        "    return None\n",
        "  return (a * math.exp( - ((x-b)**2/(2 * c**2)) )) + 1\n",
        "\n",
        "logistic_function_udf = udf(logistic_function, DoubleType())\n",
        "reverse_logistic_function_udf = udf(reverse_logistic_function, DoubleType())\n",
        "gaussian_udf = udf(gaussian, DoubleType())\n",
        "\n",
        "'''\n",
        "  Compute the performance score for each value in 'zscoreColumn' based on which lower/upper risk is setted\n",
        "\n",
        "  Parameters:\n",
        "    df: the dataframe on which to compute the performance score\n",
        "    g_mean: the global mean\n",
        "    g_std: the global std\n",
        "    valuesColumnName: the column containing the values, if it's present the function calculate 'g_mean' and 'g_std' over this column\n",
        "    lowerRisk: the lower risk value\n",
        "    upperRisk: the upper risk value\n",
        "    zscoreColumn: the column containing the zscore values\n",
        "\n",
        "  Return:\n",
        "    the original dataframe with a column for the computed performance score\n",
        "'''\n",
        "def performanceScore(df, g_mean, g_std, valuesColumnName = None, lowerRisk = None, upperRisk = None, zscoreColumn = 'zscore', rename = 'performance score'):\n",
        "  if (lowerRisk is None) & (upperRisk is None):\n",
        "    print('give at least one risk value')\n",
        "    return None\n",
        "\n",
        "  # global mean and std\n",
        "  if valuesColumnName is not None:\n",
        "    g_mean = df.select(mean_(valuesColumnName).alias('mean_tmp')).head()['mean_tmp']\n",
        "    g_std = df.select(stddev_(valuesColumnName).alias('std_tmp')).head()['std_tmp']\n",
        "    print(valuesColumnName)\n",
        "    print('computed g_mean: ', g_mean)\n",
        "    print(' computed g_std: ', g_std)\n",
        "    print('\\n')\n",
        "\n",
        "  lZScore = None\n",
        "  uZScore = None\n",
        "\n",
        "  if upperRisk is None:\n",
        "    df = df.select('*', logistic_function_udf(col(zscoreColumn), lit(0)).alias(rename)) # g_mean in z-score == 0, or should i use the 'personal' mean or the 'recommended value'\n",
        "    lZScore = (lowerRisk-g_mean)/g_std\n",
        "  elif lowerRisk is None:\n",
        "    df = df.select('*',  reverse_logistic_function_udf(col(zscoreColumn), lit(0)).alias(rename))\n",
        "    uZScore = (upperRisk-g_mean)/g_std\n",
        "  else:\n",
        "    lZScore = (lowerRisk-g_mean)/g_std\n",
        "    uZScore = (upperRisk-g_mean)/g_std\n",
        "    g_std = (g_std-g_mean)/g_std\n",
        "    #print('g_std in zscore: ', g_std)\n",
        "    #print('avg of risks in zscore (b): ', (uZScore+lZScore)/2, '  g_std/3 (c): ', g_std/3)\n",
        "    df = df.select('*',  when(col(zscoreColumn).isNotNull(), gaussian_udf(df[zscoreColumn], lit((uZScore+lZScore)/2), lit(g_std/3))).alias(rename))\n",
        "\n",
        "  #print(\"risk value (lower): \", lZScore)\n",
        "  #print(\"risk value (upper): \", uZScore)\n",
        "\n",
        "  colName = zscoreColumn.split('_')[0]\n",
        "  return df.drop(colName+'_zscore')#colName, colName+'_mean', colName+'_stddev')\n",
        "\n",
        "'''\n",
        "  compute performance score over 'cols', using this formula: [1 - average(cols)]\n",
        "  we use it for 'conditions' in each domain\n",
        "'''\n",
        "def conditionsPerformanceScore(df, cols, name='domain_conditions_ps'):\n",
        "  n = len(cols)\n",
        "  df = df.withColumn(name, 1 - (sum(col(cols[idx]) for idx in range(n))/n))\n",
        "  # convert range [0,1] to [1,6]\n",
        "  return df.withColumn(name, (((col(name) - 0) * (6 - 1)) / (1 - 0)) + 1).drop(*cols)"
      ],
      "metadata": {
        "id": "SO2ry6y5dCjo"
      },
      "execution_count": null,
      "outputs": []
    },
    {
      "cell_type": "markdown",
      "source": [
        "## Domain Aggregation"
      ],
      "metadata": {
        "id": "RBejgy5iWPBW"
      }
    },
    {
      "cell_type": "code",
      "source": [
        "'''\n",
        "  calculate the weighted average between the given columns with the respective weights\n",
        "  [for each row]\n",
        "\n",
        "  Parameters:\n",
        "    df: a dataframe\n",
        "    columnNames: a list of performance score columns\n",
        "    variableWeights: a list of weights\n",
        "'''\n",
        "def weightedAverageAggregation(df, columnNames, variableWeights, domainName = 'aggregation'):\n",
        "  return df.withColumn(domainName, sum([(col(columnNames[idx]) * variableWeights[idx]) \\\n",
        "                                        for idx in range(len(columnNames))])/sum(variableWeights))\n",
        "\n",
        "'''\n",
        "  calculate the geometric mean of the columns in 'columnNames' for each row in 'df'\n",
        "\n",
        "  Parameters:\n",
        "    df: a dataframe\n",
        "    columnNames: a list of column names\n",
        "    domainName: a name for the new column\n",
        "'''\n",
        "def geometricMeanAggregation(df, columnNames, domainName = 'aggregation', variableNumberForCoverage=10):\n",
        "  columns = [col(col_name) for col_name in columnNames]\n",
        "  df = df.withColumn(domainName, columns[0])\n",
        "  for col_expr in columns[1:]:\n",
        "    df = df.withColumn(domainName, col(domainName) * col_expr)\n",
        "  return df.withColumn(domainName, col(domainName)**(1/len(columnNames))) \\\n",
        "         .withColumn(domainName+'_coverage', (sum(col(c+'_coverage') for c in columnNames)/len(columnNames)).alias(domainName+'_coverage')) \\\n",
        "         .withColumn(domainName+'_imputed', (sum(col(c+'_imputed') for c in columnNames)/len(columnNames)).alias(domainName+'_coverage'))\n",
        "\n",
        "\n",
        "from functools import reduce\n",
        "from operator import mul\n",
        "def personalizedGeometricMeanAggregation(df, columnNames, domainName='aggregation', variableNumberForCoverage=10):\n",
        "    # conto numero NULL\n",
        "    df = df.select('*', sum(col(c).isNull().cast('int') for c in columnNames).alias('null_count'))\n",
        "\n",
        "    geometric_mean_expr = reduce(mul, [when(col(f\"`{col_name}`\").isNotNull(), col(f\"`{col_name}`\")).otherwise(1) for col_name in columnNames]) \\\n",
        "                         ** (1 / (lit(len(columnNames)) - col('null_count')))\n",
        "    #cols = [x.split('_ps')[0]+'_imputed' for x in columnNames]\n",
        "    # Calculate the geometric mean, coverage and trustness (avg)\n",
        "    return df.select('*',\n",
        "                   geometric_mean_expr.alias(domainName),\n",
        "                   (((lit(len(columnNames)) - col('null_count')) / variableNumberForCoverage) * 100).alias(domainName+'_coverage'),\n",
        "                   #(sum(col(c) for c in cols)/len(cols)).alias(domainName+'_imputed')\n",
        "                   ) \\\n",
        "                   .drop('null_count')\n",
        "'''# Esempio di utilizzo\n",
        "data = [\n",
        "    ('2022-01-01', 1111, 1, None, 3),\n",
        "    ('2022-01-01', 1111, 1, None, 3),\n",
        "    ('2022-01-01', 1111, 1, None, 3),\n",
        "    ('2022-01-01', 2222, None, 2, None),\n",
        "    ('2022-01-01', 2222, None, 2, None),\n",
        "    ('2022-01-01', 2222, None, 2, None),\n",
        "    ('2022-01-01', 2222, None, 2, None)\n",
        "]\n",
        "colls = ['effectiveDateTime', 'Patient_id', 'col1', 'col2', 'col3']\n",
        "df = spark.createDataFrame(data, colls)\n",
        "\n",
        "result_df = personalizedGeometricMeanAggregation(df, ['col1', 'col2', 'col3'])\n",
        "result_df.show()'''"
      ],
      "metadata": {
        "id": "2C2on-luWUtO",
        "colab": {
          "base_uri": "https://localhost:8080/",
          "height": 91
        },
        "outputId": "12bec2ec-d6ff-4942-d6d7-dd4f7098b462"
      },
      "execution_count": null,
      "outputs": [
        {
          "output_type": "execute_result",
          "data": {
            "text/plain": [
              "\"# Esempio di utilizzo\\ndata = [\\n    ('2022-01-01', 1111, 1, None, 3),\\n    ('2022-01-01', 1111, 1, None, 3),\\n    ('2022-01-01', 1111, 1, None, 3),\\n    ('2022-01-01', 2222, None, 2, None),\\n    ('2022-01-01', 2222, None, 2, None),\\n    ('2022-01-01', 2222, None, 2, None),\\n    ('2022-01-01', 2222, None, 2, None)\\n]\\ncolls = ['effectiveDateTime', 'Patient_id', 'col1', 'col2', 'col3']\\ndf = spark.createDataFrame(data, colls)\\n\\nresult_df = personalizedGeometricMeanAggregation(df, ['col1', 'col2', 'col3'])\\nresult_df.show()\""
            ],
            "application/vnd.google.colaboratory.intrinsic+json": {
              "type": "string"
            }
          },
          "metadata": {},
          "execution_count": 35
        }
      ]
    },
    {
      "cell_type": "markdown",
      "source": [
        "## Plotting charts"
      ],
      "metadata": {
        "id": "yvXXNFoPdDfD"
      }
    },
    {
      "cell_type": "code",
      "source": [
        "'''\n",
        "  Plotting s-shaped chart for z-score and perfomance score\n",
        "'''\n",
        "def logisticFunctionPlot(personalMean, g_mean, g_std, lowerRisk = None, upperRisk = None):\n",
        "  # generalize for both risk\n",
        "\n",
        "  risk = (lowerRisk-g_mean)/g_std\n",
        "  midpoint = 0#(personalMean-g_mean)/g_std\n",
        "  x = np.linspace(-5, 5, 1000)\n",
        "  y = [logistic_function(xVal, midpoint) for xVal in x]\n",
        "\n",
        "  fig, ax = plt.subplots(figsize=(8, 5))\n",
        "\n",
        "  plt.axhline(1,color='black', alpha=0.3) # x = 0\n",
        "  plt.axvline(midpoint,color='black', alpha=0.3) # y = 0\n",
        "  plt.axhline(6,color='red', linestyle='dashed', label='maxPerformance') # x = 1\n",
        "  plt.axvline(risk, color='orange', linestyle='dashed', label='lowerRisk')\n",
        "\n",
        "  plt.plot(0.496, logistic_function(0.496, midpoint), 'bo')\n",
        "\n",
        "  ax.annotate('max performance',\n",
        "              xy=(5, 6), xycoords='data',\n",
        "              xytext=(-0.5, 0.66), textcoords='offset points',\n",
        "              horizontalalignment='center', verticalalignment='bottom')\n",
        "  ax.annotate('lower risk',\n",
        "              xy=(risk, 5.5), xycoords='data',\n",
        "              xytext=(-0.5, 0.66), textcoords='offset points',\n",
        "              horizontalalignment='center', verticalalignment='bottom', color='orange')\n",
        "  ax.annotate('expected value (mean)',\n",
        "              xy=(midpoint, 1), xycoords='data',\n",
        "              xytext=(-0.5, 0.66), textcoords='offset points',\n",
        "              horizontalalignment='center', verticalalignment='bottom', color='grey')\n",
        "  ax.annotate('Performance Score',\n",
        "              xy=(0, 6), xycoords='data',\n",
        "              xytext=(-0.5, 0.66), textcoords='offset points',\n",
        "              horizontalalignment='center', verticalalignment='bottom')\n",
        "  ax.annotate('z-score',\n",
        "              xy=(4,0), xycoords='data',\n",
        "              xytext=(-0.5, 0.66), textcoords='offset points',\n",
        "              horizontalalignment='center', verticalalignment='bottom')\n",
        "\n",
        "  plt.plot(-1.85, logistic_function(-1.85, midpoint), 'bo')\n",
        "  plt.plot(5, logistic_function(5, midpoint), 'bo')\n",
        "  plt.plot(x, y)\n",
        "  plt.xticks(np.arange(-5, 6, 1))\n",
        "\n",
        "  #plt.savefig('test.png')\n",
        "  plt.show()\n",
        "\n",
        "\n",
        "'''\n",
        "  plot a time series line-plot of a specific patient of a specific performance score\n",
        "\n",
        "  Parameters:\n",
        "    df: the dataframe\n",
        "    patientId: the id of the patient\n",
        "    colName: the name of the performance score column in 'df'\n",
        "'''\n",
        "def plotPatientPerformanceScore(df, patientId, colName):\n",
        "  df = df.filter(col('Patient_id') == patientId)\n",
        "  #if toDate:\n",
        "    #df = df.withColumn('effectiveDateTime', to_date('effectiveDateTime'))\n",
        "  #print('ordinato')\n",
        "\n",
        "  coverage = round(df.head()[colName+'_coverage'], 2)\n",
        "  print(f'{colName} coverage: {coverage}%')\n",
        "\n",
        "  x = [row['effectiveDateTime'] for row in df.select('effectiveDateTime').collect()]\n",
        "  y = [row[colName] for row in df.select(colName).collect()]\n",
        "\n",
        "  # trendline\n",
        "  xx = mdates.date2num(x)\n",
        "  z = np.polyfit(xx, y, 1)\n",
        "  p = np.poly1d(z)\n",
        "\n",
        "  # export data for echarts\n",
        "  print(y)\n",
        "  print('[', end=\"\")\n",
        "  for d in x:\n",
        "    print(\"'\" + d.strftime(\"%Y/%m/%d\") + \"', \", end=\"\")\n",
        "    #print(\"'\" + d + \"', \", end=\"\")\n",
        "  print(']', end=\"\")\n",
        "  print()\n",
        "  print('[', end=\"\")\n",
        "  for d in xx:\n",
        "    print(p(d), end=\"\")\n",
        "    print(\", \", end=\"\")\n",
        "  print(']', end=\"\")\n",
        "\n",
        "  # plot the chart\n",
        "  fig, ax = plt.subplots(figsize=(8, 5))\n",
        "  plt.plot(x, y, marker='o')\n",
        "  plt.plot(x, p(xx), \"r--\")\n",
        "  plt.xlabel('days')\n",
        "  plt.ylabel(colName)\n",
        "  plt.show()\n",
        "\n",
        "'''\n",
        "  same as above but with pandas dataframe\n",
        "'''\n",
        "def plotPatientPerformanceScorePandas(df, patientId, colName):\n",
        "  df = df[df['Patient_id'] == patientId]\n",
        "\n",
        "  x = df['effectiveDateTime'].tolist()\n",
        "  y = df[colName].tolist()\n",
        "\n",
        "  # trendline\n",
        "  xx = mdates.date2num(x)\n",
        "  z = np.polyfit(xx, y, 1)\n",
        "  p = np.poly1d(z)\n",
        "\n",
        "  # export data for echarts\n",
        "  print(y)\n",
        "  print('[', end=\"\")\n",
        "  for d in x:\n",
        "    print(\"'\" + d.strftime(\"%Y/%m/%d\") + \"', \", end=\"\")\n",
        "    #print(\"'\" + d + \"', \", end=\"\")\n",
        "  print(']', end=\"\")\n",
        "  print()\n",
        "  print('[', end=\"\")\n",
        "  for d in xx:\n",
        "    print(p(d), end=\"\")\n",
        "    print(\", \", end=\"\")\n",
        "  print(']', end=\"\")\n",
        "\n",
        "  # plot the chart\n",
        "  fig, ax = plt.subplots(figsize=(8, 5))\n",
        "  plt.plot(x, y, marker='o')\n",
        "  plt.plot(x, p(xx), \"r--\")\n",
        "  plt.xlabel('days')\n",
        "  plt.ylabel(colName)\n",
        "  plt.show()"
      ],
      "metadata": {
        "id": "feEa866uJ7tO"
      },
      "execution_count": null,
      "outputs": []
    },
    {
      "cell_type": "markdown",
      "metadata": {
        "id": "7JGMAXmzs1JK"
      },
      "source": [
        "# Educational Status"
      ]
    },
    {
      "cell_type": "code",
      "execution_count": null,
      "metadata": {
        "id": "JZj2IP0Mhx14"
      },
      "outputs": [],
      "source": [
        "dfEducational = codeExtraction(dfObservations, '365458002', 'Educational Status', whichValue = 'valueCodeableConcept_coding_display')\n",
        "#dfEducational.show(truncate = False)"
      ]
    },
    {
      "cell_type": "code",
      "source": [
        "dfObservations.select('effectiveDateTime', 'valueQuantity_code', 'subject_reference', 'code_coding_code', 'code_coding_display', 'valueQuantity_value')\\\n",
        ".filter(col('valueQuantity_code').isNotNull()).show(truncate=False)"
      ],
      "metadata": {
        "colab": {
          "base_uri": "https://localhost:8080/"
        },
        "id": "WZ9Gv5XNBR3F",
        "outputId": "654e8668-57c6-4f22-e498-290de8bc450e"
      },
      "execution_count": null,
      "outputs": [
        {
          "output_type": "stream",
          "name": "stdout",
          "text": [
            "+-----------------------+------------------+------------------+----------------+------------------------------------------+-------------------+\n",
            "|effectiveDateTime      |valueQuantity_code|subject_reference |code_coding_code|code_coding_display                       |valueQuantity_value|\n",
            "+-----------------------+------------------+------------------+----------------+------------------------------------------+-------------------+\n",
            "|2022-03-30 11:52:30.308|mins/wk           |Patient/1645432486|68130003        |Usual physical activity                   |150.0              |\n",
            "|2021-12-07 19:51:16.206|perc              |Patient/970075428 |365845005       |Haemoglobin A1C - diabetic control finding|5.2                |\n",
            "|2021-12-07 19:51:16.206|perc              |Patient/970075428 |113079009       |LDL cholesterol measurement               |143.0              |\n",
            "|2021-12-07 19:51:16.206|mg/dl             |Patient/970075428 |28036006        |HDL cholesterol measurement               |62.0               |\n",
            "|2021-12-07 19:52:58.563|perc              |Patient/970075428 |113079009       |LDL cholesterol measurement               |143.0              |\n",
            "|2021-12-07 19:54:49.44 |perc              |Patient/970075428 |113079009       |LDL cholesterol measurement               |143.0              |\n",
            "|2021-12-07 20:11:30.165|ms                |Patient/970075428 |365411005       |PR interval - finding                     |0.16               |\n",
            "|2021-12-07 20:11:30.166|ms                |Patient/970075428 |39632005        |QRS interval                              |0.08               |\n",
            "|2021-12-07 20:11:30.166|ms                |Patient/970075428 |301117000       |QT interval duration                      |399.0              |\n",
            "|2022-05-05 19:59:36.592|kg                |Patient/688935216 |29463-7         |Body weight                               |66.8               |\n",
            "|2022-05-05 19:59:36.593|cm                |Patient/688935216 |8302-2          |Body height                               |155.0              |\n",
            "|2022-05-05 19:59:36.595|kg/m2             |Patient/688935216 |39156-5         |Body Mass Index (BMI)                     |27.8               |\n",
            "|2022-05-05 19:59:36.612|cm                |Patient/688935216 |284472007       |Hip circumference                         |107.0              |\n",
            "|2022-05-05 19:59:36.613|cm                |Patient/688935216 |276361009       |Waist circumference                       |91.5               |\n",
            "|2022-05-05 20:56:29.515|kg                |Patient/927744631 |29463-7         |Body weight                               |94.0               |\n",
            "|2022-05-05 20:56:29.516|cm                |Patient/927744631 |8302-2          |Body height                               |154.0              |\n",
            "|2022-05-05 20:56:29.517|kg/m2             |Patient/927744631 |39156-5         |Body Mass Index (BMI)                     |39.6               |\n",
            "|2022-05-05 20:56:29.528|cm                |Patient/927744631 |284472007       |Hip circumference                         |124.0              |\n",
            "|2022-05-05 20:56:29.529|cm                |Patient/927744631 |276361009       |Waist circumference                       |195.5              |\n",
            "|2022-06-08 19:27:48.856|perc              |Patient/1407810388|365845005       |Haemoglobin A1C - diabetic control finding|7.3                |\n",
            "+-----------------------+------------------+------------------+----------------+------------------------------------------+-------------------+\n",
            "only showing top 20 rows\n",
            "\n"
          ]
        }
      ]
    },
    {
      "cell_type": "markdown",
      "metadata": {
        "id": "fIcMfaeFBpJq"
      },
      "source": [
        "# Age"
      ]
    },
    {
      "cell_type": "code",
      "execution_count": null,
      "metadata": {
        "id": "hzheeNhu7_xu"
      },
      "outputs": [],
      "source": [
        "today = datetime.date.today()\n",
        "\n",
        "dfAge = dfPatients.withColumn(\"Age\", (months_between(col(\"current_date\"), col(\"birthDate\")) / 12).cast('int'))\n",
        "dfAge = dfAge.select('Patient_id', 'Age').distinct()\n",
        "#dfAge.show()"
      ]
    },
    {
      "cell_type": "markdown",
      "source": [
        "# Gender"
      ],
      "metadata": {
        "id": "S34VzzA30HWu"
      }
    },
    {
      "cell_type": "code",
      "source": [
        "# code_coding_code 263495000\n",
        "\n",
        "dfGender = dfObservations.filter(dfObservations.code_coding_code == '263495000') \\\n",
        "          .withColumnRenamed('valueCodeableConcept_coding_display', 'Gender') \\\n",
        "          .select('Patient_id', 'Gender').distinct()\n",
        "#dfGender.show()"
      ],
      "metadata": {
        "id": "mqicYlhp0JHS"
      },
      "execution_count": null,
      "outputs": []
    },
    {
      "cell_type": "markdown",
      "metadata": {
        "id": "BPUgguxgYbwp"
      },
      "source": [
        "# Questionnaires"
      ]
    },
    {
      "cell_type": "code",
      "source": [
        "# questionnaire list\n",
        "#dfQuestionnaires = dfQuestionnaireResponses.select('questionnaire').distinct()\n",
        "#dfQuestionnaires.show(100, truncate=False)"
      ],
      "metadata": {
        "id": "XlHhrhEjJq60"
      },
      "execution_count": null,
      "outputs": []
    },
    {
      "cell_type": "markdown",
      "source": [
        "## RGA"
      ],
      "metadata": {
        "id": "UM_10idRSP9v"
      }
    },
    {
      "cell_type": "code",
      "source": [
        "scoresName = ['frailScore', 'sarcopeniaScore', 'riskWeightLossScore', 'RCS', 'snaqScore']\n",
        "dfRGA = dfQuestionnaireResponses.filter((dfQuestionnaireResponses.questionnaire.like('%RGA%')) & (dfQuestionnaireResponses.item_linkId.isin(scoresName)))\n",
        "dfRGA = dfRGA.dropDuplicates(['id', 'item_linkId']).select('id', 'meta_lastUpdated', 'Patient_id', 'item_linkId', 'item_answer_valueInteger')\n",
        "dfRGA = dfRGA.withColumnRenamed('meta_lastUpdated', 'effectiveDateTime')"
      ],
      "metadata": {
        "id": "iHbviLWISRlo"
      },
      "execution_count": null,
      "outputs": []
    },
    {
      "cell_type": "markdown",
      "source": [
        "## FES-I, ABC, FGA, Mini-BESTest, RAPA"
      ],
      "metadata": {
        "id": "sbb1BOKJnTO8"
      }
    },
    {
      "cell_type": "code",
      "source": [
        "'''dfFES = dfQuestionnaireResponses.filter((dfQuestionnaireResponses.questionnaire.like('%fes%')) & (dfQuestionnaireResponses.item_linkId == 'score'))\n",
        "dfABC = dfQuestionnaireResponses.filter((dfQuestionnaireResponses.questionnaire.like('%ABC%')) & (dfQuestionnaireResponses.item_linkId == 'score'))\n",
        "dfFGA = dfQuestionnaireResponses.filter((dfQuestionnaireResponses.questionnaire.like('%FGA%')) & (dfQuestionnaireResponses.item_linkId == 'score'))\n",
        "dfMiniBEST = dfQuestionnaireResponses.filter((dfQuestionnaireResponses.questionnaire.like('%Mini-BESTest%')) & (dfQuestionnaireResponses.item_linkId == 'score'))\n",
        "# 3 patients\n",
        "\n",
        "rapa_scores = ['scoreRapa1', 'scoreRapa2']\n",
        "dfRAPA = dfQuestionnaireResponses.filter((dfQuestionnaireResponses.questionnaire.like('%RAPA%')) & (dfQuestionnaireResponses.item_linkId.isin(rapa_scores)))\n",
        "#dfRAPA.show()'''"
      ],
      "metadata": {
        "id": "Xmd7fgsinXIt",
        "colab": {
          "base_uri": "https://localhost:8080/",
          "height": 127
        },
        "outputId": "0efb6116-4229-4350-9fb2-d8fe671a428c"
      },
      "execution_count": null,
      "outputs": [
        {
          "output_type": "execute_result",
          "data": {
            "text/plain": [
              "\"dfFES = dfQuestionnaireResponses.filter((dfQuestionnaireResponses.questionnaire.like('%fes%')) & (dfQuestionnaireResponses.item_linkId == 'score'))\\ndfABC = dfQuestionnaireResponses.filter((dfQuestionnaireResponses.questionnaire.like('%ABC%')) & (dfQuestionnaireResponses.item_linkId == 'score'))\\ndfFGA = dfQuestionnaireResponses.filter((dfQuestionnaireResponses.questionnaire.like('%FGA%')) & (dfQuestionnaireResponses.item_linkId == 'score'))\\ndfMiniBEST = dfQuestionnaireResponses.filter((dfQuestionnaireResponses.questionnaire.like('%Mini-BESTest%')) & (dfQuestionnaireResponses.item_linkId == 'score'))\\n# 3 patients\\n\\nrapa_scores = ['scoreRapa1', 'scoreRapa2']\\ndfRAPA = dfQuestionnaireResponses.filter((dfQuestionnaireResponses.questionnaire.like('%RAPA%')) & (dfQuestionnaireResponses.item_linkId.isin(rapa_scores)))\\n#dfRAPA.show()\""
            ],
            "application/vnd.google.colaboratory.intrinsic+json": {
              "type": "string"
            }
          },
          "metadata": {},
          "execution_count": 43
        }
      ]
    },
    {
      "cell_type": "markdown",
      "source": [
        "## GHABP"
      ],
      "metadata": {
        "id": "rW1KcFQ2msx1"
      }
    },
    {
      "cell_type": "code",
      "source": [
        "dfGHABP = dfQuestionnaireResponses.filter((dfQuestionnaireResponses.questionnaire.like('%GHABP%')) \\\n",
        "                                          & (dfQuestionnaireResponses.item_linkId == 'Total_score'))\n",
        "dfGHABP = dfGHABP.withColumn('GHABP Score', coalesce(dfGHABP.item_answer_valueInteger, dfGHABP.item_answer_valueDecimal))\n",
        "dfGHABP = dfGHABP.dropDuplicates().withColumnRenamed('meta_lastUpdated', 'effectiveDateTime') \\\n",
        "                 .select('effectiveDateTime', 'Patient_id', 'GHABP Score')\n",
        "#dfGHABP.show()\n",
        "# questionnaire of only the patient that has 'Hearing Loss'\n",
        "# 5 rows - 5 patient\n",
        "# but not all the patient with HL has done this questionnaire\n",
        "# if it's not done should i put 0 as a score??"
      ],
      "metadata": {
        "id": "fD6Bsvybmr7t"
      },
      "execution_count": null,
      "outputs": []
    },
    {
      "cell_type": "markdown",
      "metadata": {
        "id": "OTSorwXcYMvQ"
      },
      "source": [
        "## Sleep Quality Scale - SQS"
      ]
    },
    {
      "cell_type": "code",
      "execution_count": null,
      "metadata": {
        "id": "YG6MkxpE8bEF"
      },
      "outputs": [],
      "source": [
        "dfSQS = dfQuestionnaireResponses.filter(col('questionnaire').like(\"%sleep-item%\"))\n",
        "#dfSQS.orderBy('Patient_id').show()\n",
        "dfSQS = dfSQS.groupby('Patient_id').agg(sum_('item_answer_valueInteger').alias('SQS'))\n",
        "#dfSQS.orderBy('Patient_id').show()"
      ]
    },
    {
      "cell_type": "markdown",
      "metadata": {
        "id": "sXseWaAaYPVh"
      },
      "source": [
        "## Geriatric Depression Scale - GDS"
      ]
    },
    {
      "cell_type": "code",
      "execution_count": null,
      "metadata": {
        "id": "RObA48wtYOKd"
      },
      "outputs": [],
      "source": [
        "# >= 5 equals to depression : https://geriatrictoolkit.missouri.edu/cog/GDS_SHORT_FORM.PDF\n",
        "# 15 questions, 0-14 are the question, the 15th is the total score\n",
        "dfGDS = dfQuestionnaireResponses.filter((col('questionnaire').like(\"%GDS%\")) & (col('item_linkId') == 15)).dropDuplicates()\n",
        "dfGDS = dfGDS.withColumnRenamed('item_answer_valueInteger', 'GDS Score').withColumnRenamed('meta_lastUpdated', 'effectiveDateTime') \\\n",
        "             .select('effectiveDateTime', 'Patient_id','GDS Score') \\\n",
        "             .orderBy('Patient_id', 'effectiveDateTime')\n",
        "#dfGDS.show(truncate=False)"
      ]
    },
    {
      "cell_type": "markdown",
      "metadata": {
        "id": "msNkIpsyaYzn"
      },
      "source": [
        "# Patient info extraction"
      ]
    },
    {
      "cell_type": "code",
      "execution_count": null,
      "metadata": {
        "id": "XPOKBCK9fKTd"
      },
      "outputs": [],
      "source": [
        "# codeExtraction(df, code:str, new_name, whichCode = 'code_coding_code', whichValue='component_valueQuantity_value')\n",
        "\n",
        "dfGender = codeExtraction(dfObservations, '263495000', 'gender', whichValue='valueCodeableConcept_coding_display')\n",
        "dfEducationalStatus = codeExtraction(dfObservations, '365458002', 'Educational Status', whichValue='valueCodeableConcept_coding_display')\n",
        "dfHousehold = codeExtraction(dfObservations, '365481000', 'Household Composition', whichValue='valueCodeableConcept_coding_display')\n",
        "dfSmoker = codeExtraction(dfObservations, '72166-2', 'Smoking Status', whichValue='valueCodeableConcept_coding_display')\n",
        "#dfPhysicalActivity = codeExtraction(dfObservations, '68130003', 'Physical Activity', whichValue='valueQuantity_value') # mins/wk\n",
        "dfBMI = codeExtraction(dfObservations, '39156-5', 'BMI', whichValue='valueQuantity_value') # Kg/m2\n",
        "dfAlcoholIntake = codeExtraction(dfObservations, '443315005', 'Alcohol Intake', whichValue='valueInteger') # Number of alcohol units consumed on typical drinking day\n",
        "#dfImpairedCognition = codeExtraction(dfObservations, '386806002', 'impaired_cognition', whichValue='valueCodeableConcept_coding_display')\n",
        "\n",
        "dfPatientInfo = dfAge \\\n",
        "          .join(dfGender, 'Patient_id', 'full') \\\n",
        "          .join(dfEducationalStatus, 'Patient_id', 'full') \\\n",
        "          .join(dfHousehold, 'Patient_id', 'full') \\\n",
        "          .join(dfSmoker, 'Patient_id', 'full') \\\n",
        "          .join(dfBMI, 'Patient_id', 'full') \\\n",
        "          .join(dfAlcoholIntake, 'Patient_id', 'full') \\\n",
        "          .join(dfGDS, 'Patient_id', 'full') \\\n",
        "          #.join(dfPhysicalActivity, 'Patient_id', 'full') \\\n",
        "          #.join(dfSQS, 'Patient_id', 'full') \\\n",
        "          #.join(dfImpairedCognition, 'Patient_id', 'full') \\\n",
        "          #.join(dfDepression, 'Patient_id', 'full') \\\n",
        "#dfPatientInfo.filter(col('BMI').isNotNull()).drop('effectiveDateTime').show(truncate=False)"
      ]
    },
    {
      "cell_type": "code",
      "source": [
        "dfPatientInfo.show()\n",
        "#dfPatientInfoPandas = dfPatientInfo.toPandas()\n",
        "#dfPatientInfoPandas.to_json('info_dataset.json', orient='records')"
      ],
      "metadata": {
        "id": "dfMZ6LfQnz78",
        "colab": {
          "base_uri": "https://localhost:8080/"
        },
        "outputId": "0582cf4b-5eb5-40b8-c75a-d9e65c7b6fb1"
      },
      "execution_count": null,
      "outputs": [
        {
          "output_type": "stream",
          "name": "stdout",
          "text": [
            "+----------+---+------+------------------+---------------------+--------------+----+--------------+-------------------+---------+\n",
            "|Patient_id|Age|gender|Educational Status|Household Composition|Smoking Status| BMI|Alcohol Intake|  effectiveDateTime|GDS Score|\n",
            "+----------+---+------+------------------+---------------------+--------------+----+--------------+-------------------+---------+\n",
            "|1015271899|  2|  Male| Elementary school|    Lives with family|          NULL|NULL|          NULL|               NULL|     NULL|\n",
            "|1045034429| 70|  Male| Elementary school|                 NULL|          NULL|NULL|          NULL|               NULL|     NULL|\n",
            "|1065442966| 68|Female|        University|    Lives with family| Former smoker|31.4|          NULL|2021-12-07 22:53:12|        6|\n",
            "|1065442966| 68|Female|        University|    Lives with family| Former smoker|31.4|          NULL|2022-08-13 17:57:54|       12|\n",
            "|1067687190| 78|Female|              NULL|                 NULL|          NULL|NULL|          NULL|               NULL|     NULL|\n",
            "|1079961145| 72|Female| Elementary school|    Lives with family|  Never smoker|26.6|          NULL|2022-10-21 01:13:16|        0|\n",
            "|1086760558| 72|Female|        University|          Lives alone|  Never smoker|NULL|          NULL|               NULL|     NULL|\n",
            "|1135122000| 82|Female|              NULL|                 NULL|          NULL|NULL|          NULL|               NULL|     NULL|\n",
            "|1142775641| 73|Female| Elementary school|                 NULL|          NULL|NULL|          NULL|               NULL|     NULL|\n",
            "|1158131383| 68|  Male| Elementary school|    Lives with family| Former smoker|NULL|          NULL|2022-10-06 21:22:59|        0|\n",
            "+----------+---+------+------------------+---------------------+--------------+----+--------------+-------------------+---------+\n",
            "only showing top 10 rows\n",
            "\n"
          ]
        }
      ]
    },
    {
      "cell_type": "markdown",
      "metadata": {
        "id": "56i9QIDtYXJA"
      },
      "source": [
        "# Conditions"
      ]
    },
    {
      "cell_type": "markdown",
      "metadata": {
        "id": "hQ20_NXKej19"
      },
      "source": [
        "## Conditions encoding"
      ]
    },
    {
      "cell_type": "code",
      "execution_count": null,
      "metadata": {
        "id": "qYKZ0meGeiu2"
      },
      "outputs": [],
      "source": [
        "'''\n",
        "  return 'yes' or 'no' depending if the 'x' is contained in 'positivePatients'\n",
        "'''\n",
        "@udf(\"int\")\n",
        "def EncodeInList (x, positivePatients):\n",
        "  if x in positivePatients:\n",
        "    return 1\n",
        "  else:\n",
        "     return 0\n",
        "\n",
        "'''\n",
        "  label encoding for conditions\n",
        "'''\n",
        "from pyspark.ml.feature import StringIndexer\n",
        "\n",
        "def labelEncoding(df, colName):\n",
        "  indexer = StringIndexer(inputCol=colName, outputCol='encoded')\n",
        "  df = indexer.fit(df).transform(df)\n",
        "  return df.drop(colName).withColumnRenamed('encoded', colName)"
      ]
    },
    {
      "cell_type": "markdown",
      "source": [
        "# Locomotion"
      ],
      "metadata": {
        "id": "SYw4W3KkNVAS"
      }
    },
    {
      "cell_type": "markdown",
      "source": [
        "## Number of Falls"
      ],
      "metadata": {
        "id": "6jS3KWj1NY2Z"
      }
    },
    {
      "cell_type": "code",
      "execution_count": null,
      "metadata": {
        "id": "1o0BHRSup1Ha"
      },
      "outputs": [],
      "source": [
        "# Number of falls last year (so if data retrieved in 2022, falls are referred to 2021) - 391002003\n",
        "dfLastYearFalls = dfObservations.filter((dfObservations.code_coding_code == '391002003'))\n",
        "dfLastYearFalls = codeExtraction(dfObservations, code='391002003', new_name=\"Number of Falls in Last Year\", whichCode='code_coding_code', whichValue='valueInteger')\n",
        "#dfLastYearFalls.orderBy('Patient_id').show(100, truncate=False)\n",
        "#dfLastYearFalls.select('Patient_id', 'effectiveDateTime').distinct().groupBy('Patient_id').count().orderBy('Patient_id').show(100, truncate=False)\n",
        "\n",
        "# Tendency to fall - 279992002    all NULL\n",
        "#dfFallTendency = dfConditions.filter((dfConditions.code_coding_code == '279992002'))"
      ]
    },
    {
      "cell_type": "markdown",
      "source": [
        "## Physical Activity"
      ],
      "metadata": {
        "id": "8alKhro3UJYq"
      }
    },
    {
      "cell_type": "code",
      "source": [
        "# Number of steps - 55423-8\n",
        "dfNumberSteps = codeExtractionWithTime(dfObservations, code='55423-8', new_name=\"Number of steps\", whichCode='code_coding_code', whichValue='valueQuantity_value')\n",
        "#dfNumberSteps.orderBy('Patient_id', 'effectiveDateTime').show()\n",
        "# sum of all daily steps\n",
        "dfNumberSteps = dfNumberSteps.withColumn('effectiveDateTime', to_date('effectiveDateTime'))\\\n",
        "                  .groupBy(['effectiveDateTime', 'Patient_id']).agg(sum_('Number of steps').alias('Number of steps'))\n",
        "\n",
        "# Walked Distance - 41953-1\n",
        "# [meter] or when NULL is [kilometer] --> transform all in 'meter'\n",
        "dfDistanceWalked = dfObservations.filter(dfObservations.code_coding_code == '41953-1').select('effectiveDateTime', 'Patient_id', 'valueQuantity_unit', col('valueQuantity_value').alias('Walked Distance'))\n",
        "dfDistanceWalked = dfDistanceWalked.withColumn('Walked Distance', \\\n",
        "                                               when(col('valueQuantity_unit').isNull(), \\\n",
        "                                                    col('Walked Distance')*1000)).select('effectiveDateTime', 'Patient_id', 'Walked Distance')\n",
        "#dfDistanceWalked = codeExtractionWithTime(dfObservations, code='41953-1', new_name=\"Walked Distance (meter)\", whichCode='code_coding_code', whichValue='valueQuantity_value')\n",
        "dfDistanceWalked = dfDistanceWalked.withColumn('effectiveDateTime', to_date('effectiveDateTime'))\\\n",
        "                    .groupBy(['effectiveDateTime', 'Patient_id']).agg(mean_('Walked Distance').alias('Walked Distance'))\n",
        "#dfDistanceWalked.orderBy('Patient_id', 'effectiveDateTime').show()\n",
        "\n",
        "\n",
        "'''dfNumberSteps = computePersonalizedZScore(dfNumberSteps, 'Number of steps')\n",
        "dfNumberSteps = performanceScore(dfNumberSteps, 6565, 1530, lowerRisk = 4000, zscoreColumn='Number of steps_zscore', rename = 'Number of steps_ps')\n",
        "#dfNumberSteps.orderBy('Patient_id', 'effectiveDateTime').show(truncate=False)\n",
        "\n",
        "dfDistanceWalked = computePersonalizedZScore(dfDistanceWalked, 'Walked Distance')\n",
        "dfDistanceWalked = performanceScore(dfDistanceWalked, 3939, 918, lowerRisk = 2400, zscoreColumn='Walked Distance_zscore', rename = 'Walked Distance_ps') # conversion from steps to km: steps*0,6\n",
        "'''\n",
        "'''dfPhysicalActivity = dfNumberSteps.select('effectiveDateTime', 'Patient_id', 'Number of steps_ps', 'id') \\\n",
        "                          .join(dfDistanceWalked.select('effectiveDateTime', 'Patient_id', 'Walked Distance_ps', 'id'), \\\n",
        "                           ['Patient_id', 'effectiveDateTime', 'id'], 'full')\n",
        "dfPhysicalActivity.show(10, truncate=False)'''\n",
        "#dfPhysicalActivity.na.drop().count()"
      ],
      "metadata": {
        "id": "OcS0VZSjUbq3",
        "colab": {
          "base_uri": "https://localhost:8080/",
          "height": 72
        },
        "outputId": "61296488-30a2-40e1-adb3-2820c8e397e4"
      },
      "execution_count": null,
      "outputs": [
        {
          "output_type": "execute_result",
          "data": {
            "text/plain": [
              "\"dfPhysicalActivity = dfNumberSteps.select('effectiveDateTime', 'Patient_id', 'Number of steps_ps', 'id')                           .join(dfDistanceWalked.select('effectiveDateTime', 'Patient_id', 'Walked Distance_ps', 'id'),                            ['Patient_id', 'effectiveDateTime', 'id'], 'full')\\ndfPhysicalActivity.show(10, truncate=False)\""
            ],
            "application/vnd.google.colaboratory.intrinsic+json": {
              "type": "string"
            }
          },
          "metadata": {},
          "execution_count": 51
        }
      ]
    },
    {
      "cell_type": "code",
      "source": [
        "#logisticFunctionPlot(3505, 6565, 1530, 3000)\n",
        "#plotPatientPerformanceScore(dfNumberSteps, '1065442966', 'Number of steps_ps')"
      ],
      "metadata": {
        "id": "sRoWjbq7LF3Z"
      },
      "execution_count": null,
      "outputs": []
    },
    {
      "cell_type": "markdown",
      "source": [
        "## Speed Gait/Individual Autonomy"
      ],
      "metadata": {
        "id": "n9ESIByW6sxj"
      }
    },
    {
      "cell_type": "code",
      "source": [
        "# 5 questionnaires: RGA, FES-I, ABC, FGA, Mini-BEST and RAPA score\n",
        "# only RGA has substantial data\n",
        "# we can use: frailScore, sarcopeniaScore\n",
        "# https://www.slu.edu/medicine/internal-medicine/geriatric-medicine/aging-successfully/pdfs/rga_form_4-6-17.pdf\n",
        "dfFrail = dfRGA.filter(dfRGA.item_linkId == 'frailScore').withColumnRenamed('item_answer_valueInteger', 'Frail Score') \\\n",
        "                .select('effectiveDateTime', 'Patient_id', 'Frail Score')\n",
        "dfSarcopenia = dfRGA.filter(dfRGA.item_linkId == 'sarcopeniaScore').withColumnRenamed('item_answer_valueInteger', 'Sarcopenia Score') \\\n",
        "                .select('effectiveDateTime', 'Patient_id', 'Sarcopenia Score')\n",
        "\n",
        "'''\n",
        "  >= 3    --> Frail\n",
        "  1 or 2  --> pre frail\n",
        "'''\n",
        "#dfFrail = computePersonalizedZScore(dfFrail, 'Frail Score')\n",
        "#dfFrail = performanceScore(dfFrail, 0, 0, 'Frail Score', lowerRisk=3, zscoreColumn='Frail Score_zscore', rename = 'Frail Score_ps')\n",
        "#dfFrail.orderBy('Patient_id', 'effectiveDateTime').show(truncate=False)\n",
        "\n",
        "'''\n",
        "  >= 4  --> sarcopenia\n",
        "'''\n",
        "#dfSarcopenia = computePersonalizedZScore(dfSarcopenia, 'Sarcopenia Score')\n",
        "#dfSarcopenia = performanceScore(dfSarcopenia, 0, 0, 'Sarcopenia Score', lowerRisk = 4, zscoreColumn='Sarcopenia Score_zscore', rename = 'Sarcopenia Score_ps') # conversion from steps to km: steps*0,6\n",
        "#dfSarcopenia.show()\n",
        "\n",
        "# swaying gait - 69021004\n",
        "#dfObservations.filter(dfObservations.code_coding_code == '1160').select('component_code_coding_display').distinct().show(truncate=False)\n",
        "\n",
        "# 228449008 - Time spent exercising\n",
        "#dfObservations.filter(dfObservations.component_code_coding_code == '228450008').show(10, truncate=False)\n"
      ],
      "metadata": {
        "id": "K0CQaB606xYW",
        "colab": {
          "base_uri": "https://localhost:8080/",
          "height": 36
        },
        "outputId": "c78f3729-b9e2-4289-81fb-d57a559910c4"
      },
      "execution_count": null,
      "outputs": [
        {
          "output_type": "execute_result",
          "data": {
            "text/plain": [
              "'\\n  >= 4  --> sarcopenia\\n'"
            ],
            "application/vnd.google.colaboratory.intrinsic+json": {
              "type": "string"
            }
          },
          "metadata": {},
          "execution_count": 53
        }
      ]
    },
    {
      "cell_type": "markdown",
      "source": [
        "# Sensory"
      ],
      "metadata": {
        "id": "h7Cn_yzDbQQk"
      }
    },
    {
      "cell_type": "markdown",
      "source": [
        "## Hearing Capacity"
      ],
      "metadata": {
        "id": "6CisH_QljYXY"
      }
    },
    {
      "cell_type": "code",
      "source": [
        "# Family history of hearing loss - 439750006\n",
        "dfHearLossFamilyHistory = codeExtraction(dfObservations, code='439750006', new_name=\"Hearing Loss Family History\", whichCode='code_coding_code', whichValue='valueCodeableConcept_coding_display')\n",
        "\n",
        "# Hearing loss - 15188001\n",
        "\n",
        "sensoryConditions = [\n",
        "    ('Hearing Loss', '15188001'), # 'confirmed' or 'No history of hearing loss'\n",
        "    ('BPPV', '111541001'),\n",
        "    ('Vertigo', '399153001'),\n",
        "    ('Dizziness', '404640003'),\n",
        "    ('Meniere', '13445001')\n",
        "]\n",
        "#'verificationStatus_coding_code' all to NULL --> if in Conditions than they have the condition\n",
        "\n",
        "list_patient = dfConditions.filter(dfConditions.code_coding_code == sensoryConditions[0][1]) \\\n",
        "                          .distinct().rdd.map(lambda x: x.Patient_id).collect()\n",
        "dfSensoryConditions = dfObservations.select('Patient_id').distinct().withColumn(sensoryConditions[0][0], EncodeInList('Patient_id', lit(list_patient)))\n",
        "\n",
        "for x in sensoryConditions[1:]:\n",
        "  list_patient = dfConditions\\\n",
        "                      .filter(dfConditions.code_coding_code == x[1]) \\\n",
        "                      .distinct().rdd.map(lambda x: x.Patient_id).collect()\n",
        "  dfSensoryConditions = dfSensoryConditions.withColumn(x[0], EncodeInList('Patient_id', lit(list_patient)))\n",
        "  #dfSensoryConditions = labelEncoding(dfSensoryConditions, x[0])\n",
        "dfSensoryConditions = conditionsPerformanceScore(dfSensoryConditions, dfSensoryConditions.columns[1:], 'Sensory_conditions_ps')\n",
        "\n",
        "# Does user hearing aid - 285055002\n",
        "# missing data of the patient 'using hearing aid'\n",
        "dfUseHearingAid = codeExtraction(dfObservations, code='285055002', new_name=\"Use Hearing Aid\", whichCode='code_coding_code', whichValue='valueCodeableConcept_coding_display')\n",
        "#dfUseHearingAid.select('Use Hearing Aid').distinct().show(truncate=False)"
      ],
      "metadata": {
        "id": "aj14PyEAc7Cs"
      },
      "execution_count": null,
      "outputs": []
    },
    {
      "cell_type": "markdown",
      "source": [
        "# Psychological"
      ],
      "metadata": {
        "id": "NMn657okycNd"
      }
    },
    {
      "cell_type": "markdown",
      "source": [
        "## Sleep"
      ],
      "metadata": {
        "id": "D39NCZKRyhMf"
      }
    },
    {
      "cell_type": "code",
      "source": [
        "# Sleep Disorder - 39898005\n",
        "#dfSleepDisorderNegative = codeExtraction(dfObservations, code='39898005', new_name='Sleep Disorder', whichValue='valueCodeableConcept_coding_display')\n",
        "#dfSleepDisorderConfirmed = dfConditions.filter(dfConditions.code_coding_code == '39898005').dropDuplicates(['Patient_id']).select('Patient_id', 'verificationStatus_coding_code').withColumnRenamed('verificationStatus_coding_code', 'Sleep Disorder')\n",
        "#dfSleepDisorder = dfSleepDisorderNegative.union(dfSleepDisorderConfirmed)\n",
        "list_patient = dfConditions.filter(dfConditions.code_coding_code == '39898005') \\\n",
        "                          .distinct().rdd.map(lambda x: x.Patient_id).collect()\n",
        "dfSleepDisorder = dfObservations.select('Patient_id').distinct().withColumn(\"Sleep Disorder\", EncodeInList(\"Patient_id\", lit(list_patient)))\n",
        "#dfSleepDisorder = labelEncoding(dfSleepDisorder, 'Sleep Disorder')\n",
        "\n",
        "'''\n",
        "Recommended level (lower bound)\n",
        "total sleep time: 7-8 hours ---- mean: 7.38h --- std: 0.88  https://www.researchgate.net/figure/Sleep-duration-hours-mean-standard-deviation-in-each-of-the-four-questionnaires_tbl1_344226131\n",
        "light sleep: no minimum required, so? but can't find an upper bound\n",
        "deep sleep: 105 minutes minimum or 1.75 hours ---- mean: ---- std:\n",
        "'''\n",
        "\n",
        "# Light sleep duration [hours] - 93830-8\n",
        "dfLightSleepDuration = codeExtractionWithTime(dfObservations, code='93830-8', new_name='Light Sleep Duration', whichValue='valueQuantity_value')\n",
        "dfLightSleepDuration = dfLightSleepDuration.withColumn('effectiveDateTime', to_date('effectiveDateTime')) \\\n",
        "                        .groupBy(['Patient_id', 'effectiveDateTime']).agg(max_('Light Sleep Duration').alias('Light Sleep Duration'))\n",
        "\n",
        "# Deep sleep duration [hours] - 93831-6\n",
        "dfDeepSleepDuration = codeExtractionWithTime(dfObservations, code='93831-6', new_name='Deep Sleep Duration', whichValue='valueQuantity_value')\n",
        "dfDeepSleepDuration = dfDeepSleepDuration.withColumn('effectiveDateTime', to_date('effectiveDateTime')) \\\n",
        "                        .groupBy(['Patient_id', 'effectiveDateTime']).agg(max_('Deep Sleep Duration').alias('Deep Sleep Duration'))\n",
        "\n",
        "# Sleep duration [hours] - 93832-4\n",
        "#dfSleepDuration = dfObservations.filter((dfObservations.code_coding_code == '93832-4'))\n",
        "dfSleepDuration = codeExtractionWithTime(dfObservations, code='93832-4', new_name='Sleep Duration', whichValue='valueQuantity_value')\n",
        "dfSleepDuration = dfSleepDuration.withColumn('effectiveDateTime', to_date('effectiveDateTime')) \\\n",
        "                        .groupBy(['Patient_id', 'effectiveDateTime']).agg(max_('Sleep Duration').alias('Sleep Duration'))\n",
        "\n",
        "#dfLightSleepDuration.orderBy('Patient_id', 'effectiveDateTime').show(truncate=False)\n",
        "#dfDeepSleepDuration.orderBy('Patient_id', 'effectiveDateTime').show(truncate=False)\n",
        "#dfSleepDuration.orderBy('Patient_id', 'effectiveDateTime').show(truncate=False)\n",
        "\n",
        "# zscores\n",
        "#dfLightSleepDuration = computePersonalizedZScore(dfLightSleepDuration, 'Light Sleep Duration')\n",
        "#dfLightSleepDuration = performanceScore(dfLightSleepDuration, 7.38, 0.88, 'Light Sleep Duration', lowerRisk = 0, zscoreColumn='Light Sleep Duration_zscore', rename = 'Light Sleep Duration_ps')\n",
        "#dfLightSleepDuration.show()\n",
        "\n",
        "#dfDeepSleepDuration = computePersonalizedZScore(dfDeepSleepDuration, 'Deep Sleep Duration')\n",
        "#dfDeepSleepDuration = performanceScore(dfDeepSleepDuration, 0, 0, 'Deep Sleep Duration', lowerRisk = 1.75, zscoreColumn='Deep Sleep Duration_zscore', rename = 'Deep Sleep Duration_ps')\n",
        "#dfDeepSleepDuration.show()\n",
        "\n",
        "#dfSleepDuration = computePersonalizedZScore(dfSleepDuration, 'Sleep Duration')\n",
        "#dfSleepDuration = performanceScore(dfSleepDuration, 0, 0, 'Sleep Duration', lowerRisk = 7, zscoreColumn='Sleep Duration_zscore', rename = 'Sleep Duration_ps')\n",
        "#dfSleepDuration.show()\n",
        "\n",
        "'''dfSleep = dfSleepDuration.select('effectiveDateTime', 'Patient_id', 'Sleep Duration_ps') \\\n",
        "          .join(dfLightSleepDuration.select('effectiveDateTime', 'Patient_id', 'Light Sleep Duration_ps'), \\\n",
        "           ['Patient_id', 'effectiveDateTime'], 'full') \\\n",
        "          .join(dfDeepSleepDuration.select('effectiveDateTime', 'Patient_id', 'Deep Sleep Duration_ps'), \\\n",
        "           ['Patient_id', 'effectiveDateTime'], 'full')'''\n",
        "#dfSleep.show(10)"
      ],
      "metadata": {
        "id": "TgHHrsi-yeOf",
        "colab": {
          "base_uri": "https://localhost:8080/",
          "height": 72
        },
        "outputId": "4c880b4f-9261-43f9-cdea-337c2f3e3f7e"
      },
      "execution_count": null,
      "outputs": [
        {
          "output_type": "execute_result",
          "data": {
            "text/plain": [
              "\"dfSleep = dfSleepDuration.select('effectiveDateTime', 'Patient_id', 'Sleep Duration_ps')           .join(dfLightSleepDuration.select('effectiveDateTime', 'Patient_id', 'Light Sleep Duration_ps'),            ['Patient_id', 'effectiveDateTime'], 'full')           .join(dfDeepSleepDuration.select('effectiveDateTime', 'Patient_id', 'Deep Sleep Duration_ps'),            ['Patient_id', 'effectiveDateTime'], 'full')\""
            ],
            "application/vnd.google.colaboratory.intrinsic+json": {
              "type": "string"
            }
          },
          "metadata": {},
          "execution_count": 55
        }
      ]
    },
    {
      "cell_type": "code",
      "source": [
        "#logisticFunctionPlot(6.30, 7.38, 0.88, 7)"
      ],
      "metadata": {
        "id": "FgQlWs0YMAeP"
      },
      "execution_count": null,
      "outputs": []
    },
    {
      "cell_type": "markdown",
      "source": [
        "## Lifestyle Habits"
      ],
      "metadata": {
        "id": "SdNZlMMK4zm-"
      }
    },
    {
      "cell_type": "code",
      "source": [
        "# no data?"
      ],
      "metadata": {
        "id": "PxtQ85BC44vb"
      },
      "execution_count": null,
      "outputs": []
    },
    {
      "cell_type": "markdown",
      "source": [
        "## Mood"
      ],
      "metadata": {
        "id": "rxRTzmC45Jme"
      }
    },
    {
      "cell_type": "code",
      "source": [
        "# Activity - no data? menu of the mobile app\n",
        "# Humidity and Light levels - no data? coming from smart home devices\n",
        "\n",
        "# Sleep - same as 'Sleep' variable\n",
        "\n",
        "# Depression --> 35489007\n",
        "list_patient = dfConditions\\\n",
        "                      .filter((dfConditions.code_coding_code == '35489007') & \\\n",
        "                      (dfConditions.verificationStatus_coding_code == 'confirmed')) \\\n",
        "                      .distinct().rdd.map(lambda x: x.Patient_id).collect()\n",
        "dfDepression = dfObservations.select('Patient_id').distinct().withColumn(\"Depression\", EncodeInList(\"Patient_id\", lit(list_patient)))\n",
        "#dfDepression = labelEncoding(dfDepression, 'Depression')\n",
        "\n",
        "# Anxiety 197480006\n",
        "list_patient = dfConditions\\\n",
        "                      .filter((dfConditions.code_coding_code == '197480006') & \\\n",
        "                      (dfConditions.verificationStatus_coding_code == 'confirmed')) \\\n",
        "                      .distinct().rdd.map(lambda x: x.Patient_id).collect()\n",
        "dfAnxiety = dfObservations.select('Patient_id').distinct().withColumn(\"Anxiety\", EncodeInList(\"Patient_id\", lit(list_patient)))\n",
        "#dfAnxiety = labelEncoding(dfAnxiety, 'Anxiety')\n",
        "\n",
        "# PHQ 9 questionnaire\n",
        "# >= 10 --> moderate to severe depression : https://www.demenzemedicinagenerale.net/images/test/PHQ-9_Ok_20-2-2016.pdf\n",
        "dfPHQ9 = dfQuestionnaireResponses.filter(dfQuestionnaireResponses.questionnaire.like('%PHQ-9Questionnaire%')) \\\n",
        "                                         .withColumnRenamed('meta_lastUpdated', 'effectiveDateTime') \\\n",
        "                                         .dropDuplicates(['id', 'effectiveDateTime', 'Patient_id', 'item_linkId']) \\\n",
        "                                         .groupBy('effectiveDateTime', 'Patient_id').agg(sum_('item_answer_valueInteger').alias('PHQ9 Score')) \\\n",
        "                                         .select('effectiveDateTime', 'Patient_id', 'PHQ9 Score') \\\n",
        "                                         .orderBy('Patient_id', 'effectiveDateTime')\n",
        "#dfPHQ9 = computeZScore(dfPHQ9, 'PHQ9 Score')\n",
        "#dfPHQ9 = performanceScore(dfPHQ9, 0, 0, 'PHQ9 Score', lowerRisk=10, zscoreColumn = 'PHQ9 Score_zscore', rename = 'PHQ9 Score_ps')\n",
        "\n",
        "# GDS questionnaire\n",
        "# >= 5 equals to depression : https://geriatrictoolkit.missouri.edu/cog/GDS_SHORT_FORM.PDF\n",
        "# 15 questions, 0-14 are the question, the 15th is the total score\n",
        "dfGDS = dfQuestionnaireResponses.filter((col('questionnaire').like(\"%GDS%\")) & (col('item_linkId') == 15)).dropDuplicates()\n",
        "dfGDS = dfGDS.withColumnRenamed('item_answer_valueInteger', 'GDS Score').withColumnRenamed('meta_lastUpdated', 'effectiveDateTime') \\\n",
        "             .select('effectiveDateTime', 'Patient_id','GDS Score') \\\n",
        "             .orderBy('Patient_id', 'effectiveDateTime')\n",
        "#dfGDS = computeZScore(dfGDS, 'GDS Score')\n",
        "#dfGDS = performanceScore(dfGDS, 0, 0, 'GDS Score', lowerRisk=5, zscoreColumn = 'GDS Score_zscore', rename = 'GDS Score_ps')\n",
        "\n",
        "#dfDepression.show(5)\n",
        "#dfAnxiety.show(5)"
      ],
      "metadata": {
        "id": "voBqB_tn5Irb"
      },
      "execution_count": null,
      "outputs": []
    },
    {
      "cell_type": "markdown",
      "source": [
        "## Psychological conditions"
      ],
      "metadata": {
        "id": "HzTl0SlXKI_T"
      }
    },
    {
      "cell_type": "code",
      "source": [
        "dfPsychologicalConditions = dfSleepDisorder.join(dfDepression, ['Patient_id']).join(dfAnxiety, ['Patient_id'])\n",
        "dfPsychologicalConditions = conditionsPerformanceScore(dfPsychologicalConditions, ['Sleep Disorder', 'Depression', 'Anxiety'], 'Psychological_conditions_ps')\n",
        "#dfPsychologicalConditions.show()"
      ],
      "metadata": {
        "id": "7QUo7vvqKIVg"
      },
      "execution_count": null,
      "outputs": []
    },
    {
      "cell_type": "markdown",
      "source": [
        "# Cognition"
      ],
      "metadata": {
        "id": "YASDF-6tAi1h"
      }
    },
    {
      "cell_type": "markdown",
      "source": [
        "## Medication/Cognitive Games"
      ],
      "metadata": {
        "id": "MiRzFuV4A2XE"
      }
    },
    {
      "cell_type": "code",
      "source": [
        "# no data??"
      ],
      "metadata": {
        "id": "fBP4qZwIA7F-"
      },
      "execution_count": null,
      "outputs": []
    },
    {
      "cell_type": "markdown",
      "source": [
        "## Cognitive Decline"
      ],
      "metadata": {
        "id": "ZXm9UwxoApRc"
      }
    },
    {
      "cell_type": "code",
      "source": [
        "# MoCA questionnaire\n",
        "dfMOCA = dfQuestionnaireResponses.filter((dfQuestionnaireResponses.questionnaire.like('%MOCA%')) & (dfQuestionnaireResponses.item_linkId == 'score')) \\\n",
        "          .dropDuplicates(['id'])\n",
        "dfMOCA = dfMOCA.select('meta_lastUpdated', 'Patient_id', 'item_answer_valueInteger') \\\n",
        "          .withColumnRenamed('item_answer_valueInteger', 'MOCA Score').withColumnRenamed('meta_lastUpdated', 'effectiveDateTime')\n",
        "#dfMOCA = computeZScore(dfMOCA, 'MOCA Score')\n",
        "# global mean and std: https://www.elsevier.es/en-revista-neurologia-english-edition--495-articulo-standardised-results-montreal-cognitive-assessment-S2173580822000517#:~:text=The%20mean%20(SD)%20overall%20MoCA,t%20%3D%200.372%20%5BP%20%3D%20.\n",
        "# >= 26 normale (< 26 at risk)\n",
        "#dfMOCA = performanceScore(dfMOCA, 24.1, 3.13, lowerRisk = 26, zscoreColumn='MOCA Score_zscore', rename = 'MOCA Score_ps')\n",
        "#dfMOCA.orderBy('Patient_id', 'effectiveDateTime').show(10)\n",
        "\n",
        "#  RGA questionnaire -- RCS (Rapid Cognitive Screen) score\n",
        "# <= 7 --- Mild cognitive impairment to dementia : https://www.slu.edu/medicine/internal-medicine/geriatric-medicine/aging-successfully/pdfs/rga_form_4-6-17.pdf\n",
        "dfRCS = dfRGA.filter(dfRGA.item_linkId == 'RCS').withColumnRenamed('item_answer_valueInteger', 'RCS Score') \\\n",
        "                .select('effectiveDateTime', 'Patient_id', 'RCS Score')\n",
        "#dfRCS = computeZScore(dfRCS, 'RCS Score')\n",
        "#dfRCS = performanceScore(dfRCS, 0, 0, 'RCS Score', lowerRisk=7, zscoreColumn='RCS Score_zscore', rename = 'RCS Score_ps')\n",
        "#dfRCS.orderBy('Patient_id', 'effectiveDateTime').show(truncate=False)\n",
        "\n",
        "# Impaired Cognition - 386806002\n",
        "list_patient = list(dfObservations.filter((dfObservations.code_coding_display == 'Impaired cognition') & \\\n",
        "                                           (dfObservations.valueCodeableConcept_coding_display != 'Normal cognition')).distinct().toPandas()['Patient_id'])\n",
        "list_patient.extend(list(dfConditions.filter((dfConditions.code_coding_display == 'Impaired cognition') & \\\n",
        "                                              (dfConditions.verificationStatus_coding_code == 'confirmed')).distinct().toPandas()['Patient_id']))\n",
        "dfImpairedCognition = dfObservations.withColumn(\"History of Mild Cognitive Impairment\", EncodeInList(\"Patient_id\", lit(list_patient)))\\\n",
        "                            .select('Patient_id','History of Mild Cognitive Impairment')\\\n",
        "                            .dropDuplicates(['Patient_id','History of Mild Cognitive Impairment'])\n",
        "#dfImpairedCognition = labelEncoding(dfImpairedCognition, 'History of Mild Cognitive Impairment')\n",
        "#dfImpairedCognition.show(15)\n"
      ],
      "metadata": {
        "id": "_BX1UvyTAoHk"
      },
      "execution_count": null,
      "outputs": []
    },
    {
      "cell_type": "markdown",
      "source": [
        "## Cognition conditions"
      ],
      "metadata": {
        "id": "xdpPnQF9LyyK"
      }
    },
    {
      "cell_type": "code",
      "source": [
        "dfCognitionConditions = conditionsPerformanceScore(dfImpairedCognition, ['History of Mild Cognitive Impairment'], 'Cognition_conditions_ps')\n",
        "#dfCognitionConditions.show()"
      ],
      "metadata": {
        "id": "5xzgXiEKL1iw"
      },
      "execution_count": null,
      "outputs": []
    },
    {
      "cell_type": "markdown",
      "source": [
        "# Vitality"
      ],
      "metadata": {
        "id": "k_ujmYbEJuZa"
      }
    },
    {
      "cell_type": "markdown",
      "source": [
        "## Weight Loss"
      ],
      "metadata": {
        "id": "TAppa2GzJxtX"
      }
    },
    {
      "cell_type": "code",
      "source": [
        "# MNA questionnaire\n",
        "'''\n",
        "valutazione MNA long form\n",
        "24-30   : normal nutritional status (>= 24)\n",
        "17-23.5 : at risk of malnutrition\n",
        "< 17    : malnourished\n",
        "\n",
        "MNA-SF: short form (our should be this):\n",
        "  >= 12 : normal nutritional status\n",
        "  8-11  : at risk of malnutrition\n",
        "  0-7   : malnourished\n",
        "'''\n",
        "dfMNA = dfQuestionnaireResponses.filter((dfQuestionnaireResponses.questionnaire.like('%mna%')) & (dfQuestionnaireResponses.item_linkId == 'score'))\n",
        "dfMNA = dfMNA.dropDuplicates(['id']).select('meta_lastUpdated', 'Patient_id', 'item_answer_valueInteger') \\\n",
        "              .withColumnRenamed('item_answer_valueInteger', 'MNA Score').withColumnRenamed('meta_lastUpdated', 'effectiveDateTime')\n",
        "\n",
        "# RGA questionnaire --> SNAQ score (Simplified Nutritional Assessment Questionnaire)\n",
        "'''\n",
        "snaqScore <= 14 : significant risk of at least 5% weight loss within 6 months\n",
        "'''\n",
        "dfSNAQ = dfRGA.filter(dfRGA.item_linkId == 'snaqScore').dropDuplicates(['id']) \\\n",
        "              .select('effectiveDateTime', 'Patient_id', 'item_answer_valueInteger') \\\n",
        "              .withColumnRenamed('item_answer_valueInteger', 'SNAQ score')\n",
        "\n",
        "# Body weight - 29463-7\n",
        "dfBodyWeight = codeExtractionWithTime(dfObservations, code='29463-7', new_name='Body Weight', whichValue='valueQuantity_value')\n",
        "\n",
        "# compute zscore and perfomance score\n",
        "# global mean and std: https://pubmed.ncbi.nlm.nih.gov/25809801/\n",
        "#dfMNA = computeZScore(dfMNA, 'MNA Score')\n",
        "#dfMNA = performanceScore(dfMNA, 9.8, 2.4, lowerRisk = 12, zscoreColumn='MNA Score_zscore', rename = 'MNA Score_ps')\n",
        "#dfMNA.orderBy('Patient_id', 'effectiveDateTime').show(10)\n",
        "\n",
        "# global mean and std: https://www.researchgate.net/publication/370439474_Validity_and_Reliability_of_the_Persian_Version_of_the_Council_on_Nutrition_Appetite_Questionnaire_and_Its_Simplified_Version_in_Iranian_Community-Dwelling_Older_Adults\n",
        "#dfSNAQ = computeZScore(dfSNAQ, 'SNAQ Score')\n",
        "#dfSNAQ = performanceScore(dfSNAQ, 14.28, 2.34, lowerRisk = 14, zscoreColumn='SNAQ Score_zscore', rename = 'SNAQ Score_ps')\n",
        "#dfSNAQ.orderBy('Patient_id', 'effectiveDateTime').show(10)"
      ],
      "metadata": {
        "id": "zksJN8s7JweI"
      },
      "execution_count": null,
      "outputs": []
    },
    {
      "cell_type": "markdown",
      "source": [
        "## Hearth Rate"
      ],
      "metadata": {
        "id": "t9yQGJEI7Gbq"
      }
    },
    {
      "cell_type": "code",
      "source": [
        "# is this an assessment?\n",
        "#dfObservations.filter(dfObservations.code_coding_code == '68999-2').orderBy('Patient_id', 'effectiveDateTime').show(truncate=False)\n",
        "\n",
        "# Average Heart Rate [b/min] - 55425-3\n",
        "dfAvgHeartRate = codeExtractionWithTime(dfObservations, code='55425-3', new_name=\"Average Heart Rate\", whichCode='code_coding_code', whichValue='valueQuantity_value')\n",
        "dfAvgHeartRate = dfAvgHeartRate.withColumn('effectiveDateTime', to_date('effectiveDateTime'))\\\n",
        "                    .groupBy(['effectiveDateTime', 'Patient_id']).agg(mean_('Average Heart Rate').alias('Average Heart Rate'))\n",
        "\n",
        "# Max heart rate [b/min] - 55426-1\n",
        "dfMaxHeartRate = codeExtractionWithTime(dfObservations, code='55426-1', new_name=\"Max Heart Rate\", whichCode='code_coding_code', whichValue='valueQuantity_value')\n",
        "dfMaxHeartRate = dfMaxHeartRate.withColumn('effectiveDateTime', to_date('effectiveDateTime'))\\\n",
        "                    .groupBy(['effectiveDateTime', 'Patient_id']).agg(mean_('Max Heart Rate').alias('Max Heart Rate'))\n",
        "\n",
        "# Min heart rate [b/min] - 96935-2\n",
        "dfMinHeartRate = codeExtractionWithTime(dfObservations, code='96935-2', new_name=\"Min Heart Rate\", whichCode='code_coding_code', whichValue='valueQuantity_value')\n",
        "dfMinHeartRate = dfMinHeartRate.withColumn('effectiveDateTime', to_date('effectiveDateTime'))\\\n",
        "                    .groupBy(['effectiveDateTime', 'Patient_id']).agg(mean_('Min Heart Rate').alias('Min Heart Rate'))\n",
        "\n",
        "# https://www.healthline.com/health/dangerous-heart-rate\n",
        "# upper bound: about 100-120 bpm --> 110 bpm\n",
        "# lower bound: 60 bpm\n",
        "# average: betwenn 70 - 100\n",
        "#dfMaxHeartRate = computePersonalizedZScore(dfMaxHeartRate, 'Max Heart Rate')\n",
        "#dfMinHeartRate = computePersonalizedZScore(dfMinHeartRate, 'Min Heart Rate')\n",
        "àdfAvgHeartRate = computePersonalizedZScore(dfAvgHeartRate, 'Average Heart Rate')\n",
        "\n",
        "#dfMaxHeartRate = performanceScore(dfMaxHeartRate, 0, 0, 'Max Heart Rate', upperRisk = 110, zscoreColumn='Max Heart Rate_zscore', rename = 'Max Heart Rate_ps')\n",
        "#dfMaxHeartRate.show(10)\n",
        "#dfMinHeartRate = performanceScore(dfMinHeartRate, 0, 0, 'Min Heart Rate', lowerRisk = 60, zscoreColumn='Min Heart Rate_zscore', rename = 'Min Heart Rate_ps')\n",
        "#dfMinHeartRate.show(10)\n",
        "#dfAvgHeartRate = performanceScore(dfAvgHeartRate, 0, 0, 'Average Heart Rate', lowerRisk = 70, upperRisk = 100, zscoreColumn='Average Heart Rate_zscore', rename = 'Average Heart Rate_ps')\n",
        "#dfAvgHeartRate.show(10)"
      ],
      "metadata": {
        "id": "wkvJ8w58pwQY"
      },
      "execution_count": null,
      "outputs": []
    },
    {
      "cell_type": "code",
      "source": [
        "#plotPatientPerformanceScore(dfAvgHeartRate, '1065442966', 'Average Heart Rate_ps')"
      ],
      "metadata": {
        "id": "lf97f_g-YEgF"
      },
      "execution_count": null,
      "outputs": []
    },
    {
      "cell_type": "markdown",
      "source": [
        "## Diabetes"
      ],
      "metadata": {
        "id": "3bgXL4XJAp1r"
      }
    },
    {
      "cell_type": "code",
      "source": [
        "# moved to 'Vitality Conditions'\n",
        "# Diabetes Mellitus (tipo II) - 73211009/ 164971000119101\n",
        "#dfDiabetesMellitusNegative = codeExtraction(dfObservations, code='73211009', new_name=\"Diabetes Mellitus\", whichCode='code_coding_code', whichValue='valueCodeableConcept_coding_display')\n",
        "#dfDiabetesMellitusPositive = dfConditions.filter(dfConditions.code_coding_code == ' 164971000119101').dropDuplicates(['Patient_id']).select('Patient_id', 'verificationStatus_coding_code').withColumnRenamed('verificationStatus_coding_code', 'Diabetes Mellitus')\n",
        "#dfDiabetesMellitus = dfDiabetesMellitusNegative.union(dfDiabetesMellitusPositive)"
      ],
      "metadata": {
        "id": "oJmJT0XFAzQQ"
      },
      "execution_count": null,
      "outputs": []
    },
    {
      "cell_type": "markdown",
      "source": [
        "## Cholesterol"
      ],
      "metadata": {
        "id": "Guohq2doaUUQ"
      }
    },
    {
      "cell_type": "code",
      "source": [
        "# HDL [mg/dl] - 28036006\n",
        "# lowerBound: 40 https://www.mayoclinic.org/diseases-conditions/high-blood-cholesterol/in-depth/hdl-cholesterol/art-20046388\n",
        "# desirable: 60\n",
        "dfHDL = codeExtractionWithTime(dfObservations, code='28036006', new_name=\"HDL Cholesterol\", whichCode='code_coding_code', whichValue='valueQuantity_value')\n",
        "\n",
        "# LDL [???%???] --> [mg/dl] - 113079009\n",
        "# upperBound: 130 (for borderline HIGH level) https://medlineplus.gov/ldlthebadcholesterol.html\n",
        "# optimal level: < 100\n",
        "dfLDL = codeExtractionWithTime(dfObservations, code='113079009', new_name=\"LDL Cholesterol\", whichCode='code_coding_code', whichValue='valueQuantity_value')\n",
        "dfLDL = dfLDL.withColumn('effectiveDateTime', to_date('effectiveDateTime'))\\\n",
        "                    .groupBy(['effectiveDateTime', 'Patient_id']).agg(mean_('LDL Cholesterol').alias('LDL Cholesterol'))\n",
        "\n",
        "#dfHDL = computeZScore(dfHDL, 'HDL Cholesterol')\n",
        "#dfHDL = performanceScore(dfHDL, 0, 0, 'HDL Cholesterol', lowerRisk = 40, zscoreColumn='HDL Cholesterol_zscore', rename = 'HDL Cholesterol_ps')\n",
        "#dfHDL.show(10)\n",
        "\n",
        "#dfLDL = computeZScore(dfLDL, 'LDL Cholesterol')\n",
        "#dfLDL = performanceScore(dfLDL, 0, 0, 'LDL Cholesterol', upperRisk = 130, zscoreColumn='LDL Cholesterol_zscore', rename = 'LDL Cholesterol_ps')\n",
        "#dfLDL.show(10)\n",
        "dfHDL.orderBy('Patient_id', 'effectiveDateTime').show(truncate=False)\n",
        "dfLDL.orderBy('Patient_id', 'effectiveDateTime').show(30, truncate=False)"
      ],
      "metadata": {
        "id": "RE94lx6FaYAt",
        "colab": {
          "base_uri": "https://localhost:8080/"
        },
        "outputId": "696211bb-6130-4682-bd66-39e46e2a2351"
      },
      "execution_count": null,
      "outputs": [
        {
          "output_type": "stream",
          "name": "stdout",
          "text": [
            "+-----------------------+----------+---------------+\n",
            "|effectiveDateTime      |Patient_id|HDL Cholesterol|\n",
            "+-----------------------+----------+---------------+\n",
            "|2021-12-07 23:09:59.095|1065442966|67.0           |\n",
            "|2022-08-13 18:10:20.246|1065442966|66.0           |\n",
            "|2022-06-13 20:49:48.449|1079961145|73.0           |\n",
            "|2022-06-07 23:00:40.937|1086760558|95.0           |\n",
            "|2022-10-06 21:25:05.258|1158131383|54.0           |\n",
            "|2022-06-07 22:22:02.768|1178099045|45.0           |\n",
            "|2022-03-28 21:17:16.189|1243869239|52.0           |\n",
            "|2022-10-14 21:48:36.24 |128350896 |57.0           |\n",
            "|2022-10-07 19:23:13.122|1387732224|47.0           |\n",
            "|2022-06-08 19:27:48.865|1407810388|62.0           |\n",
            "|2021-11-13 10:20:29.994|1411981309|43.0           |\n",
            "|2022-06-11 18:45:13.885|1419830009|53.0           |\n",
            "|2022-10-14 22:44:31.795|1470628467|50.0           |\n",
            "|2021-10-24 17:12:56.747|1550736443|39.0           |\n",
            "|2022-10-06 18:09:37.592|1550736443|43.0           |\n",
            "|2022-10-07 20:30:36.876|1565201329|50.0           |\n",
            "|2022-07-05 19:47:34.802|1574657175|46.0           |\n",
            "|2021-12-07 21:01:50.238|1705741053|43.0           |\n",
            "|2022-10-06 18:38:46.109|1774424961|51.0           |\n",
            "|2022-06-11 18:11:01.364|1798238171|87.0           |\n",
            "+-----------------------+----------+---------------+\n",
            "only showing top 20 rows\n",
            "\n",
            "+-----------------+----------+---------------+\n",
            "|effectiveDateTime|Patient_id|LDL Cholesterol|\n",
            "+-----------------+----------+---------------+\n",
            "|2021-12-07       |1065442966|118.6          |\n",
            "|2022-08-13       |1065442966|127.0          |\n",
            "|2022-06-13       |1079961145|57.0           |\n",
            "|2022-06-07       |1086760558|74.2           |\n",
            "|2022-10-06       |1158131383|109.0          |\n",
            "|2022-06-07       |1178099045|65.0           |\n",
            "|2022-03-28       |1243869239|120.0          |\n",
            "|2022-10-14       |128350896 |76.2           |\n",
            "|2022-10-07       |1387732224|120.6          |\n",
            "|2022-06-08       |1407810388|72.0           |\n",
            "|2021-11-13       |1411981309|92.6           |\n",
            "|2022-06-11       |1419830009|64.0           |\n",
            "|2022-10-14       |1470628467|152.4          |\n",
            "|2021-10-24       |1550736443|103.2          |\n",
            "|2022-10-06       |1550736443|77.0           |\n",
            "|2022-10-07       |1565201329|97.8           |\n",
            "|2022-07-05       |1574657175|141.4          |\n",
            "|2021-12-07       |1705741053|96.8           |\n",
            "|2022-10-06       |1774424961|129.0          |\n",
            "|2022-06-11       |1798238171|87.0           |\n",
            "|2022-06-11       |1824538109|116.0          |\n",
            "|2022-06-08       |1825985769|156.0          |\n",
            "|2022-10-21       |277060172 |118.8          |\n",
            "|2021-11-03       |303827011 |177.0          |\n",
            "|2021-12-07       |303827011 |177.0          |\n",
            "|2022-08-13       |303827011 |60.0           |\n",
            "|2022-10-07       |320310090 |135.2          |\n",
            "|2021-11-13       |32578327  |108.2          |\n",
            "|2022-07-04       |32578327  |103.0          |\n",
            "|2021-11-13       |457551051 |126.6          |\n",
            "+-----------------+----------+---------------+\n",
            "only showing top 30 rows\n",
            "\n"
          ]
        }
      ]
    },
    {
      "cell_type": "markdown",
      "source": [
        "## QRS Interval"
      ],
      "metadata": {
        "id": "i398do-qAriR"
      }
    },
    {
      "cell_type": "code",
      "source": [
        "# QRS Interval [ms] - 39632005\n",
        "# > 120 ms at risk : https://www.ncbi.nlm.nih.gov/pmc/articles/PMC4305520/#:~:text=QRS%20duration%20%E2%89%A5120%20ms,failure%20had%20an%20increased%20mortality.\n",
        "dfQRS = dfObservations.filter(dfObservations.code_coding_code == '39632005') \\\n",
        "          .select('effectiveDateTime', 'Patient_id', 'valueQuantity_value') \\\n",
        "          .orderBy('effectiveDateTime', 'Patient_id')\n",
        "#dfQRS.show(truncate=False)"
      ],
      "metadata": {
        "id": "dD41tQcIEhYX"
      },
      "execution_count": null,
      "outputs": []
    },
    {
      "cell_type": "markdown",
      "source": [
        "## BMI and Body Fat %"
      ],
      "metadata": {
        "id": "3D_t1poBdPwm"
      }
    },
    {
      "cell_type": "code",
      "source": [
        "# BMI [kg/m2] - 39156-5\n",
        "# normal between 18.5 and 24.9: https://www.nhlbi.nih.gov/health/educational/lose_wt/risk.htm\n",
        "dfBMI = codeExtractionWithTime(dfObservations, '39156-5', 'BMI', 'code_coding_code', 'valueQuantity_value')\n",
        "\n",
        "# Body fat [%{fat}] - 41982-0\n",
        "# normal between 13 and 24: https://www.forbes.com/health/wellness/body-fat-percentage/\n",
        "dfBodyFat = codeExtractionWithTime(dfObservations, '41982-0', 'Body fat percentage', 'code_coding_code', 'valueQuantity_value')\n",
        "dfBodyFat = dfBodyFat.withColumn('effectiveDateTime', to_date('effectiveDateTime')) \\\n",
        "                     .withColumn('Body fat percentage', col('Body fat percentage')/1000) \\\n",
        "                     .dropDuplicates(['effectiveDateTime', 'Patient_id'])\n",
        "\n",
        "#dfBMI = computeZScore(dfBMI, 'BMI')\n",
        "#dfBMI = performanceScore(dfBMI, 0, 0, 'BMI', lowerRisk = 18.5, upperRisk = 24.99, zscoreColumn='BMI_zscore', rename = 'BMI_ps')\n",
        "#dfBMI.show(10)\n",
        "\n",
        "# g_mean and g_std: https://www.ncbi.nlm.nih.gov/pmc/articles/PMC10676745/\n",
        "#dfBodyFat = computePersonalizedZScore(dfBodyFat, 'Body fat percentage')\n",
        "#dfBodyFat = performanceScore(dfBodyFat, 29.1, 8.7, lowerRisk = 13, upperRisk = 24, zscoreColumn='Body fat percentage_zscore', rename = 'Body fat percentage_ps')\n",
        "#dfBodyFat.show(10)"
      ],
      "metadata": {
        "id": "pSUZ9vaOdSEM"
      },
      "execution_count": null,
      "outputs": []
    },
    {
      "cell_type": "markdown",
      "source": [
        "## Blood pressure"
      ],
      "metadata": {
        "id": "h0Y7Wik1kL7X"
      }
    },
    {
      "cell_type": "code",
      "source": [
        "# Standing Blood pressure mm[Hg]\n",
        "# general code_coding_code: 85354-9\n",
        "#dfObservations.filter(dfObservations.component_code_coding_code == '85354-9').select('bodySite_coding_display').distinct().show(truncate=False)\n",
        "\n",
        "dfStandingDiastolic = codeExtractionWithTime(dfObservations, '8454-1', 'Standing Diastolic', 'component_code_coding_code', 'component_valueQuantity_value')\n",
        "dfStandingSystolic = codeExtractionWithTime(dfObservations, '8460-8', 'Standing Systolic', 'component_code_coding_code', 'component_valueQuantity_value')\n",
        "#dfStandingSystolic.orderBy('Patient_id', 'effectiveDateTime').show()\n",
        "\n",
        "dfStandingDiastolic = dfStandingDiastolic.withColumn('effectiveDateTime', to_date('effectiveDateTime'))\\\n",
        "                              .groupBy('effectiveDateTime', 'Patient_id').agg(mean_('Standing Diastolic').alias('Standing Diastolic'))\n",
        "dfStandingSystolic = dfStandingSystolic.withColumn('effectiveDateTime', to_date('effectiveDateTime'))\\\n",
        "                              .groupBy('effectiveDateTime', 'Patient_id').agg(mean_('Standing Systolic').alias('Standing Systolic'))\n",
        "\n",
        "'''tmp = averageTooCloseMeasurements(dfStandingDiastolic, 'Standing Diastolic', 1)\n",
        "#tmp.show()\n",
        "tmp = normalizeDatsetsLength(tmp, 'Standing Diastolic', 2)\n",
        "tmp.show()'''\n",
        "\n",
        "dfStandingBP = dfStandingSystolic.join(dfStandingDiastolic, ['Patient_id', 'effectiveDateTime'])\n",
        "#dfStandingBP.orderBy('Patient_id', 'effectiveDateTime').show(truncate=False)\n",
        "#print(dfStandingDiastolic.count(), dfStandingSystolic.count(), dfStandingBP.count())\n",
        "\n",
        "# Supine Blood pressure mm[Hg] -\n",
        "dfSupineDiastolic = codeExtractionWithTime(dfObservations, '8455-8', 'Supine Diastolic', 'component_code_coding_code', 'component_valueQuantity_value')\n",
        "dfSupineSystolicBP = codeExtractionWithTime(dfObservations, '8461-6', 'Supine Systolic', 'component_code_coding_code', 'component_valueQuantity_value')\n",
        "\n",
        "dfSupineBP = dfSupineSystolicBP.join(dfSupineDiastolic, ['Patient_id', 'effectiveDateTime'])\n",
        "#dfSupineBP.orderBy('Patient_id', 'effectiveDateTime').show(truncate=False)\n",
        "#print(dfSupineDiastolic.count(), dfSupineSystolicBP.count(), dfSupineBP.count())\n",
        "\n",
        "\n",
        "# BP standing: https://www.heart.org/en/health-topics/high-blood-pressure/understanding-blood-pressure-readings\n",
        "# normal systolic < 120 (129 is elevated but not ar risk), normal diastolic < 80\n",
        "# g_mean and g_std: https://www.ncbi.nlm.nih.gov/pmc/articles/PMC6911645/\n",
        "#dfStandingDiastolic = computePersonalizedZScore(dfStandingDiastolic, 'Standing Diastolic')\n",
        "#dfStandingDiastolic = performanceScore(dfStandingDiastolic, 72.4, 7.8, lowerRisk = 80, zscoreColumn='Standing Diastolic_zscore', rename = 'Standing Diastolic_ps')\n",
        "#dfStandingDiastolic.show(10)\n",
        "\n",
        "#dfStandingSystolic = computePersonalizedZScore(dfStandingSystolic, 'Standing Systolic')\n",
        "#dfStandingSystolic = performanceScore(dfStandingSystolic, 136.6, 11.2, lowerRisk = 129, zscoreColumn='Standing Systolic_zscore', rename = 'Standing Systolic_ps')\n",
        "#dfStandingSystolic.show(10)"
      ],
      "metadata": {
        "id": "6tplfGGPkOF7"
      },
      "execution_count": null,
      "outputs": []
    },
    {
      "cell_type": "markdown",
      "source": [
        "## Vitality conditions"
      ],
      "metadata": {
        "id": "-WjQv1yhjWvC"
      }
    },
    {
      "cell_type": "code",
      "source": [
        "vitalityConditionsList = [\n",
        "    ('Hypertension', '38341003'),\n",
        "    ('Left ventricular hypertrophy', '55827005'),\n",
        "    ('Paroxysmal atrial fibrillation', '282825002'),\n",
        "    ('Persistent atrial fibrillation', '440059007'),\n",
        "    ('Myocardial infarction due to atherothrombotic coronary artery disease', '726499301000119105'),\n",
        "    ('Heart murmur', '88610006'),\n",
        "    ('Coronary arteriosclerosis', '8957000'),\n",
        "    ('Heart failure preserved', '46221000'),\n",
        "    ('Heart failure reduced', '703272007'),\n",
        "    ('History of cerebrovascular accident', '275526006'),\n",
        "    ('Atrial fibrillation', '49436004'),\n",
        "    ('H/O: cardiovascular disease', '266995000'),\n",
        "    ('Diabetes Mellitus', ' 164971000119101')\n",
        "]\n",
        "\n",
        "list_patient = dfConditions\\\n",
        "                      .filter((dfConditions.code_coding_code == vitalityConditionsList[0][1]) & \\\n",
        "                      (dfConditions.verificationStatus_coding_code == 'confirmed')) \\\n",
        "                      .distinct().rdd.map(lambda x: x.Patient_id).collect()\n",
        "dfVitalityConditions = dfObservations.select('Patient_id').distinct().withColumn(vitalityConditionsList[0][0], EncodeInList('Patient_id', lit(list_patient)))\n",
        "#dfVitalityConditions = labelEncoding(dfVitalityConditions, vitalityConditionsList[0][0])\n",
        "\n",
        "for x in vitalityConditionsList[1:]:\n",
        "  list_patient = dfConditions\\\n",
        "                      .filter((dfConditions.code_coding_code == x[1]) & \\\n",
        "                      (dfConditions.verificationStatus_coding_code == 'confirmed')) \\\n",
        "                      .distinct().rdd.map(lambda x: x.Patient_id).collect()\n",
        "  dfVitalityConditions = dfVitalityConditions.withColumn(x[0], EncodeInList('Patient_id', lit(list_patient)))\n",
        "  #dfVitalityConditions = labelEncoding(dfVitalityConditions, x[0])\n",
        "dfVitalityConditions = conditionsPerformanceScore(dfVitalityConditions, dfVitalityConditions.columns[1:], 'Vitality_conditions_ps')\n",
        "#dfVitalityConditions.show()"
      ],
      "metadata": {
        "id": "yN6aOAgDjY5I"
      },
      "execution_count": null,
      "outputs": []
    },
    {
      "cell_type": "markdown",
      "source": [
        "# Variable names"
      ],
      "metadata": {
        "id": "RLTFl7ZpWuc5"
      }
    },
    {
      "cell_type": "code",
      "source": [
        "locomotion_list = ['Number of steps', 'Frail Score', 'Sarcopenia Score', 'Walked distance']\n",
        "sensory_list = ['Sensory_conditions_ps']\n",
        "psychological_list = ['Sleep Duration', 'Light Sleep Duration', 'Deep Sleep Duration', 'PHQ9 Score', 'GDS Score', 'Psychological_conditions_ps']\n",
        "cognition_list = ['MOCA Score', 'RCS Score', 'Cognition_conditions_ps']\n",
        "vitality_list = ['MNA Score', 'SNAQ Score', 'Average Heart Rate', 'Max Heart Rate', 'Min Heart Rate',\n",
        "                 'HDL Cholesterol', 'LDL Cholesterol', 'BMI', 'Body fat percentage',\n",
        "                 'Standing Diastolic', 'Standing Systolic', 'Vitality_conditions_ps']\n",
        "domains = ['Locomotion', 'Sensory', 'Psychological', 'Cognition', 'Vitality', 'Intrinsic Capacity']\n",
        "\n",
        "locomotion_list_ps = [(x+'_ps') if 'conditions' not in x else (x) for x in locomotion_list]\n",
        "sensory_list_ps = [(x+'_ps') if 'conditions' not in x else (x) for x in sensory_list]\n",
        "psychological_list_ps = [(x+'_ps') if 'conditions' not in x else (x) for x in psychological_list]\n",
        "cognition_list_ps = [(x+'_ps') if 'conditions' not in x else (x) for x in cognition_list]\n",
        "vitality_list_ps = [(x+'_ps') if 'conditions' not in x else (x) for x in vitality_list]\n",
        "\n",
        "locomotion_list_imputed = [x+'_imputed' for x in locomotion_list]\n",
        "sensory_list_imputed = [x+'_imputed' for x in sensory_list]\n",
        "psychological_list_imputed = [x+'_imputed' for x in psychological_list]\n",
        "cognition_list_imputed = [x+'_imputed' for x in cognition_list]\n",
        "vitality_list_imputed = [x+'_imputed' for x in vitality_list]\n",
        "\n",
        "domains_coverage = [x+'_coverage' for x in domains]\n",
        "domains_imputed = [x+'_imputed' for x in domains]\n",
        "\n",
        "# global values name (columns)\n",
        "#global_values = ['mean', 'stddev', 'lowerRisk', 'upperRisk']"
      ],
      "metadata": {
        "id": "Oks-qK6KWtl0"
      },
      "execution_count": null,
      "outputs": []
    },
    {
      "cell_type": "markdown",
      "source": [
        "# Join Datasets"
      ],
      "metadata": {
        "id": "e1B-ah9Z5Ruw"
      }
    },
    {
      "cell_type": "code",
      "source": [
        "from pyspark.storagelevel import StorageLevel\n",
        "dfTot = dfNumberSteps.withColumn('effectiveDateTime', to_date('effectiveDateTime')) \\\n",
        "        .join(dfDistanceWalked.withColumn('effectiveDateTime', to_date('effectiveDateTime')), ['effectiveDateTime', 'Patient_id'], 'full') \\\n",
        "        .join(dfFrail.withColumn('effectiveDateTime', to_date('effectiveDateTime')), ['effectiveDateTime', 'Patient_id'], 'full') \\\n",
        "        .join(dfSarcopenia.withColumn('effectiveDateTime', to_date('effectiveDateTime')), ['effectiveDateTime', 'Patient_id'], 'full') \\\n",
        "        .join(dfSensoryConditions, ['Patient_id'], 'left') \\\n",
        "        .join(dfLightSleepDuration.withColumn('effectiveDateTime', to_date('effectiveDateTime')), ['effectiveDateTime', 'Patient_id'], 'full') \\\n",
        "        .join(dfDeepSleepDuration.withColumn('effectiveDateTime', to_date('effectiveDateTime')), ['effectiveDateTime', 'Patient_id'], 'full') \\\n",
        "        .join(dfSleepDuration.withColumn('effectiveDateTime', to_date('effectiveDateTime')), ['effectiveDateTime', 'Patient_id'], 'full') \\\n",
        "        .join(dfPHQ9.withColumn('effectiveDateTime', to_date('effectiveDateTime')), ['effectiveDateTime', 'Patient_id'], 'full') \\\n",
        "        .join(dfGDS.withColumn('effectiveDateTime', to_date('effectiveDateTime')), ['effectiveDateTime', 'Patient_id'], 'full') \\\n",
        "        .join(dfPsychologicalConditions, ['Patient_id'], 'left') \\\n",
        "        .join(dfMOCA.withColumn('effectiveDateTime', to_date('effectiveDateTime')), ['effectiveDateTime', 'Patient_id'], 'full') \\\n",
        "        .join(dfRCS.withColumn('effectiveDateTime', to_date('effectiveDateTime')), ['effectiveDateTime', 'Patient_id'], 'full') \\\n",
        "        .join(dfCognitionConditions, ['Patient_id'], 'left') \\\n",
        "        .join(dfMNA.withColumn('effectiveDateTime', to_date('effectiveDateTime')), ['effectiveDateTime', 'Patient_id'], 'full') \\\n",
        "        .join(dfSNAQ.withColumn('effectiveDateTime', to_date('effectiveDateTime')), ['effectiveDateTime', 'Patient_id'], 'full') \\\n",
        "        .join(dfAvgHeartRate.withColumn('effectiveDateTime', to_date('effectiveDateTime')), ['effectiveDateTime', 'Patient_id'], 'full') \\\n",
        "        .join(dfMaxHeartRate.withColumn('effectiveDateTime', to_date('effectiveDateTime')), ['effectiveDateTime', 'Patient_id'], 'full') \\\n",
        "        .join(dfMinHeartRate.withColumn('effectiveDateTime', to_date('effectiveDateTime')), ['effectiveDateTime', 'Patient_id'], 'full') \\\n",
        "        .join(dfHDL.withColumn('effectiveDateTime', to_date('effectiveDateTime')), ['effectiveDateTime', 'Patient_id'], 'full') \\\n",
        "        .join(dfLDL.withColumn('effectiveDateTime', to_date('effectiveDateTime')), ['effectiveDateTime', 'Patient_id'], 'full') \\\n",
        "        .join(dfBMI.withColumn('effectiveDateTime', to_date('effectiveDateTime')), ['effectiveDateTime', 'Patient_id'], 'full') \\\n",
        "        .join(dfBodyFat.withColumn('effectiveDateTime', to_date('effectiveDateTime')), ['effectiveDateTime', 'Patient_id'], 'full') \\\n",
        "        .join(dfStandingDiastolic.withColumn('effectiveDateTime', to_date('effectiveDateTime')), ['effectiveDateTime', 'Patient_id'], 'full') \\\n",
        "        .join(dfStandingSystolic.withColumn('effectiveDateTime', to_date('effectiveDateTime')), ['effectiveDateTime', 'Patient_id'], 'full') \\\n",
        "        .join(dfVitalityConditions, ['Patient_id'], 'left')\n",
        "dfTot = dfTot \\\n",
        "         .orderBy('effectiveDateTime', 'Patient_id').persist(storageLevel=StorageLevel.DISK_ONLY)\n",
        "        #.select('effectiveDateTime', 'Patient_id', *locomotion_list_ps, *sensory_list_ps, *psychological_list_ps, *cognition_list_ps, *vitality_list_ps) \\\n",
        "        #.orderBy('effectiveDateTime', 'Patient_id').cache()\n",
        "#dfTot = normalizeDatasetLength(dfTot, 1) # if commented modify plot print\n",
        "\n",
        "dfTot = imputedIndex(dfTot, dfTot.columns[2:])\n",
        "dfTot = imputedIndexRowWise(dfTot, locomotion_list, 'Locomotion')\n",
        "dfTot = imputedIndexRowWise(dfTot, sensory_list, 'Sensory')\n",
        "dfTot = imputedIndexRowWise(dfTot, psychological_list, 'Psychological')\n",
        "dfTot = imputedIndexRowWise(dfTot, cognition_list, 'Cognition')\n",
        "dfTot = imputedIndexRowWise(dfTot, vitality_list, 'Vitality')\n",
        "\n",
        "dfTot = fillNullByDate(dfTot, dfTot.columns[2:])\n",
        "#dfTot = dfTot.na.drop()\n",
        "#dfTot.orderBy('Patient_id', 'effectiveDateTime').show()\n",
        "dfTot.persist(storageLevel=StorageLevel.DISK_ONLY)\n",
        "#dfTot.count() # --> 10347 rows\n",
        "#dfTot.dropDuplicates(['Patient_id']).show()"
      ],
      "metadata": {
        "id": "rflzPlbP5TbY",
        "colab": {
          "base_uri": "https://localhost:8080/"
        },
        "outputId": "944a7ece-1f90-4c12-9db5-e3a05f7d1fe5"
      },
      "execution_count": null,
      "outputs": [
        {
          "output_type": "execute_result",
          "data": {
            "text/plain": [
              "DataFrame[effectiveDateTime: date, Patient_id: string, Number of steps: double, Walked Distance: double, Frail Score: double, Sarcopenia Score: double, Sensory_conditions_ps: double, Light Sleep Duration: double, Deep Sleep Duration: double, Sleep Duration: double, PHQ9 Score: double, GDS Score: double, Psychological_conditions_ps: double, MOCA Score: double, RCS Score: double, Cognition_conditions_ps: double, MNA Score: double, SNAQ score: double, Average Heart Rate: double, Max Heart Rate: double, Min Heart Rate: double, HDL Cholesterol: double, LDL Cholesterol: double, BMI: double, Body fat percentage: double, Standing Diastolic: double, Standing Systolic: double, Vitality_conditions_ps: double, Number of steps_imputed: double, Walked Distance_imputed: double, Frail Score_imputed: double, Sarcopenia Score_imputed: double, Sensory_conditions_ps_imputed: double, Light Sleep Duration_imputed: double, Deep Sleep Duration_imputed: double, Sleep Duration_imputed: double, PHQ9 Score_imputed: double, GDS Score_imputed: double, Psychological_conditions_ps_imputed: double, MOCA Score_imputed: double, RCS Score_imputed: double, Cognition_conditions_ps_imputed: double, MNA Score_imputed: double, SNAQ score_imputed: double, Average Heart Rate_imputed: double, Max Heart Rate_imputed: double, Min Heart Rate_imputed: double, HDL Cholesterol_imputed: double, LDL Cholesterol_imputed: double, BMI_imputed: double, Body fat percentage_imputed: double, Standing Diastolic_imputed: double, Standing Systolic_imputed: double, Vitality_conditions_ps_imputed: double, Locomotion_imputed: double, Sensory_imputed: double, Psychological_imputed: double, Cognition_imputed: double, Vitality_imputed: double]"
            ]
          },
          "metadata": {},
          "execution_count": 73
        }
      ]
    },
    {
      "cell_type": "code",
      "source": [
        "dfTot.show()"
      ],
      "metadata": {
        "colab": {
          "base_uri": "https://localhost:8080/"
        },
        "id": "anpwtG1igMQ_",
        "outputId": "b2f2694f-5070-4d8e-c4ac-466201c27d0e"
      },
      "execution_count": null,
      "outputs": [
        {
          "output_type": "stream",
          "name": "stdout",
          "text": [
            "+-----------------+----------+------------------+------------------+-----------+----------------+---------------------+--------------------+-------------------+------------------+----------+---------+---------------------------+----------+---------+-----------------------+---------+----------+------------------+------------------+-----------------+---------------+---------------+----+-------------------+------------------+-----------------+----------------------+-----------------------+-----------------------+-------------------+------------------------+-----------------------------+----------------------------+---------------------------+----------------------+------------------+-----------------+-----------------------------------+------------------+-----------------+-------------------------------+-----------------+------------------+--------------------------+----------------------+----------------------+-----------------------+-----------------------+-----------------+---------------------------+--------------------------+-------------------------+------------------------------+------------------+---------------+---------------------+-----------------+------------------+\n",
            "|effectiveDateTime|Patient_id|   Number of steps|   Walked Distance|Frail Score|Sarcopenia Score|Sensory_conditions_ps|Light Sleep Duration|Deep Sleep Duration|    Sleep Duration|PHQ9 Score|GDS Score|Psychological_conditions_ps|MOCA Score|RCS Score|Cognition_conditions_ps|MNA Score|SNAQ score|Average Heart Rate|    Max Heart Rate|   Min Heart Rate|HDL Cholesterol|LDL Cholesterol| BMI|Body fat percentage|Standing Diastolic|Standing Systolic|Vitality_conditions_ps|Number of steps_imputed|Walked Distance_imputed|Frail Score_imputed|Sarcopenia Score_imputed|Sensory_conditions_ps_imputed|Light Sleep Duration_imputed|Deep Sleep Duration_imputed|Sleep Duration_imputed|PHQ9 Score_imputed|GDS Score_imputed|Psychological_conditions_ps_imputed|MOCA Score_imputed|RCS Score_imputed|Cognition_conditions_ps_imputed|MNA Score_imputed|SNAQ score_imputed|Average Heart Rate_imputed|Max Heart Rate_imputed|Min Heart Rate_imputed|HDL Cholesterol_imputed|LDL Cholesterol_imputed|      BMI_imputed|Body fat percentage_imputed|Standing Diastolic_imputed|Standing Systolic_imputed|Vitality_conditions_ps_imputed|Locomotion_imputed|Sensory_imputed|Psychological_imputed|Cognition_imputed|  Vitality_imputed|\n",
            "+-----------------+----------+------------------+------------------+-----------+----------------+---------------------+--------------------+-------------------+------------------+----------+---------+---------------------------+----------+---------+-----------------------+---------+----------+------------------+------------------+-----------------+---------------+---------------+----+-------------------+------------------+-----------------+----------------------+-----------------------+-----------------------+-------------------+------------------------+-----------------------------+----------------------------+---------------------------+----------------------+------------------+-----------------+-----------------------------------+------------------+-----------------+-------------------------------+-----------------+------------------+--------------------------+----------------------+----------------------+-----------------------+-----------------------+-----------------+---------------------------+--------------------------+-------------------------+------------------------------+------------------+---------------+---------------------+-----------------+------------------+\n",
            "|       2022-06-26|1045034429|              NULL|              NULL|       NULL|            NULL|                 NULL|                NULL|               NULL|              NULL|      NULL|     NULL|                       NULL|      23.0|     NULL|                    6.0|     NULL|      NULL|              NULL|              NULL|             NULL|           NULL|           NULL|NULL|               NULL|              NULL|             NULL|     5.615384615384616|                  100.0|                  100.0|              100.0|                   100.0|                        100.0|                       100.0|                      100.0|                 100.0|             100.0|            100.0|                              100.0|               0.0|            100.0|                            0.0|            100.0|             100.0|                     100.0|                 100.0|                 100.0|                  100.0|                  100.0|            100.0|                      100.0|                     100.0|                    100.0|                           0.0|             100.0|          100.0|                100.0|33.33333333333333| 91.66666666666666|\n",
            "|       2021-12-07|1065442966|3538.6809523809525| 1359.384685105647|        1.5|             2.5|                  6.0|  6.3048913152173895|  3.955253611684782|10.361684740760865|      NULL|      6.0|                        6.0|      22.0|      2.5|                    1.0|     14.0|      10.0| 76.45786913250149|109.52666900093371|61.45816993464051|           67.0|          118.6|31.7|  40.44499999999999|  71.9364406779661| 131.295197740113|     4.846153846153846|     11.016949152542372|     11.016949152542372|  99.15254237288136|       99.15254237288136|            10.16949152542373|          22.033898305084744|         22.033898305084744|    22.033898305084744|             100.0|99.15254237288136|                 2.9661016949152543| 99.15254237288136|99.15254237288136|             2.9661016949152543|99.15254237288136| 99.15254237288136|        13.559322033898304|    13.559322033898304|    13.559322033898304|      99.15254237288136|      99.15254237288136|99.15254237288136|          83.05084745762711|                      50.0|                     50.0|                           0.0|             100.0|          100.0|    66.66666666666666|33.33333333333333| 66.66666666666666|\n",
            "|       2021-12-14|1065442966|            7570.0|            1965.0|        1.5|             2.5|                  6.0|  6.3048913152173895|  3.955253611684782|10.361684740760865|      NULL|      9.0|                        6.0|      21.0|      2.5|                    1.0|     13.5|      10.0|              70.0|             111.0|             51.0|           66.5|          122.8|31.7|                0.0|  71.9364406779661| 131.295197740113|     4.846153846153846|     11.016949152542372|     11.016949152542372|  99.15254237288136|       99.15254237288136|            10.16949152542373|          22.033898305084744|         22.033898305084744|    22.033898305084744|             100.0|99.15254237288136|                 2.9661016949152543| 99.15254237288136|99.15254237288136|             2.9661016949152543|99.15254237288136| 99.15254237288136|        13.559322033898304|    13.559322033898304|    13.559322033898304|      99.15254237288136|      99.15254237288136|99.15254237288136|          83.05084745762711|                      50.0|                     50.0|                           0.0|              50.0|            0.0|    83.33333333333334|66.66666666666666|58.333333333333336|\n",
            "|       2021-12-15|1065442966|            1129.0|             293.0|        1.5|             2.5|                  6.0|            4.883333|           4.733333|          9.616667|      NULL|      9.0|                        6.0|      21.0|      2.5|                    1.0|     13.5|      10.0|              74.0|             106.0|             61.0|           66.5|          122.8|31.7|  40.44499999999999|  71.9364406779661| 131.295197740113|     4.846153846153846|     11.016949152542372|     11.016949152542372|  99.15254237288136|       99.15254237288136|            10.16949152542373|          22.033898305084744|         22.033898305084744|    22.033898305084744|             100.0|99.15254237288136|                 2.9661016949152543| 99.15254237288136|99.15254237288136|             2.9661016949152543|99.15254237288136| 99.15254237288136|        13.559322033898304|    13.559322033898304|    13.559322033898304|      99.15254237288136|      99.15254237288136|99.15254237288136|          83.05084745762711|                      50.0|                     50.0|                           0.0|              50.0|            0.0|    33.33333333333333|66.66666666666666| 66.66666666666666|\n",
            "|       2021-12-16|1065442966|             603.0|             234.5|        1.5|             2.5|                  6.0|                6.65|          4.0333333|         10.683333|      NULL|      9.0|                        6.0|      21.0|      2.5|                    1.0|     13.5|      10.0|              70.0|              98.0|             52.0|           66.5|          122.8|31.7|  40.44499999999999|  71.9364406779661| 131.295197740113|     4.846153846153846|     11.016949152542372|     11.016949152542372|  99.15254237288136|       99.15254237288136|            10.16949152542373|          22.033898305084744|         22.033898305084744|    22.033898305084744|             100.0|99.15254237288136|                 2.9661016949152543| 99.15254237288136|99.15254237288136|             2.9661016949152543|99.15254237288136| 99.15254237288136|        13.559322033898304|    13.559322033898304|    13.559322033898304|      99.15254237288136|      99.15254237288136|99.15254237288136|          83.05084745762711|                      50.0|                     50.0|                           0.0|              50.0|            0.0|    33.33333333333333|66.66666666666666| 66.66666666666666|\n",
            "|       2021-12-17|1065442966|            6577.0|1710.3333333333333|        1.5|             2.5|                  6.0|                 4.3|           5.366667|          9.666667|      NULL|      9.0|                        6.0|      21.0|      2.5|                    1.0|     13.5|      10.0|              76.0|             111.0|             61.0|           66.5|          122.8|31.7|  40.44499999999999|  71.9364406779661| 131.295197740113|     4.846153846153846|     11.016949152542372|     11.016949152542372|  99.15254237288136|       99.15254237288136|            10.16949152542373|          22.033898305084744|         22.033898305084744|    22.033898305084744|             100.0|99.15254237288136|                 2.9661016949152543| 99.15254237288136|99.15254237288136|             2.9661016949152543|99.15254237288136| 99.15254237288136|        13.559322033898304|    13.559322033898304|    13.559322033898304|      99.15254237288136|      99.15254237288136|99.15254237288136|          83.05084745762711|                      50.0|                     50.0|                           0.0|              50.0|            0.0|    33.33333333333333|66.66666666666666| 66.66666666666666|\n",
            "|       2021-12-18|1065442966|            5970.0|            1165.0|        1.5|             2.5|                  6.0|            5.266667|          3.1666667|              9.25|      NULL|      9.0|                        6.0|      21.0|      2.5|                    1.0|     13.5|      10.0|              75.0|             111.0|             57.0|           66.5|          122.8|31.7|              49.88|  71.9364406779661| 131.295197740113|     4.846153846153846|     11.016949152542372|     11.016949152542372|  99.15254237288136|       99.15254237288136|            10.16949152542373|          22.033898305084744|         22.033898305084744|    22.033898305084744|             100.0|99.15254237288136|                 2.9661016949152543| 99.15254237288136|99.15254237288136|             2.9661016949152543|99.15254237288136| 99.15254237288136|        13.559322033898304|    13.559322033898304|    13.559322033898304|      99.15254237288136|      99.15254237288136|99.15254237288136|          83.05084745762711|                      50.0|                     50.0|                           0.0|              50.0|            0.0|    33.33333333333333|66.66666666666666|58.333333333333336|\n",
            "|       2021-12-19|1065442966|               0.0|               0.0|        1.5|             2.5|                  6.0|  6.3048913152173895|  3.955253611684782|10.361684740760865|      NULL|      9.0|                        6.0|      21.0|      2.5|                    1.0|     13.5|      10.0| 76.45786913250149|109.52666900093371|61.45816993464051|           66.5|          122.8|31.7|  40.44499999999999|  71.9364406779661| 131.295197740113|     4.846153846153846|     11.016949152542372|     11.016949152542372|  99.15254237288136|       99.15254237288136|            10.16949152542373|          22.033898305084744|         22.033898305084744|    22.033898305084744|             100.0|99.15254237288136|                 2.9661016949152543| 99.15254237288136|99.15254237288136|             2.9661016949152543|99.15254237288136| 99.15254237288136|        13.559322033898304|    13.559322033898304|    13.559322033898304|      99.15254237288136|      99.15254237288136|99.15254237288136|          83.05084745762711|                      50.0|                     50.0|                           0.0|              50.0|            0.0|    83.33333333333334|66.66666666666666| 91.66666666666666|\n",
            "|       2021-12-20|1065442966|            3352.0|            2610.0|        1.5|             2.5|                  6.0|           5.3333335|          3.3833334|          8.633333|      NULL|      9.0|                        6.0|      21.0|      2.5|                    1.0|     13.5|      10.0|              79.0|             116.0|             58.0|           66.5|          122.8|31.7|  40.44499999999999|  71.9364406779661| 131.295197740113|     4.846153846153846|     11.016949152542372|     11.016949152542372|  99.15254237288136|       99.15254237288136|            10.16949152542373|          22.033898305084744|         22.033898305084744|    22.033898305084744|             100.0|99.15254237288136|                 2.9661016949152543| 99.15254237288136|99.15254237288136|             2.9661016949152543|99.15254237288136| 99.15254237288136|        13.559322033898304|    13.559322033898304|    13.559322033898304|      99.15254237288136|      99.15254237288136|99.15254237288136|          83.05084745762711|                      50.0|                     50.0|                           0.0|              50.0|            0.0|    33.33333333333333|66.66666666666666| 66.66666666666666|\n",
            "|       2021-12-21|1065442966|            4395.0|            1711.5|        1.5|             2.5|                  6.0|           6.1666665|          1.4333333|         10.083333|      NULL|      9.0|                        6.0|      21.0|      2.5|                    1.0|     13.5|      10.0|              81.0|             117.0|             54.0|           66.5|          122.8|31.7|  40.44499999999999|  71.9364406779661| 131.295197740113|     4.846153846153846|     11.016949152542372|     11.016949152542372|  99.15254237288136|       99.15254237288136|            10.16949152542373|          22.033898305084744|         22.033898305084744|    22.033898305084744|             100.0|99.15254237288136|                 2.9661016949152543| 99.15254237288136|99.15254237288136|             2.9661016949152543|99.15254237288136| 99.15254237288136|        13.559322033898304|    13.559322033898304|    13.559322033898304|      99.15254237288136|      99.15254237288136|99.15254237288136|          83.05084745762711|                      50.0|                     50.0|                           0.0|              50.0|            0.0|    33.33333333333333|66.66666666666666| 66.66666666666666|\n",
            "|       2021-12-22|1065442966|            5391.0|1399.6666666666667|        1.5|             2.5|                  6.0|           2.7666667|          3.7166667|          6.483333|      NULL|      9.0|                        6.0|      21.0|      2.5|                    1.0|     13.5|      10.0|              77.0|             108.0|             63.0|           66.5|          122.8|31.7|  40.44499999999999|  71.9364406779661| 131.295197740113|     4.846153846153846|     11.016949152542372|     11.016949152542372|  99.15254237288136|       99.15254237288136|            10.16949152542373|          22.033898305084744|         22.033898305084744|    22.033898305084744|             100.0|99.15254237288136|                 2.9661016949152543| 99.15254237288136|99.15254237288136|             2.9661016949152543|99.15254237288136| 99.15254237288136|        13.559322033898304|    13.559322033898304|    13.559322033898304|      99.15254237288136|      99.15254237288136|99.15254237288136|          83.05084745762711|                      50.0|                     50.0|                           0.0|              50.0|            0.0|    33.33333333333333|66.66666666666666| 66.66666666666666|\n",
            "|       2021-12-23|1065442966|            6436.0|            1671.0|        1.5|             2.5|                  6.0|            5.266667|               4.15|         10.566667|      NULL|      9.0|                        6.0|      21.0|      2.5|                    1.0|     13.5|      10.0|              76.0|             118.0|             61.0|           66.5|          122.8|31.7|  40.44499999999999|  71.9364406779661| 131.295197740113|     4.846153846153846|     11.016949152542372|     11.016949152542372|  99.15254237288136|       99.15254237288136|            10.16949152542373|          22.033898305084744|         22.033898305084744|    22.033898305084744|             100.0|99.15254237288136|                 2.9661016949152543| 99.15254237288136|99.15254237288136|             2.9661016949152543|99.15254237288136| 99.15254237288136|        13.559322033898304|    13.559322033898304|    13.559322033898304|      99.15254237288136|      99.15254237288136|99.15254237288136|          83.05084745762711|                      50.0|                     50.0|                           0.0|              50.0|            0.0|    33.33333333333333|66.66666666666666| 66.66666666666666|\n",
            "+-----------------+----------+------------------+------------------+-----------+----------------+---------------------+--------------------+-------------------+------------------+----------+---------+---------------------------+----------+---------+-----------------------+---------+----------+------------------+------------------+-----------------+---------------+---------------+----+-------------------+------------------+-----------------+----------------------+-----------------------+-----------------------+-------------------+------------------------+-----------------------------+----------------------------+---------------------------+----------------------+------------------+-----------------+-----------------------------------+------------------+-----------------+-------------------------------+-----------------+------------------+--------------------------+----------------------+----------------------+-----------------------+-----------------------+-----------------+---------------------------+--------------------------+-------------------------+------------------------------+------------------+---------------+---------------------+-----------------+------------------+\n",
            "only showing top 12 rows\n",
            "\n"
          ]
        }
      ]
    },
    {
      "cell_type": "markdown",
      "source": [
        "# Compute performance score"
      ],
      "metadata": {
        "id": "ZjXbGMuDJhoP"
      }
    },
    {
      "cell_type": "code",
      "source": [
        "# LOCOMOTION\n",
        "dfTot = computePersonalizedZScore(dfTot, 'Number of steps')\n",
        "dfTot = performanceScore(dfTot, 6565, 1530, lowerRisk = 4000, zscoreColumn='Number of steps_zscore', rename = 'Number of steps_ps')\n",
        "dfTot = computePersonalizedZScore(dfTot, 'Walked Distance')\n",
        "dfTot = performanceScore(dfTot, 3939, 918, lowerRisk = 2400, zscoreColumn='Walked Distance_zscore', rename = 'Walked Distance_ps') # conversion from steps to km: steps*0,6\n",
        "'''\n",
        "  >= 3    --> Frail\n",
        "  1 or 2  --> pre frail\n",
        "'''\n",
        "dfTot = computePersonalizedZScore(dfTot, 'Frail Score')\n",
        "dfTot = performanceScore(dfTot, 1.95, 1.49, lowerRisk=3, zscoreColumn='Frail Score_zscore', rename = 'Frail Score_ps')# global mean and stddev computed locally\n",
        "# >= 4  --> sarcopenia\n",
        "dfTot = computePersonalizedZScore(dfTot, 'Sarcopenia Score')\n",
        "# global mean and stddev computed locally\n",
        "dfTot = performanceScore(dfTot, 2.36, 0.64, lowerRisk = 4, zscoreColumn='Sarcopenia Score_zscore', rename = 'Sarcopenia Score_ps') # conversion from steps to km: steps*0,6\n",
        "\n",
        "# SENSORY\n",
        "# we have just the conditions - already computed\n",
        "\n",
        "# PSYCHOLOGICAL\n",
        "'''\n",
        "Recommended level (lower bound)\n",
        "total sleep time: 7-8 hours ---- mean: 7.38h --- std: 0.88  https://www.researchgate.net/figure/Sleep-duration-hours-mean-standard-deviation-in-each-of-the-four-questionnaires_tbl1_344226131\n",
        "light sleep: no minimum required, so? but can't find an upper bound\n",
        "deep sleep: 105 minutes minimum or 1.75 hours ---- mean: ---- std:\n",
        "'''\n",
        "dfTot = computePersonalizedZScore(dfTot, 'Light Sleep Duration')\n",
        "dfTot = performanceScore(dfTot, 7.38, 0.88, lowerRisk = 0, zscoreColumn='Light Sleep Duration_zscore', rename = 'Light Sleep Duration_ps')\n",
        "dfTot = computePersonalizedZScore(dfTot, 'Deep Sleep Duration')\n",
        "dfTot = performanceScore(dfTot, 3.38, 1.45, lowerRisk = 1.75, zscoreColumn='Deep Sleep Duration_zscore', rename = 'Deep Sleep Duration_ps')\n",
        "dfTot = computePersonalizedZScore(dfTot, 'Sleep Duration')\n",
        "dfTot = performanceScore(dfTot, 8.01, 1.64, lowerRisk = 7, zscoreColumn='Sleep Duration_zscore', rename = 'Sleep Duration_ps')\n",
        "# PHQ 9 questionnaire : >= 10 --> moderate to severe depression : https://www.demenzemedicinagenerale.net/images/test/PHQ-9_Ok_20-2-2016.pdf\n",
        "dfTot = computeZScore(dfTot, 'PHQ9 Score', 8.88, 0.17)\n",
        "dfTot = performanceScore(dfTot, 8.88, 0.17, lowerRisk=10, zscoreColumn = 'PHQ9 Score_zscore', rename = 'PHQ9 Score_ps')# global mean and stddev computed locally\n",
        "# GDS questionnaire\n",
        "# >= 5 equals to depression : https://geriatrictoolkit.missouri.edu/cog/GDS_SHORT_FORM.PDF\n",
        "# 15 questions, 0-14 are the question, the 15th is the total score\n",
        "dfTot = computeZScore(dfTot, 'GDS Score', 2.68, 3.29)\n",
        "dfTot = performanceScore(dfTot, 2.68, 3.29, lowerRisk=5, zscoreColumn = 'GDS Score_zscore', rename = 'GDS Score_ps')# global mean and stddev computed locally\n",
        "\n",
        "# COGNITION\n",
        "# global mean and std: https://www.elsevier.es/en-revista-neurologia-english-edition--495-articulo-standardised-results-montreal-cognitive-assessment-S2173580822000517#:~:text=The%20mean%20(SD)%20overall%20MoCA,t%20%3D%200.372%20%5BP%20%3D%20.\n",
        "# >= 26 normale (< 26 at risk)\n",
        "dfTot = computeZScore(dfTot, 'MOCA Score', 24.1, 3.13)\n",
        "dfTot = performanceScore(dfTot, 24.1, 3.13, lowerRisk = 26, zscoreColumn='MOCA Score_zscore', rename = 'MOCA Score_ps')\n",
        "#  RGA questionnaire -- RCS (Rapid Cognitive Screen) score\n",
        "# <= 7 --- Mild cognitive impairment to dementia : https://www.slu.edu/medicine/internal-medicine/geriatric-medicine/aging-successfully/pdfs/rga_form_4-6-17.pdf\n",
        "dfTot = computeZScore(dfTot, 'RCS Score', 6.29, 2.79)\n",
        "dfTot = performanceScore(dfTot, 6.29, 2.79, lowerRisk=7, zscoreColumn='RCS Score_zscore', rename = 'RCS Score_ps')# global mean and stddev computed locally\n",
        "\n",
        "# VITALITY\n",
        "# global mean and std: https://pubmed.ncbi.nlm.nih.gov/25809801/\n",
        "dfTot = computeZScore(dfTot, 'MNA Score', 9.8, 2.4)\n",
        "dfTot = performanceScore(dfTot, 9.8, 2.4, lowerRisk = 12, zscoreColumn='MNA Score_zscore', rename = 'MNA Score_ps')\n",
        "# global mean and std: https://www.researchgate.net/publication/370439474_Validity_and_Reliability_of_the_Persian_Version_of_the_Council_on_Nutrition_Appetite_Questionnaire_and_Its_Simplified_Version_in_Iranian_Community-Dwelling_Older_Adults\n",
        "dfTot = computeZScore(dfTot, 'SNAQ Score', 14.28, 2.34)\n",
        "dfTot = performanceScore(dfTot, 14.28, 2.34, lowerRisk = 14, zscoreColumn='SNAQ Score_zscore', rename = 'SNAQ Score_ps')\n",
        "# https://www.healthline.com/health/dangerous-heart-rate\n",
        "# upper bound: about 100-120 bpm --> 110 bpm\n",
        "# lower bound: 60 bpm\n",
        "# average: betwenn 70 - 100\n",
        "dfTot = computePersonalizedZScore(dfTot, 'Max Heart Rate')\n",
        "dfTot = computePersonalizedZScore(dfTot, 'Min Heart Rate')\n",
        "dfTot = computePersonalizedZScore(dfTot, 'Average Heart Rate')\n",
        "dfTot = performanceScore(dfTot, 111, 32.46, upperRisk = 110, zscoreColumn='Max Heart Rate_zscore', rename = 'Max Heart Rate_ps')# global mean and stddev computed locally\n",
        "dfTot = performanceScore(dfTot, 53, 16.28, lowerRisk = 60, zscoreColumn='Min Heart Rate_zscore', rename = 'Min Heart Rate_ps')# global mean and stddev computed locally\n",
        "dfTot = performanceScore(dfTot, 69, 18.24, lowerRisk = 70, upperRisk = 100, zscoreColumn='Average Heart Rate_zscore', rename = 'Average Heart Rate_ps')# global mean and stddev computed locally\n",
        "# HDL [mg/dl] - 28036006\n",
        "# lowerBound: 40 https://www.mayoclinic.org/diseases-conditions/high-blood-cholesterol/in-depth/hdl-cholesterol/art-20046388\n",
        "# desirable: 60\n",
        "dfTot = computeZScore(dfTot, 'HDL Cholesterol', 57, 11.86)\n",
        "dfTot = performanceScore(dfTot, 57, 11.86, lowerRisk = 40, zscoreColumn='HDL Cholesterol_zscore', rename = 'HDL Cholesterol_ps')# global mean and stddev computed locally\n",
        "# LDL [???%???] --> [mg/dl] - 113079009\n",
        "# upperBound: 130 (for borderline HIGH level) https://medlineplus.gov/ldlthebadcholesterol.html\n",
        "# optimal level: < 100\n",
        "dfTot = computeZScore(dfTot, 'LDL Cholesterol', 104, 30.7)\n",
        "dfTot = performanceScore(dfTot, 104, 30.7, upperRisk = 130, zscoreColumn='LDL Cholesterol_zscore', rename = 'LDL Cholesterol_ps')# global mean and stddev computed locally\n",
        "# BMI [kg/m2] - 39156-5\n",
        "# normal between 18.5 and 24.9: https://www.nhlbi.nih.gov/health/educational/lose_wt/risk.htm\n",
        "dfTot = computeZScore(dfTot, 'BMI', 30.78, 4.04)\n",
        "dfTot = performanceScore(dfTot, 30.78, 4.04, lowerRisk = 18.5, upperRisk = 24.99, zscoreColumn='BMI_zscore', rename = 'BMI_ps')# global mean and stddev computed locally\n",
        "# Body fat [%{fat}] - 41982-0\n",
        "# normal between 13 and 24: https://www.forbes.com/health/wellness/body-fat-percentage/\n",
        "# g_mean and g_std: https://www.ncbi.nlm.nih.gov/pmc/articles/PMC10676745/\n",
        "dfTot = computePersonalizedZScore(dfTot, 'Body fat percentage')\n",
        "dfTot = performanceScore(dfTot, 29.1, 8.7, lowerRisk = 13, upperRisk = 24, zscoreColumn='Body fat percentage_zscore', rename = 'Body fat percentage_ps')\n",
        "# BP standing: https://www.heart.org/en/health-topics/high-blood-pressure/understanding-blood-pressure-readings\n",
        "# normal systolic < 120 (129 is elevated but not ar risk), normal diastolic < 80\n",
        "# g_mean and g_std: https://www.ncbi.nlm.nih.gov/pmc/articles/PMC6911645/\n",
        "dfTot = computePersonalizedZScore(dfTot, 'Standing Diastolic')\n",
        "dfTot = performanceScore(dfTot, 72.4, 7.8, lowerRisk = 80, zscoreColumn='Standing Diastolic_zscore', rename = 'Standing Diastolic_ps')\n",
        "dfTot = computePersonalizedZScore(dfTot, 'Standing Systolic')\n",
        "dfTot = performanceScore(dfTot, 136.6, 11.2, lowerRisk = 129, zscoreColumn='Standing Systolic_zscore', rename = 'Standing Systolic_ps')"
      ],
      "metadata": {
        "id": "yGrNubtbJkVj"
      },
      "execution_count": null,
      "outputs": []
    },
    {
      "cell_type": "markdown",
      "source": [
        "# Aggregation in domains and IC"
      ],
      "metadata": {
        "id": "Wbvq19XNFRXy"
      }
    },
    {
      "cell_type": "code",
      "source": [
        "'''dfTot = geometricMeanAggregation(dfTot, locomotion_list_ps, 'Locomotion')\n",
        "dfTot = geometricMeanAggregation(dfTot, sensory_list_ps, 'Sensory')\n",
        "dfTot = geometricMeanAggregation(dfTot, psychological_list_ps, 'Psychological')\n",
        "dfTot = geometricMeanAggregation(dfTot, cognition_list_ps, 'Cognition')\n",
        "dfTot = geometricMeanAggregation(dfTot, vitality_list_ps, 'Vitality')'''\n",
        "\n",
        "locomotion_n = len(locomotion_list)\n",
        "sensory_n = len(sensory_list)\n",
        "psychological_n = len(psychological_list)\n",
        "cognition_n = len(cognition_list)\n",
        "vitality_n = len(vitality_list)\n",
        "\n",
        "\n",
        "dfTot = personalizedGeometricMeanAggregation(dfTot, locomotion_list_ps, 'Locomotion', locomotion_n)\n",
        "dfTot = personalizedGeometricMeanAggregation(dfTot, sensory_list_ps, 'Sensory', sensory_n)\n",
        "dfTot = personalizedGeometricMeanAggregation(dfTot, psychological_list_ps, 'Psychological', psychological_n)\n",
        "dfTot = personalizedGeometricMeanAggregation(dfTot, cognition_list_ps, 'Cognition', cognition_n)\n",
        "dfTot = personalizedGeometricMeanAggregation(dfTot, vitality_list_ps, 'Vitality', vitality_n)\n",
        "dfTot = geometricMeanAggregation(dfTot, domains[:5], 'Intrinsic Capacity').persist(storageLevel=StorageLevel.DISK_ONLY)\n",
        "                          #.select('effectiveDateTime', 'Patient_id', *domains, *domains_coverage, *domains_imputed) \\\n",
        "#dfTot.count()"
      ],
      "metadata": {
        "id": "z-OXTvMjFTt8"
      },
      "execution_count": null,
      "outputs": []
    },
    {
      "cell_type": "code",
      "source": [
        "dfTot.dropDuplicates(['Patient_id']).filter(col('Intrinsic Capacity_coverage') > 80).show()\n",
        "#dfTot.dropDuplicates(['Patient_id']).filter(col('Intrinsic Capacity_coverage') > 80).select('Patient_id', *locomotion_list_imputed, *domains_imputed).show()"
      ],
      "metadata": {
        "colab": {
          "base_uri": "https://localhost:8080/"
        },
        "id": "tKwXim1VsEtw",
        "outputId": "63132755-a5c9-45de-9e0d-73106230905e"
      },
      "execution_count": null,
      "outputs": [
        {
          "output_type": "stream",
          "name": "stdout",
          "text": [
            "+----------+-----------------------+-------------------+------------------------+-----------------------+------------------+---------------+---------------------+-----------------+------------------+--------------------------+\n",
            "|Patient_id|Number of steps_imputed|Frail Score_imputed|Sarcopenia Score_imputed|Walked distance_imputed|Locomotion_imputed|Sensory_imputed|Psychological_imputed|Cognition_imputed|  Vitality_imputed|Intrinsic Capacity_imputed|\n",
            "+----------+-----------------------+-------------------+------------------------+-----------------------+------------------+---------------+---------------------+-----------------+------------------+--------------------------+\n",
            "|1705741053|      31.12033195020747|   99.1701244813278|        99.1701244813278|      31.12033195020747|             100.0|          100.0|                100.0|33.33333333333333| 91.66666666666666|                      85.0|\n",
            "|1178099045|     10.526315789473683|  98.68421052631578|       98.68421052631578|     10.526315789473683|             100.0|          100.0|                100.0|            100.0| 83.33333333333334|         96.66666666666667|\n",
            "|  32578327|     61.702127659574465|  99.29078014184397|       99.29078014184397|      75.53191489361703|             100.0|          100.0|                100.0|33.33333333333333| 91.66666666666666|                      85.0|\n",
            "| 457551051|      11.11111111111111|  98.88888888888889|       98.88888888888889|      11.11111111111111|             100.0|          100.0|                100.0|33.33333333333333| 91.66666666666666|                      85.0|\n",
            "|1798238171|     12.121212121212121|  96.96969696969697|       96.96969696969697|     12.121212121212121|             100.0|          100.0|                100.0|            100.0| 83.33333333333334|         96.66666666666667|\n",
            "| 945924918|     21.794871794871796|  98.71794871794873|       98.71794871794873|     21.794871794871796|              50.0|            0.0|    83.33333333333334|66.66666666666666|58.333333333333336|        51.666666666666664|\n",
            "|1419830009|      9.876543209876543|  98.76543209876543|       98.76543209876543|      9.876543209876543|             100.0|          100.0|                100.0|            100.0| 83.33333333333334|         96.66666666666667|\n",
            "| 688935216|       4.57516339869281|  99.34640522875817|       99.34640522875817|       4.57516339869281|             100.0|          100.0|    33.33333333333333|66.66666666666666| 91.66666666666666|         78.33333333333333|\n",
            "| 568140626|     32.142857142857146|  99.35064935064936|       99.35064935064936|      45.77922077922078|             100.0|          100.0|    66.66666666666666|33.33333333333333|58.333333333333336|         71.66666666666666|\n",
            "| 970075428|     12.437810945273633|  99.00497512437812|       99.00497512437812|      25.37313432835821|             100.0|          100.0|    66.66666666666666|33.33333333333333|              75.0|         74.99999999999999|\n",
            "|1824538109|     39.436619718309856|  98.59154929577466|       98.59154929577466|     39.436619718309856|             100.0|          100.0|                100.0|            100.0| 83.33333333333334|         96.66666666666667|\n",
            "| 541961940|      13.23529411764706|  99.01960784313727|       99.01960784313727|      25.49019607843137|              50.0|            0.0|   16.666666666666664|              0.0|              75.0|        28.333333333333332|\n",
            "|1065442966|     11.016949152542372|  99.15254237288136|       99.15254237288136|     11.016949152542372|             100.0|          100.0|    66.66666666666666|33.33333333333333| 66.66666666666666|         73.33333333333333|\n",
            "| 303827011|      9.731543624161073|  99.32885906040269|       99.32885906040269|     14.429530201342283|              50.0|            0.0|    83.33333333333334|66.66666666666666| 91.66666666666666|         58.33333333333333|\n",
            "|  82970912|      32.49097472924188|  98.91696750902527|       98.91696750902527|      32.49097472924188|             100.0|          100.0|    33.33333333333333|33.33333333333333| 91.66666666666666|         71.66666666666666|\n",
            "|1411981309|     1.4285714285714286|  98.57142857142858|       98.57142857142858|     1.4285714285714286|              50.0|            0.0|    83.33333333333334|33.33333333333333| 66.66666666666666|         46.66666666666667|\n",
            "|1825985769|      52.17391304347826|  95.65217391304348|       95.65217391304348|      52.17391304347826|              50.0|            0.0|    83.33333333333334|66.66666666666666| 66.66666666666666|         53.33333333333333|\n",
            "| 621892226|     3.0927835051546393|   98.4536082474227|        98.4536082474227|     3.0927835051546393|              50.0|            0.0|    83.33333333333334|33.33333333333333| 66.66666666666666|         46.66666666666667|\n",
            "| 512815964|     22.966507177033492|  99.04306220095694|       99.04306220095694|      34.92822966507177|              50.0|            0.0|    83.33333333333334|66.66666666666666| 91.66666666666666|         58.33333333333333|\n",
            "| 478893348|     23.826714801444044|  99.27797833935018|       99.27797833935018|     23.826714801444044|             100.0|          100.0|                100.0|33.33333333333333| 91.66666666666666|                      85.0|\n",
            "+----------+-----------------------+-------------------+------------------------+-----------------------+------------------+---------------+---------------------+-----------------+------------------+--------------------------+\n",
            "only showing top 20 rows\n",
            "\n"
          ]
        }
      ]
    },
    {
      "cell_type": "markdown",
      "source": [
        "# Time-series Analysis"
      ],
      "metadata": {
        "id": "dt1HuSnRGqHf"
      }
    },
    {
      "cell_type": "markdown",
      "source": [
        "## Stationary/non-stationary"
      ],
      "metadata": {
        "id": "0i-pynrCblxE"
      }
    },
    {
      "cell_type": "code",
      "source": [
        "from statsmodels.tsa.stattools import adfuller, kpss\n",
        "\n",
        "'''\n",
        "  stationary data:      not dependent on time\n",
        "  non-stationary data:  show seasonal effects, trends, and other structures that depend on the time index\n",
        "\n",
        "  ADF   --> null hypothesis (H_0): we say that the data trend is non-stationary\n",
        "            alternative hypothesis (H_A): the trend is stationary\n",
        "  KPSS  --> null hypothesis (H_0): we say that the data trend is stationary\n",
        "            alternative hypothesis (H_A): the trend is non-stationary\n",
        "\n",
        "  if p-value > 0.05 then we fail to reject the null hypothesis, so the H_0 is chosen\n",
        "  if p-value < 0.05 then we reject the null hypothesis, so the H_A is chosen\n",
        "'''\n",
        "def adf_kpss_test(df, patientId, column):\n",
        "  # Augmented Dickey-Fuller (ADF) test\n",
        "  X = [row[column] for row in df.filter(col('Patient_id') == patientId).select(column).collect()]\n",
        "\n",
        "  print('Stationary test for patient ' + patientId + ' about '+ column + ' data\\n')\n",
        "  result = adfuller(X)\n",
        "  print('ADF Statistic: %f' % result[0])\n",
        "  print('p-value: %f' % result[1], end='')\n",
        "  if (result[1] < 0.05):\n",
        "    print('\\t so the trend is stationary')\n",
        "  else:\n",
        "    print('\\t so the trend is non-stationary')\n",
        "  print('Critical Values:')\n",
        "  for key, value in result[4].items():\n",
        "    print('\\t%s: %.3f' % (key, value))\n",
        "\n",
        "  # Kwiatkowski–Phillips–Schmidt–Shin (KPSS) test\n",
        "  result = kpss(X, regression = 'ct') # 'regression=ct --> null hypothesis is that the data is trend stationary\n",
        "  print('KPSS Statistic: %f' % result[0])\n",
        "  print('p-value: %f' % result[1], end='')\n",
        "  if (result[1] < 0.05):\n",
        "    print('\\t so the trend is non-stationary')\n",
        "  else:\n",
        "    print('\\t so the trend is stationary')\n",
        "  print('Critical Values:')\n",
        "  for key, value in result[3].items():\n",
        "    print('\\t%s: %.3f' % (key, value))\n",
        "\n",
        "def adf_kpss_test_pandas(df, patientId, column):\n",
        "  # Augmented Dickey-Fuller (ADF) test\n",
        "  X = df[df['Patient_id'] == patientId][column].tolist()\n",
        "\n",
        "  print('Stationary test for patient ' + patientId + ' about '+ column + ' data\\n')\n",
        "  result = adfuller(X)\n",
        "  print('ADF Statistic: %f' % result[0])\n",
        "  print('p-value: %f' % result[1], end='')\n",
        "  if (result[1] < 0.05):\n",
        "    print('\\t so the trend is stationary')\n",
        "  else:\n",
        "    print('\\t so the trend is non-stationary')\n",
        "  print('Critical Values:')\n",
        "  for key, value in result[4].items():\n",
        "    print('\\t%s: %.3f' % (key, value))\n",
        "\n",
        "  # Kwiatkowski–Phillips–Schmidt–Shin (KPSS) test\n",
        "  result = kpss(X, regression = 'ct') # 'regression=ct --> null hypothesis is that the data is trend stationary\n",
        "  print('KPSS Statistic: %f' % result[0])\n",
        "  print('p-value: %f' % result[1], end='')\n",
        "  if (result[1] < 0.05):\n",
        "    print('\\t so the trend is non-stationary')\n",
        "  else:\n",
        "    print('\\t so the trend is stationary')\n",
        "  print('Critical Values:')\n",
        "  for key, value in result[3].items():\n",
        "    print('\\t%s: %.3f' % (key, value))"
      ],
      "metadata": {
        "id": "Bfgr4GcebpS4"
      },
      "execution_count": null,
      "outputs": []
    },
    {
      "cell_type": "markdown",
      "source": [
        "# Visualizations"
      ],
      "metadata": {
        "id": "iXZjB6n8yKlw"
      }
    },
    {
      "cell_type": "code",
      "source": [
        "dfTotPandas = dfTot.toPandas()"
      ],
      "metadata": {
        "id": "UWBwNOAdFy3R"
      },
      "execution_count": null,
      "outputs": []
    },
    {
      "cell_type": "code",
      "source": [
        "dfTotPandas.to_json('dataset.json', orient='records')\n",
        "#dfTotPandas.to_json('dataset2.json', orient='records', lines=True)"
      ],
      "metadata": {
        "id": "-znoV_0jfbEX"
      },
      "execution_count": null,
      "outputs": []
    },
    {
      "cell_type": "code",
      "source": [
        "plotPatientPerformanceScorePandas(dfTotPandas, '1065442966', 'Intrinsic Capacity')\n",
        "adf_kpss_test_pandas(dfTotPandas, '1065442966', 'Intrinsic Capacity')"
      ],
      "metadata": {
        "colab": {
          "base_uri": "https://localhost:8080/",
          "height": 886
        },
        "id": "czxeg2pBHwUM",
        "outputId": "b9e8b2b2-6c35-489e-c701-4b0aaee9b605"
      },
      "execution_count": null,
      "outputs": [
        {
          "output_type": "stream",
          "name": "stdout",
          "text": [
            "[3.5092089521631573, 3.38369614621351, 3.296748360522621, 3.2931019392541883, 3.4697053319502196, 3.2953797050303493, 3.3426740773531938, 3.434675755111182, 3.379446652836971, 3.269966256496329, 3.482978441039371, 3.522164920751731, 3.625483011975419, 3.616435314435279, 3.706917098491501, 3.4293032685549347, 3.522151099648834, 3.33115920104877, 3.4690655438151996, 3.682123297993735, 3.553661621270875, 3.3681180204571093, 3.1010972149218627, 3.4484712396377617, 3.507657053486362, 3.3432145642323485, 3.6039053368497878, 3.332185929104794, 3.4948881060216137, 3.3637420532971376, 3.2971247979553833, 3.467960171884166, 3.4666524304947703, 3.4472186875566444, 3.3609353661367702, 3.473971090118328, 3.480187531119621, 3.519545144906716, 3.380693386878513, 3.533312826394184, 3.343214316803496, 3.3122791314352837, 3.269852958726623, 3.463728406712453, 3.5896654675676767, 3.4688914269671383, 3.38110579417812, 3.3263406138987786, 3.4862636812276513, 3.3027234564729673, 3.5490859478587997, 3.35131229910576, 3.4652492119581364, 3.535938421739529, 3.3637367419926343, 3.5886793617877006, 3.3897857413440122, 3.588206652522443, 3.5442542813306863, 3.4882460480724644, 3.230552169658484, 3.4946346461777926, 3.4501147227960853, 3.4214047702920865, 3.4085006290061406, 3.431299621323841, 3.54259006787807, 3.4859747338609424, 3.473557059824263, 3.363974351330959, 3.524961286522656, 3.4180309311481807, 3.3937552846361263, 3.631893819706233, 3.497125863752734, 3.307774021201352, 3.2935102597537433, 3.4996221150219746, 3.2461956604672846, 3.369190535812278, 3.5109573280769704, 3.2897126442303604, 3.376864264179535, 3.4290355591798716, 3.500226665692641, 3.5098340485200317, 3.414649509350241, 3.3533480769265966, 3.3790466958843375, 3.1778980234636345, 3.347000102159532, 3.3023331855518037, 3.3386702988165213, 3.5040277080705238, 3.495747572958803, 3.4566805325091208, 3.4275369829754427, 3.392021474319141, 3.2620331999731667, 3.4709664815965438, 3.5876086912023926, 3.565903141893544, 3.518484231188974, 3.408941374196212, 3.297079381537663, 3.6016780854889445, 3.3511737234936922, 3.3697387000342367, 3.604683169447772, 3.5293279845631194, 3.500797773717101, 3.454405558033371, 3.4577364518686853, 3.4137562642455617, 3.3752236429401665, 3.5205269834498925, 3.485353866300536, 3.475356905819779, 3.219124533414883, 3.4094139125142022, 3.455373270839753, 3.5181805329325093, 3.2299830227568798, 3.434843014200001, 3.4472870986819677, 3.5401280567803615, 3.0542606661944283, 3.490348720917998, 3.716374135699732, 3.491481642793104, 3.2767849252134735, 3.439762526900056, 3.5505590174338195, 3.3319138438455136, 3.503207176424584, 3.480654965359061, 3.353863534378786, 3.418837220074794, 3.3648087985028607, 3.2729361840439153, 3.5510702996673946, 3.3866329887256517, 3.4817846892706803, 3.5612321808200345, 3.5583669958459008, 3.371755934991409, 3.5501263771855633, 3.504179791241159, 3.688692819178179, 3.1627870633273343, 3.61277415497621, 3.5602524137107516, 3.4694112513583533, 3.6053149612262567, 3.5367439046299154, 3.494927677742743, 3.477805175795731, 3.233998297328476, 3.5905450325769888, 3.474413264502229, 3.330664342320535, 3.6161255101878016, 3.2949222123070934, 3.509994033312233, 3.5713650496162788, 3.233605750781984, 3.37852041607121, 3.755890508132319, 3.410943372639784, 3.4707590966495654, 3.5765711400921663, 3.5535297357962032, 3.5599612733634936, 3.25407835663112, 3.1765398068878348, 3.5959372492801163, 3.411321424136647, 3.268162357302712, 3.686760959877733, 3.2139607671717707, 3.4193340377842696, 3.5328380653770917, 3.4362206767982557, 3.5096195984805334, 3.6572335485563485, 3.5079440044849926, 3.4084466557697195, 3.240220844252507, 3.5283979916099897, 3.400162886881129, 3.353583166883186, 3.4795612286021838, 3.3571000903955985, 3.4989300540050072, 3.532536146605632, 3.217177149466032, 3.264244336215265, 3.543013043679291, 3.4226722233607743, 3.5329187226596748, 3.5450490148125624, 3.3912791953383223, 3.4017500893570687, 3.5130263584714343, 3.452164731680234, 3.391016607575443, 3.1701903980077453, 3.3734139896135398, 3.3956588541088717, 3.357167049073012, 3.2943728266300636, 3.1718831118158297, 3.410679338808832, 3.482133724390386, 3.605078490803124, 3.328677229587691, 3.3511850704391737, 3.5978018966314425, 3.2963236518689016, 3.513016373872678, 3.3825492993854143, 3.3317878360643345, 3.485012719689425, 3.5219482480967477, 3.6239390486159864, 3.5164314565208046, 3.4719266595557885, 3.195672493174211, 3.47175364026412, 3.619866016535804, 3.025620988193438, 3.1655160038976202, 3.5052766430121167, 3.395732007894716, 3.114938459471696, 3.4766835435705508]\n",
            "['2021/12/07', '2021/12/14', '2021/12/15', '2021/12/16', '2021/12/17', '2021/12/18', '2021/12/19', '2021/12/20', '2021/12/21', '2021/12/22', '2021/12/23', '2021/12/24', '2021/12/25', '2021/12/26', '2021/12/27', '2021/12/28', '2021/12/29', '2021/12/30', '2021/12/31', '2022/01/01', '2022/01/02', '2022/01/03', '2022/01/04', '2022/01/05', '2022/01/06', '2022/01/07', '2022/01/08', '2022/01/09', '2022/01/10', '2022/01/11', '2022/01/12', '2022/01/13', '2022/01/18', '2022/01/22', '2022/01/24', '2022/01/25', '2022/01/26', '2022/01/27', '2022/01/28', '2022/01/29', '2022/01/30', '2022/01/31', '2022/02/01', '2022/02/02', '2022/02/03', '2022/02/04', '2022/02/05', '2022/02/06', '2022/02/07', '2022/02/08', '2022/02/09', '2022/02/10', '2022/02/11', '2022/02/12', '2022/02/13', '2022/02/14', '2022/02/15', '2022/02/16', '2022/02/17', '2022/02/18', '2022/02/19', '2022/02/20', '2022/02/21', '2022/02/22', '2022/02/23', '2022/02/24', '2022/02/25', '2022/02/26', '2022/02/27', '2022/02/28', '2022/03/01', '2022/03/02', '2022/03/03', '2022/03/04', '2022/03/05', '2022/03/06', '2022/03/07', '2022/03/08', '2022/03/09', '2022/03/10', '2022/03/11', '2022/03/12', '2022/03/13', '2022/03/14', '2022/03/15', '2022/03/16', '2022/03/17', '2022/03/18', '2022/03/19', '2022/03/20', '2022/03/21', '2022/03/22', '2022/03/23', '2022/03/24', '2022/03/25', '2022/03/26', '2022/03/27', '2022/03/28', '2022/03/29', '2022/03/30', '2022/03/31', '2022/04/01', '2022/04/02', '2022/04/03', '2022/04/04', '2022/04/05', '2022/04/06', '2022/04/07', '2022/04/08', '2022/04/09', '2022/04/10', '2022/04/11', '2022/04/12', '2022/04/13', '2022/04/14', '2022/04/15', '2022/04/16', '2022/04/17', '2022/04/18', '2022/04/19', '2022/04/20', '2022/04/21', '2022/04/22', '2022/04/23', '2022/04/24', '2022/04/25', '2022/04/26', '2022/04/27', '2022/04/28', '2022/04/29', '2022/04/30', '2022/05/01', '2022/05/02', '2022/05/03', '2022/05/04', '2022/05/05', '2022/05/06', '2022/05/07', '2022/05/08', '2022/05/09', '2022/05/10', '2022/05/11', '2022/05/12', '2022/05/13', '2022/05/14', '2022/05/15', '2022/05/16', '2022/05/17', '2022/05/18', '2022/05/19', '2022/05/20', '2022/05/21', '2022/05/22', '2022/05/23', '2022/05/24', '2022/05/25', '2022/05/26', '2022/05/27', '2022/05/28', '2022/05/29', '2022/05/30', '2022/05/31', '2022/06/01', '2022/06/02', '2022/06/03', '2022/06/04', '2022/06/05', '2022/06/06', '2022/06/07', '2022/06/08', '2022/06/09', '2022/06/10', '2022/06/11', '2022/06/12', '2022/06/13', '2022/06/14', '2022/06/15', '2022/06/16', '2022/06/17', '2022/06/18', '2022/06/19', '2022/06/20', '2022/06/21', '2022/06/22', '2022/06/23', '2022/06/24', '2022/06/25', '2022/06/26', '2022/06/27', '2022/06/28', '2022/06/29', '2022/06/30', '2022/07/01', '2022/07/02', '2022/07/03', '2022/07/04', '2022/07/05', '2022/07/06', '2022/07/07', '2022/07/08', '2022/07/09', '2022/07/10', '2022/07/11', '2022/07/12', '2022/07/13', '2022/07/14', '2022/07/15', '2022/07/16', '2022/07/17', '2022/07/18', '2022/07/19', '2022/07/20', '2022/07/21', '2022/07/22', '2022/07/23', '2022/07/24', '2022/07/25', '2022/07/26', '2022/07/27', '2022/07/28', '2022/07/29', '2022/07/30', '2022/07/31', '2022/08/01', '2022/08/02', '2022/08/03', '2022/08/04', '2022/08/05', '2022/08/06', '2022/08/08', '2022/08/09', '2022/08/10', '2022/08/11', '2022/08/12', '2022/08/13', '2022/09/27', ]\n",
            "[3.44296422030015, 3.4424527448342843, 3.442379676910589, 3.442306608986894, 3.442233541063199, 3.442160473139504, 3.442087405215809, 3.4420143372921137, 3.4419412693684186, 3.4418682014447235, 3.4417951335210284, 3.4417220655973333, 3.441648997673638, 3.441575929749943, 3.441502861826248, 3.441429793902553, 3.4413567259788578, 3.4412836580551627, 3.4412105901314676, 3.4411375222077725, 3.4410644542840774, 3.4409913863603823, 3.440918318436687, 3.440845250512992, 3.440772182589297, 3.440699114665602, 3.4406260467419068, 3.4405529788182116, 3.4404799108945165, 3.4404068429708214, 3.4403337750471263, 3.4402607071234312, 3.4398953675049557, 3.4396030958101753, 3.439456959962785, 3.43938389203909, 3.439310824115395, 3.4392377561917, 3.4391646882680047, 3.4390916203443096, 3.4390185524206145, 3.4389454844969194, 3.4388724165732243, 3.438799348649529, 3.438726280725834, 3.438653212802139, 3.438580144878444, 3.4385070769547488, 3.4384340090310537, 3.4383609411073586, 3.4382878731836635, 3.4382148052599684, 3.4381417373362733, 3.438068669412578, 3.437995601488883, 3.437922533565188, 3.437849465641493, 3.4377763977177977, 3.4377033297941026, 3.4376302618704075, 3.4375571939467124, 3.4374841260230173, 3.4374110580993222, 3.437337990175627, 3.437264922251932, 3.437191854328237, 3.437118786404542, 3.4370457184808467, 3.4369726505571516, 3.4368995826334565, 3.4368265147097614, 3.4367534467860663, 3.436680378862371, 3.436607310938676, 3.436534243014981, 3.436461175091286, 3.436388107167591, 3.4363150392438957, 3.4362419713202006, 3.4361689033965055, 3.4360958354728104, 3.4360227675491153, 3.43594969962542, 3.435876631701725, 3.43580356377803, 3.435730495854335, 3.4356574279306398, 3.4355843600069447, 3.4355112920832496, 3.4354382241595545, 3.4353651562358594, 3.4352920883121643, 3.435219020388469, 3.435145952464774, 3.435072884541079, 3.434999816617384, 3.4349267486936887, 3.4348536807699936, 3.4347806128462985, 3.4347075449226034, 3.4346344769989083, 3.4345614090752132, 3.434488341151518, 3.434415273227823, 3.434342205304128, 3.434269137380433, 3.4341960694567377, 3.4341230015330426, 3.4340499336093475, 3.4339768656856524, 3.4339037977619573, 3.433830729838262, 3.433757661914567, 3.433684593990872, 3.433611526067177, 3.433538458143482, 3.4334653902197867, 3.4333923222960916, 3.4333192543723965, 3.4332461864487014, 3.4331731185250063, 3.433100050601311, 3.433026982677616, 3.432953914753921, 3.432880846830226, 3.4328077789065308, 3.4327347109828357, 3.4326616430591406, 3.4325885751354455, 3.4325155072117504, 3.4324424392880553, 3.43236937136436, 3.432296303440665, 3.43222323551697, 3.432150167593275, 3.4320770996695797, 3.4320040317458846, 3.4319309638221895, 3.4318578958984944, 3.4317848279747993, 3.4317117600511042, 3.431638692127409, 3.431565624203714, 3.431492556280019, 3.431419488356324, 3.4313464204326287, 3.4312733525089336, 3.4312002845852385, 3.4311272166615434, 3.4310541487378483, 3.430981080814153, 3.430908012890458, 3.430834944966763, 3.430761877043068, 3.430688809119373, 3.4306157411956777, 3.4305426732719826, 3.4304696053482875, 3.4303965374245924, 3.4303234695008973, 3.430250401577202, 3.430177333653507, 3.430104265729812, 3.430031197806117, 3.4299581298824218, 3.4298850619587267, 3.4298119940350316, 3.4297389261113365, 3.4296658581876414, 3.4295927902639463, 3.429519722340251, 3.429446654416556, 3.429373586492861, 3.429300518569166, 3.4292274506454707, 3.4291543827217756, 3.4290813147980805, 3.4290082468743854, 3.4289351789506903, 3.4288621110269952, 3.4287890431033, 3.428715975179605, 3.42864290725591, 3.428569839332215, 3.4284967714085197, 3.4284237034848246, 3.4283506355611295, 3.4282775676374344, 3.4282044997137393, 3.428131431790044, 3.428058363866349, 3.427985295942654, 3.427912228018959, 3.427839160095264, 3.4277660921715687, 3.4276930242478736, 3.4276199563241785, 3.4275468884004834, 3.4274738204767883, 3.427400752553093, 3.427327684629398, 3.427254616705703, 3.427181548782008, 3.4271084808583128, 3.4270354129346177, 3.4269623450109226, 3.4268892770872275, 3.4268162091635324, 3.4267431412398373, 3.426670073316142, 3.426597005392447, 3.426523937468752, 3.426450869545057, 3.4263778016213617, 3.4263047336976666, 3.4262316657739715, 3.4261585978502764, 3.4260855299265813, 3.4260124620028862, 3.425939394079191, 3.425866326155496, 3.425793258231801, 3.425720190308106, 3.4256471223844107, 3.4255740544607156, 3.4255009865370205, 3.4254279186133254, 3.4253548506896303, 3.425281782765935, 3.425135646918545, 3.42506257899485, 3.424989511071155, 3.4249164431474597, 3.4248433752237646, 3.4247703073000695, 3.42148225073379, ]"
          ]
        },
        {
          "output_type": "display_data",
          "data": {
            "text/plain": [
              "<Figure size 800x500 with 1 Axes>"
            ],
            "image/png": "[encoded data removed]"
          },
          "metadata": {}
        },
        {
          "output_type": "stream",
          "name": "stdout",
          "text": [
            "Stationary test for patient 1065442966 about Intrinsic Capacity data\n",
            "\n",
            "ADF Statistic: -8.430340\n",
            "p-value: 0.000000\t so the trend is stationary\n",
            "Critical Values:\n",
            "\t1%: -3.459\n",
            "\t5%: -2.874\n",
            "\t10%: -2.573\n",
            "KPSS Statistic: 0.101997\n",
            "p-value: 0.100000\t so the trend is stationary\n",
            "Critical Values:\n",
            "\t10%: 0.119\n",
            "\t5%: 0.146\n",
            "\t2.5%: 0.176\n",
            "\t1%: 0.216\n"
          ]
        },
        {
          "output_type": "stream",
          "name": "stderr",
          "text": [
            "<ipython-input-53-a4f45cea2656>:60: InterpolationWarning: The test statistic is outside of the range of p-values available in the\n",
            "look-up table. The actual p-value is greater than the p-value returned.\n",
            "\n",
            "  result = kpss(X, regression = 'ct') # 'regression=ct --> null hypothesis is that the data is trend stationary\n"
          ]
        }
      ]
    },
    {
      "cell_type": "code",
      "source": [
        "plotPatientPerformanceScorePandas(dfTotPandas, '1065442966', 'Locomotion')\n",
        "adf_kpss_test_pandas(dfTotPandas, '1065442966', 'Locomotion')"
      ],
      "metadata": {
        "colab": {
          "base_uri": "https://localhost:8080/",
          "height": 886
        },
        "id": "ftXtj0ruH6DC",
        "outputId": "ec8df234-66f9-4dae-ab93-28f2087ddae9"
      },
      "execution_count": null,
      "outputs": [
        {
          "output_type": "stream",
          "name": "stdout",
          "text": [
            "[3.5, 3.8582515037697354, 2.955223883336126, 2.915751819564248, 3.7407882500204654, 3.4958315662035413, 2.8128954226635488, 3.8588987966447386, 3.6671650970831786, 3.579875750339358, 3.7217556081334675, 3.9507018574654467, 3.53261586256528, 3.8627304311711557, 3.837025748033707, 3.463246602820944, 3.5774524363545774, 3.0817403214740544, 3.6860166496885327, 3.7287130398329054, 3.717890462737073, 3.5901307392170225, 3.003460092957804, 3.1034310948624104, 3.4585918834111546, 3.068497873857103, 3.2337505998851936, 3.141837983791651, 3.6911862701611056, 3.1218310841172126, 3.0313494116793605, 3.372600929500755, 3.5, 3.5, 3.5, 3.5, 3.5, 3.3636291355916192, 2.8241299809598557, 3.2583233152614257, 2.8151692434510243, 3.797922065253099, 2.8128954226635488, 3.5, 4.582538262212009, 3.5, 3.5, 3.5, 3.5, 3.5, 3.5, 3.5, 3.5, 3.5, 3.5, 3.5, 3.5, 3.5, 2.9793061604928397, 3.8073047560718587, 3.7882314660846275, 3.672669138790838, 3.4492505711763917, 3.621094434679007, 3.524067020004036, 3.709382118125949, 3.6925253291751927, 3.7392576359404064, 3.8083653519269114, 3.7398440384704763, 3.5898035671990733, 3.8648442538076258, 3.1360887011529757, 3.2836864253065086, 3.7203091276595277, 3.543864121712465, 3.5201550214525335, 3.6333652296120946, 4.122624684636719, 3.352825934661838, 3.3905745586648757, 3.6536704965038362, 3.451058544067391, 3.3580329684132244, 3.4764125085943025, 3.429296946171651, 3.096548313172238, 3.2884384402755558, 2.9128269950289702, 3.6607393853926435, 3.3441410652976304, 3.0014731678150124, 3.8713155631880256, 3.8081917160591945, 3.6437842541535748, 3.441959009295524, 3.2944392898201604, 3.105200732499258, 3.305444282361984, 3.4314580722308907, 3.8275828127635445, 3.5407149445717288, 3.394319759278842, 3.8650106275928815, 2.9653902485850665, 3.9935858770015162, 3.1176388479587143, 3.4129716152887664, 3.554444282859532, 3.600787703707986, 3.5575381405877504, 3.240594836188437, 2.919695401509132, 3.1989530548523724, 3.5975066851200146, 3.8115214917302076, 3.623738453412687, 3.5652531359419886, 3.2828905007113978, 3.4143834595451077, 3.1929501863789165, 3.6450863342526874, 3.1979592388371127, 3.426453681131626, 3.41811501521987, 3.1790034478841207, 3.0699307386439347, 3.5134839590335134, 3.954992903627161, 3.6737628364017314, 3.3293324690266113, 3.289427037713122, 3.9575800309758518, 3.3942971874056687, 3.5946121750470805, 3.41105787643632, 3.414690807016774, 3.8965174012786794, 3.7184285604372627, 3.201385759305419, 3.7568181564092002, 2.957072007043605, 4.007327425706395, 3.5262152854397413, 3.608050905311923, 3.246628865340286, 3.417158863296595, 3.5657409936676334, 4.033151573939564, 3.202043298145959, 3.7041439487143073, 3.1038999276917867, 3.4560275857460576, 3.7067884962671633, 3.0311011702952957, 3.0049175949437696, 3.7583756526062064, 3.119903114679406, 3.506907053630827, 3.126222048012389, 3.1035272898705704, 3.746181227150603, 3.3220207576717966, 3.3271224979106484, 3.209035889799649, 2.831083049854138, 2.964595158356862, 3.8933383897384104, 3.3607625626486963, 3.8047490737980914, 3.854030346202959, 3.4739466922470035, 3.510403382806792, 3.3395631657990554, 2.827607517184504, 4.084674044207593, 3.3948124187240585, 3.1394029390731877, 3.842960061120561, 2.9216591169085295, 3.7143393539065963, 3.5698954163836714, 3.5631146551130657, 2.9926645274442834, 3.5892006087542647, 3.4113859220279625, 3.437388032034524, 2.9752922618937854, 3.89302109731012, 3.104705820691047, 3.5, 3.5, 3.1162586656817024, 3.271376972423068, 3.380682704015107, 2.9905961500487344, 3.7154239944797984, 3.855724651631869, 3.4471467066866284, 3.853277129080618, 3.6390285870905164, 3.566929126668617, 3.2358229037377555, 2.8623919440447723, 3.054310607961858, 3.4356518401197436, 3.313071068228563, 3.310501450313774, 3.0989925347422003, 3.5271592190558088, 3.429140266077119, 3.006779616325338, 3.577124357203559, 2.916229570982259, 3.334929034018264, 3.3219079411600427, 2.9523917086816165, 3.8025489049102497, 3.0544272792557883, 3.4401396195974048, 2.8253135919701626, 3.4328032453099295, 3.232241556775693, 3.1285413722828723, 3.6183641190242994, 3.4366152018926512, 3.5814188933788227, 3.316467235311449, 3.6645543325496996, 4.282436440272394, 2.960528887297739, 3.5343047741685107, 4.112199613226398, 3.5, 1.8709203818877327, 3.5]\n",
            "['2021/12/07', '2021/12/14', '2021/12/15', '2021/12/16', '2021/12/17', '2021/12/18', '2021/12/19', '2021/12/20', '2021/12/21', '2021/12/22', '2021/12/23', '2021/12/24', '2021/12/25', '2021/12/26', '2021/12/27', '2021/12/28', '2021/12/29', '2021/12/30', '2021/12/31', '2022/01/01', '2022/01/02', '2022/01/03', '2022/01/04', '2022/01/05', '2022/01/06', '2022/01/07', '2022/01/08', '2022/01/09', '2022/01/10', '2022/01/11', '2022/01/12', '2022/01/13', '2022/01/18', '2022/01/22', '2022/01/24', '2022/01/25', '2022/01/26', '2022/01/27', '2022/01/28', '2022/01/29', '2022/01/30', '2022/01/31', '2022/02/01', '2022/02/02', '2022/02/03', '2022/02/04', '2022/02/05', '2022/02/06', '2022/02/07', '2022/02/08', '2022/02/09', '2022/02/10', '2022/02/11', '2022/02/12', '2022/02/13', '2022/02/14', '2022/02/15', '2022/02/16', '2022/02/17', '2022/02/18', '2022/02/19', '2022/02/20', '2022/02/21', '2022/02/22', '2022/02/23', '2022/02/24', '2022/02/25', '2022/02/26', '2022/02/27', '2022/02/28', '2022/03/01', '2022/03/02', '2022/03/03', '2022/03/04', '2022/03/05', '2022/03/06', '2022/03/07', '2022/03/08', '2022/03/09', '2022/03/10', '2022/03/11', '2022/03/12', '2022/03/13', '2022/03/14', '2022/03/15', '2022/03/16', '2022/03/17', '2022/03/18', '2022/03/19', '2022/03/20', '2022/03/21', '2022/03/22', '2022/03/23', '2022/03/24', '2022/03/25', '2022/03/26', '2022/03/27', '2022/03/28', '2022/03/29', '2022/03/30', '2022/03/31', '2022/04/01', '2022/04/02', '2022/04/03', '2022/04/04', '2022/04/05', '2022/04/06', '2022/04/07', '2022/04/08', '2022/04/09', '2022/04/10', '2022/04/11', '2022/04/12', '2022/04/13', '2022/04/14', '2022/04/15', '2022/04/16', '2022/04/17', '2022/04/18', '2022/04/19', '2022/04/20', '2022/04/21', '2022/04/22', '2022/04/23', '2022/04/24', '2022/04/25', '2022/04/26', '2022/04/27', '2022/04/28', '2022/04/29', '2022/04/30', '2022/05/01', '2022/05/02', '2022/05/03', '2022/05/04', '2022/05/05', '2022/05/06', '2022/05/07', '2022/05/08', '2022/05/09', '2022/05/10', '2022/05/11', '2022/05/12', '2022/05/13', '2022/05/14', '2022/05/15', '2022/05/16', '2022/05/17', '2022/05/18', '2022/05/19', '2022/05/20', '2022/05/21', '2022/05/22', '2022/05/23', '2022/05/24', '2022/05/25', '2022/05/26', '2022/05/27', '2022/05/28', '2022/05/29', '2022/05/30', '2022/05/31', '2022/06/01', '2022/06/02', '2022/06/03', '2022/06/04', '2022/06/05', '2022/06/06', '2022/06/07', '2022/06/08', '2022/06/09', '2022/06/10', '2022/06/11', '2022/06/12', '2022/06/13', '2022/06/14', '2022/06/15', '2022/06/16', '2022/06/17', '2022/06/18', '2022/06/19', '2022/06/20', '2022/06/21', '2022/06/22', '2022/06/23', '2022/06/24', '2022/06/25', '2022/06/26', '2022/06/27', '2022/06/28', '2022/06/29', '2022/06/30', '2022/07/01', '2022/07/02', '2022/07/03', '2022/07/04', '2022/07/05', '2022/07/06', '2022/07/07', '2022/07/08', '2022/07/09', '2022/07/10', '2022/07/11', '2022/07/12', '2022/07/13', '2022/07/14', '2022/07/15', '2022/07/16', '2022/07/17', '2022/07/18', '2022/07/19', '2022/07/20', '2022/07/21', '2022/07/22', '2022/07/23', '2022/07/24', '2022/07/25', '2022/07/26', '2022/07/27', '2022/07/28', '2022/07/29', '2022/07/30', '2022/07/31', '2022/08/01', '2022/08/02', '2022/08/03', '2022/08/04', '2022/08/05', '2022/08/06', '2022/08/08', '2022/08/09', '2022/08/10', '2022/08/11', '2022/08/12', '2022/08/13', '2022/09/27', ]\n",
            "[3.5140138181002634, 3.5101033075073627, 3.509544663136948, 3.5089860187665334, 3.5084273743961205, 3.507868730025706, 3.5073100856552912, 3.5067514412848766, 3.506192796914462, 3.505634152544049, 3.5050755081736344, 3.50451686380322, 3.503958219432805, 3.5033995750623905, 3.502840930691976, 3.502282286321563, 3.5017236419511484, 3.5011649975807337, 3.500606353210319, 3.5000477088399045, 3.4994890644694916, 3.498930420099077, 3.4983717757286623, 3.4978131313582477, 3.497254486987833, 3.4966958426174184, 3.4961371982470055, 3.495578553876591, 3.4950199095061762, 3.4944612651357616, 3.493902620765347, 3.493343976394934, 3.490550754542861, 3.488316177061204, 3.4871988883203766, 3.486640243949962, 3.4860815995795473, 3.4855229552091327, 3.484964310838718, 3.4844056664683034, 3.4838470220978905, 3.483288377727476, 3.4827297333570613, 3.4821710889866466, 3.481612444616232, 3.481053800245819, 3.4804951558754045, 3.47993651150499, 3.479377867134575, 3.4788192227641606, 3.478260578393746, 3.477701934023333, 3.4771432896529184, 3.4765846452825038, 3.476026000912089, 3.4754673565416745, 3.4749087121712616, 3.474350067800847, 3.4737914234304323, 3.4732327790600177, 3.472674134689603, 3.4721154903191884, 3.4715568459487756, 3.470998201578361, 3.4704395572079463, 3.4698809128375316, 3.469322268467117, 3.468763624096704, 3.4682049797262895, 3.467646335355875, 3.46708769098546, 3.4665290466150456, 3.465970402244631, 3.465411757874218, 3.4648531135038034, 3.464294469133389, 3.463735824762974, 3.4631771803925595, 3.4626185360221466, 3.462059891651732, 3.4615012472813174, 3.4609426029109027, 3.460383958540488, 3.4598253141700734, 3.4592666697996606, 3.458708025429246, 3.4581493810588313, 3.4575907366884167, 3.457032092318002, 3.456473447947589, 3.4559148035771745, 3.45535615920676, 3.4547975148363452, 3.4542388704659306, 3.453680226095516, 3.453121581725103, 3.4525629373546884, 3.452004292984274, 3.451445648613859, 3.4508870042434445, 3.4503283598730317, 3.449769715502617, 3.4492110711322024, 3.4486524267617877, 3.448093782391373, 3.4475351380209585, 3.4469764936505456, 3.446417849280131, 3.4458592049097163, 3.4453005605393017, 3.444741916168887, 3.444183271798474, 3.4436246274280595, 3.443065983057645, 3.4425073386872302, 3.4419486943168156, 3.441390049946401, 3.440831405575988, 3.4402727612055735, 3.439714116835159, 3.439155472464744, 3.4385968280943295, 3.4380381837239167, 3.437479539353502, 3.4369208949830874, 3.4363622506126728, 3.435803606242258, 3.4352449618718435, 3.4346863175014306, 3.434127673131016, 3.4335690287606013, 3.4330103843901867, 3.432451740019772, 3.431893095649359, 3.4313344512789445, 3.43077580690853, 3.4302171625381153, 3.4296585181677006, 3.429099873797286, 3.428541229426873, 3.4279825850564585, 3.427423940686044, 3.426865296315629, 3.4263066519452146, 3.4257480075748017, 3.425189363204387, 3.4246307188339724, 3.4240720744635578, 3.423513430093143, 3.4229547857227285, 3.4223961413523156, 3.421837496981901, 3.4212788526114863, 3.4207202082410717, 3.420161563870657, 3.419602919500244, 3.4190442751298296, 3.418485630759415, 3.4179269863890003, 3.4173683420185856, 3.416809697648171, 3.416251053277758, 3.4156924089073435, 3.415133764536929, 3.414575120166514, 3.4140164757960996, 3.4134578314256867, 3.412899187055272, 3.4123405426848574, 3.411781898314443, 3.411223253944028, 3.4106646095736135, 3.4101059652032006, 3.409547320832786, 3.4089886764623714, 3.4084300320919567, 3.407871387721542, 3.407312743351129, 3.4067540989807146, 3.4061954546103, 3.4056368102398853, 3.4050781658694707, 3.404519521499056, 3.403960877128643, 3.4034022327582285, 3.402843588387814, 3.4022849440173992, 3.4017262996469846, 3.4011676552765717, 3.400609010906157, 3.4000503665357424, 3.399491722165328, 3.398933077794913, 3.3983744334244985, 3.3978157890540857, 3.397257144683671, 3.3966985003132564, 3.3961398559428417, 3.395581211572427, 3.3950225672020142, 3.3944639228315996, 3.393905278461185, 3.3933466340907703, 3.3927879897203557, 3.392229345349941, 3.391670700979528, 3.3911120566091135, 3.390553412238699, 3.3899947678682842, 3.3894361234978696, 3.3888774791274567, 3.388318834757042, 3.3877601903866275, 3.387201546016213, 3.386642901645798, 3.3860842572753835, 3.3855256129049707, 3.384966968534556, 3.3844083241641414, 3.3838496797937268, 3.383291035423312, 3.3827323910528992, 3.3821737466824846, 3.38161510231207, 3.3810564579416553, 3.3804978135712407, 3.379939169200826, 3.379380524830413, 3.3788218804599985, 3.3777045917191693, 3.3771459473487546, 3.3765873029783418, 3.376028658607927, 3.3754700142375125, 3.374911369867098, 3.3497723731984532, ]"
          ]
        },
        {
          "output_type": "display_data",
          "data": {
            "text/plain": [
              "<Figure size 800x500 with 1 Axes>"
            ],
            "image/png": "[encoded data removed]"
          },
          "metadata": {}
        },
        {
          "output_type": "stream",
          "name": "stdout",
          "text": [
            "Stationary test for patient 1065442966 about Locomotion data\n",
            "\n",
            "ADF Statistic: -15.949860\n",
            "p-value: 0.000000\t so the trend is stationary\n",
            "Critical Values:\n",
            "\t1%: -3.458\n",
            "\t5%: -2.874\n",
            "\t10%: -2.573\n",
            "KPSS Statistic: 0.067123\n",
            "p-value: 0.100000\t so the trend is stationary\n",
            "Critical Values:\n",
            "\t10%: 0.119\n",
            "\t5%: 0.146\n",
            "\t2.5%: 0.176\n",
            "\t1%: 0.216\n"
          ]
        },
        {
          "output_type": "stream",
          "name": "stderr",
          "text": [
            "<ipython-input-53-a4f45cea2656>:60: InterpolationWarning: The test statistic is outside of the range of p-values available in the\n",
            "look-up table. The actual p-value is greater than the p-value returned.\n",
            "\n",
            "  result = kpss(X, regression = 'ct') # 'regression=ct --> null hypothesis is that the data is trend stationary\n"
          ]
        }
      ]
    },
    {
      "cell_type": "code",
      "source": [
        "plotPatientPerformanceScorePandas(dfTotPandas, '303827011', 'Intrinsic Capacity')\n",
        "adf_kpss_test_pandas(dfTotPandas, '303827011', 'Intrinsic Capacity')"
      ],
      "metadata": {
        "colab": {
          "base_uri": "https://localhost:8080/",
          "height": 886
        },
        "id": "fVkVyDArJbe-",
        "outputId": "0182aa20-8c76-4d4d-d5e6-38c73c8c379c"
      },
      "execution_count": null,
      "outputs": [
        {
          "output_type": "stream",
          "name": "stdout",
          "text": [
            "[3.5481371368826173, 3.6053678232831583, 3.572291566164537, 3.552995477493747, 3.54720169173002, 3.5032083709208877, 3.564955655901553, 3.545233307534056, 3.549496277561137, 3.757037433144261, 3.8501597615399894, 4.0044236600343055, 3.8472443189042536, 4.105824872373734, 4.009304849591734, 3.9261730149147254, 3.9870346261210114, 4.075291349104789, 3.7181458196834636, 3.8468926458854646, 3.956688308159037, 3.765996128347253, 3.80846883613968, 3.8552893022841834, 3.4610541294054222, 3.748180990421502, 4.0390405420123425, 3.702979313980415, 3.7695365213887806, 4.126063977328389, 3.8288225997452976, 3.7766908102734824, 3.8526505682662133, 3.8854207239545686, 3.7345811647102454, 3.7318310447024645, 3.788873453728733, 3.7089953342929074, 3.6417902477853876, 3.684806296969893, 3.7514302699899478, 3.812562847129733, 3.718399508244136, 3.4923924267084137, 3.6925345263338505, 3.680412665086156, 3.5251121023407976, 3.702067625483811, 3.4800516394313754, 3.7679431335639406, 3.604911279061252, 3.774393221099993, 3.8140297667988694, 3.834017604248178, 3.5573614517308725, 3.768017322891375, 3.940731115857001, 3.61748869094299, 3.5959966464217197, 3.569848897151577, 3.6099564717642196, 3.9207932020460876, 3.8651231011585616, 3.4245801848263207, 3.777952862590372, 3.7925568854877665, 3.7863237928247226, 3.8080361135691105, 3.7872550594374985, 3.78402871836758, 3.6724995741691355, 3.757021976032611, 3.8191697997784995, 3.685580561308143, 3.4283976622383343, 3.7219517741055546, 3.5964659158008105, 3.8340505028540135, 3.644799483715887, 3.760729506263649, 3.6850116548210927, 3.8683043252683493, 3.6248183468772, 3.713339759486657, 3.723519800859365, 3.750548873086049, 3.7372104831522117, 3.822851292008458, 3.844788061246886, 3.6469670990534397, 3.8504713843363345, 3.725235132777488, 3.8448991889151554, 3.8462391872164665, 3.7226197312027725, 3.814177440132214, 3.748698934905714, 3.736034119682272, 3.7860796242458448, 3.6815117074554866, 3.8925401829883386, 3.684589948078609, 3.4770080018092564, 3.9080270794703997, 3.658332717703464, 3.623553470473738, 3.77506930670918, 3.639278826528051, 3.592283032735009, 3.624304051474315, 3.667109052873755, 3.7312582809795263, 3.2539031224596444, 3.807336610432679, 3.8450121632978047, 3.7844086251287004, 3.885690499946627, 3.6826777810377354, 3.731510293730602, 3.8119769589557007, 3.765708967584391, 3.8141326609309387, 3.9461507551578254, 3.872627187412597, 3.5976234817624273, 3.6444223400354816, 3.856494999101781, 3.833133926646241, 3.8790204363376577, 3.9897816748957355, 3.7781529943479946, 3.7633462386586354, 3.8249027950974663, 3.728346710564686, 3.8508006271785336, 3.783036217667372, 3.6249531676962223, 3.5920185532583075, 3.8365746901080815, 3.8359305923427227, 3.74298858765226, 3.774707710920834, 3.9663651860661435, 3.7206047573827554, 3.5708580035374933, 3.9656142143182715, 3.8653451780345396, 3.8873021070084204, 3.9986701989153586, 3.9605643293837667, 3.8499307905833877, 3.7502255619143945, 3.965171449278866, 3.9064596000036813, 3.60217638980554, 3.8523432813469123, 3.6967045294574405, 3.5866452430936966, 3.6069463367421823, 3.615561112440708, 3.7093732194812548, 3.9079573230281826, 3.7799492237995405, 4.02876911505525, 3.7177426605043804, 3.5902253560437116, 3.8858278949921146, 3.823536102267369, 3.8899880954662893, 3.61664744208234, 3.9013542783781916, 3.83872422431993, 3.5680462692713797, 3.596520871787908, 3.870352372744768, 3.690595046042088, 3.9168528426209326, 3.846074886705911, 3.538372183857121, 3.794091100920368, 4.007440723721091, 3.825783925060025, 3.8109720472726876, 3.812388725590526, 3.6376377328671223, 3.782446664582682, 3.752252855883629, 3.8138580404650746, 3.915774907310791, 3.8658794438611985, 3.724585377188172, 3.64364092760004, 3.5348095294780584, 3.4276697594202536, 3.722821027931744, 3.8460061170244204, 3.4553807398880374, 3.4276697594202536, 3.542895625970956, 3.380418211748687, 3.4276697594202536, 3.542895625970956, 3.542895625970956, 3.4276697594202536, 3.563959530492104, 3.5038066846460754, 3.562542399359086, 3.6085490280905774, 3.9339805976679973, 3.7901244791009914, 3.8813797213617383, 3.8580578003070114, 3.8728393701941286, 4.018008646596108, 3.4292802957260378, 3.6693260112590367, 3.745703766682086, 3.7891408065079784, 3.7210429470996287, 3.7773683684742423, 3.7258154308583222, 3.760480427264368, 3.6561434968571342, 3.772580434726498, 3.8681189662818563, 3.7498144334207493, 3.6091621711523953, 3.6380762528368717, 3.605913868993964, 3.65816698388866, 3.7552391396126357, 3.8968506520489683, 3.575590049902224, 3.601992978265316, 3.4276697594202536, 3.5526992951607554, 3.5526992951607554, 3.5526992951607554, 3.500332378383594, 3.5926663506449783, 3.5926663506449783, 3.5664998791776137, 3.5926663506449783, 3.6493663027310244, 3.552870458771767, 3.5866161907717786, 3.5128552130542343, 3.582375153410484, 3.585958526321376, 3.4775505853890656, 3.5789190082840925, 3.576639359597523, 3.39748310327424, 3.7589769175612555, 3.7430148081300523, 3.7030963312571403, 3.700536505762703, 3.7841370493451993, 3.6182179408597133, 3.617289332306469, 3.5000786700339828, 3.8177028217447515, 3.465638282465446, 3.732515935251202, 3.732515935251202, 3.733844863719336, 3.733844863719336, 3.733844863719336, 3.732515935251202, 3.733844863719336, 3.6934731946793717, 3.716568310106824, 3.713821302022088, 3.7468606054159803, 3.6233474731733333, 3.7499121054518905, 3.7477485276645703, 3.7250265978095625, 3.724141294822581, 3.7044901967617556, 3.7463268234275007, 3.716834979867756, 3.6228356674489834, 3.7122660905949774, 3.726733941969605, 3.70729568961264, 3.718416750099403, 3.701304506105063, 3.7310305522170695, 3.714792105515073, 3.6650836804513105, 3.7333527334575143, 3.7330279451054116, 3.8002037440233645, 3.6033437048294146, 3.6124783486078584, 3.529128471714474, 3.7107584043654174]\n",
            "['2021/10/27', '2021/10/28', '2021/10/29', '2021/10/30', '2021/10/31', '2021/11/01', '2021/11/02', '2021/11/03', '2021/11/04', '2021/11/11', '2021/11/12', '2021/11/13', '2021/11/14', '2021/11/15', '2021/11/16', '2021/11/17', '2021/11/18', '2021/11/19', '2021/11/20', '2021/11/21', '2021/11/22', '2021/11/23', '2021/11/24', '2021/11/25', '2021/11/26', '2021/11/28', '2021/11/29', '2021/11/30', '2021/12/01', '2021/12/02', '2021/12/03', '2021/12/04', '2021/12/05', '2021/12/06', '2021/12/07', '2021/12/08', '2021/12/09', '2021/12/10', '2021/12/11', '2021/12/12', '2021/12/13', '2021/12/14', '2021/12/15', '2021/12/16', '2021/12/17', '2021/12/18', '2021/12/19', '2021/12/20', '2021/12/21', '2021/12/22', '2021/12/23', '2021/12/24', '2021/12/25', '2021/12/26', '2021/12/27', '2021/12/28', '2021/12/29', '2021/12/30', '2021/12/31', '2022/01/01', '2022/01/02', '2022/01/03', '2022/01/04', '2022/01/05', '2022/01/06', '2022/01/07', '2022/01/08', '2022/01/09', '2022/01/10', '2022/01/11', '2022/01/12', '2022/01/13', '2022/01/14', '2022/01/15', '2022/01/16', '2022/01/17', '2022/01/18', '2022/01/19', '2022/01/20', '2022/01/21', '2022/01/22', '2022/01/23', '2022/01/24', '2022/01/25', '2022/01/26', '2022/01/27', '2022/01/28', '2022/01/29', '2022/01/30', '2022/01/31', '2022/02/01', '2022/02/02', '2022/02/03', '2022/02/04', '2022/02/05', '2022/02/06', '2022/02/07', '2022/02/08', '2022/02/09', '2022/02/10', '2022/02/15', '2022/02/16', '2022/02/17', '2022/02/18', '2022/02/19', '2022/02/20', '2022/02/21', '2022/02/22', '2022/02/23', '2022/02/24', '2022/02/25', '2022/02/26', '2022/02/27', '2022/03/02', '2022/03/03', '2022/03/04', '2022/03/05', '2022/03/06', '2022/03/07', '2022/03/08', '2022/03/09', '2022/03/10', '2022/03/11', '2022/03/12', '2022/03/13', '2022/03/14', '2022/03/15', '2022/03/16', '2022/03/17', '2022/03/18', '2022/03/19', '2022/03/20', '2022/03/21', '2022/03/22', '2022/03/23', '2022/03/24', '2022/03/25', '2022/03/26', '2022/03/27', '2022/03/28', '2022/03/29', '2022/03/30', '2022/03/31', '2022/04/01', '2022/04/02', '2022/04/03', '2022/04/04', '2022/04/05', '2022/04/06', '2022/04/07', '2022/04/08', '2022/04/09', '2022/04/10', '2022/04/11', '2022/04/12', '2022/04/13', '2022/04/14', '2022/04/15', '2022/04/16', '2022/04/17', '2022/04/18', '2022/04/19', '2022/04/20', '2022/04/21', '2022/04/22', '2022/04/23', '2022/04/24', '2022/04/25', '2022/04/26', '2022/04/27', '2022/04/28', '2022/04/29', '2022/04/30', '2022/05/01', '2022/05/02', '2022/05/03', '2022/05/04', '2022/05/05', '2022/05/06', '2022/05/07', '2022/05/08', '2022/05/09', '2022/05/10', '2022/05/11', '2022/05/12', '2022/05/13', '2022/05/14', '2022/05/15', '2022/05/16', '2022/05/17', '2022/05/18', '2022/05/19', '2022/05/20', '2022/05/21', '2022/05/22', '2022/05/23', '2022/05/24', '2022/05/25', '2022/05/26', '2022/05/27', '2022/05/28', '2022/05/29', '2022/05/30', '2022/05/31', '2022/06/01', '2022/06/02', '2022/06/03', '2022/06/04', '2022/06/05', '2022/06/06', '2022/06/07', '2022/06/08', '2022/06/09', '2022/06/10', '2022/06/11', '2022/06/12', '2022/06/13', '2022/06/14', '2022/06/15', '2022/06/16', '2022/06/17', '2022/06/18', '2022/06/19', '2022/06/20', '2022/06/21', '2022/06/22', '2022/06/23', '2022/06/24', '2022/06/25', '2022/06/26', '2022/06/27', '2022/06/28', '2022/06/29', '2022/07/02', '2022/07/03', '2022/07/04', '2022/07/05', '2022/07/06', '2022/07/07', '2022/07/08', '2022/07/09', '2022/07/10', '2022/07/11', '2022/07/12', '2022/07/13', '2022/07/14', '2022/07/15', '2022/07/16', '2022/07/17', '2022/07/18', '2022/07/19', '2022/07/20', '2022/07/21', '2022/07/22', '2022/07/23', '2022/07/25', '2022/07/26', '2022/07/27', '2022/07/28', '2022/07/29', '2022/07/30', '2022/07/31', '2022/08/01', '2022/08/02', '2022/08/03', '2022/08/04', '2022/08/05', '2022/08/06', '2022/08/07', '2022/08/08', '2022/08/09', '2022/08/10', '2022/08/11', '2022/08/12', '2022/08/13', '2022/08/14', '2022/08/16', '2022/08/26', '2022/08/29', '2022/08/30', '2022/08/31', '2022/09/01', '2022/09/02', '2022/09/03', '2022/09/04', '2022/09/14', '2022/09/15', '2022/10/02', '2022/10/03', '2022/10/04', '2022/10/05', '2022/10/07', '2022/10/08', '2022/10/09', '2022/10/10', '2022/10/11', '2022/10/12', '2022/10/21', ]\n",
            "[3.770662666882508, 3.7703582309588937, 3.7700537950352793, 3.769749359111665, 3.7694449231880505, 3.769140487264437, 3.7688360513408226, 3.768531615417208, 3.7682271794935938, 3.7660961280282947, 3.7657916921046803, 3.765487256181066, 3.7651828202574515, 3.764878384333837, 3.7645739484102236, 3.7642695124866092, 3.763965076562995, 3.7636606406393804, 3.763356204715766, 3.7630517687921525, 3.762747332868538, 3.7624428969449237, 3.7621384610213093, 3.761834025097695, 3.7615295891740814, 3.7609207173268526, 3.7606162814032382, 3.760311845479624, 3.7600074095560103, 3.759702973632396, 3.7593985377087815, 3.759094101785167, 3.7587896658615527, 3.758485229937939, 3.758180794014325, 3.7578763580907104, 3.757571922167096, 3.7572674862434816, 3.756963050319868, 3.7566586143962537, 3.7563541784726393, 3.756049742549025, 3.7557453066254105, 3.755440870701797, 3.7551364347781826, 3.754831998854568, 3.754527562930954, 3.7542231270073394, 3.753918691083726, 3.7536142551601115, 3.753309819236497, 3.7530053833128827, 3.7527009473892683, 3.752396511465655, 3.7520920755420404, 3.751787639618426, 3.7514832036948116, 3.751178767771197, 3.7508743318475837, 3.7505698959239693, 3.750265460000355, 3.7499610240767405, 3.749656588153126, 3.7493521522295126, 3.749047716305898, 3.7487432803822838, 3.7484388444586694, 3.748134408535055, 3.7478299726114415, 3.747525536687827, 3.7472211007642127, 3.7469166648405983, 3.746612228916984, 3.7463077929933704, 3.746003357069756, 3.7456989211461416, 3.745394485222527, 3.7450900492989128, 3.7447856133752984, 3.744481177451685, 3.7441767415280705, 3.743872305604456, 3.7435678696808417, 3.7432634337572273, 3.7429589978336137, 3.7426545619099993, 3.742350125986385, 3.7420456900627705, 3.741741254139156, 3.7414368182155426, 3.7411323822919282, 3.740827946368314, 3.7405235104446994, 3.740219074521085, 3.7399146385974715, 3.739610202673857, 3.7393057667502427, 3.7390013308266283, 3.738696894903014, 3.7383924589794004, 3.7368702793613293, 3.736565843437715, 3.7362614075141005, 3.735956971590486, 3.7356525356668717, 3.735348099743258, 3.735043663819644, 3.7347392278960294, 3.734434791972415, 3.7341303560488006, 3.733825920125187, 3.7335214842015727, 3.7332170482779583, 3.732303740507116, 3.7319993045835016, 3.731694868659887, 3.731390432736273, 3.7310859968126584, 3.730781560889045, 3.7304771249654305, 3.730172689041816, 3.7298682531182017, 3.7295638171945873, 3.729259381270974, 3.7289549453473594, 3.728650509423745, 3.7283460735001306, 3.728041637576516, 3.7277372016529027, 3.7274327657292883, 3.727128329805674, 3.7268238938820595, 3.726519457958445, 3.7262150220348316, 3.725910586111217, 3.7256061501876028, 3.7253017142639884, 3.724997278340374, 3.7246928424167605, 3.724388406493146, 3.7240839705695317, 3.7237795346459173, 3.723475098722303, 3.7231706627986894, 3.722866226875075, 3.7225617909514606, 3.722257355027846, 3.7219529191042318, 3.7216484831806182, 3.721344047257004, 3.7210396113333895, 3.720735175409775, 3.7204307394861607, 3.720126303562547, 3.7198218676389327, 3.7195174317153183, 3.719212995791704, 3.7189085598680895, 3.718604123944476, 3.7182996880208616, 3.7179952520972472, 3.717690816173633, 3.7173863802500184, 3.717081944326405, 3.7167775084027905, 3.716473072479176, 3.7161686365555617, 3.7158642006319473, 3.715559764708334, 3.7152553287847194, 3.714950892861105, 3.7146464569374906, 3.7143420210138762, 3.7140375850902627, 3.7137331491666483, 3.713428713243034, 3.7131242773194195, 3.712819841395805, 3.7125154054721907, 3.712210969548577, 3.711906533624963, 3.7116020977013484, 3.711297661777734, 3.7109932258541196, 3.710688789930506, 3.7103843540068917, 3.7100799180832773, 3.709775482159663, 3.7094710462360485, 3.709166610312435, 3.7088621743888206, 3.708557738465206, 3.708253302541592, 3.7079488666179774, 3.707644430694364, 3.7073399947707495, 3.707035558847135, 3.7067311229235207, 3.7064266869999063, 3.706122251076293, 3.7058178151526784, 3.705513379229064, 3.7052089433054496, 3.704904507381835, 3.7046000714582217, 3.7042956355346073, 3.703991199610993, 3.7036867636873785, 3.703382327763764, 3.7030778918401506, 3.702773455916536, 3.7024690199929218, 3.7021645840693074, 3.701860148145693, 3.7015557122220795, 3.701251276298465, 3.7009468403748507, 3.7006424044512363, 3.700337968527622, 3.7000335326040084, 3.699729096680394, 3.6994246607567796, 3.699120224833165, 3.6988157889095508, 3.6985113529859373, 3.698206917062323, 3.6979024811387085, 3.697598045215094, 3.6972936092914797, 3.696989173367866, 3.6966847374442517, 3.6963803015206373, 3.696075865597023, 3.6951625578261806, 3.6948581219025662, 3.694553685978952, 3.6942492500553374, 3.693944814131724, 3.6936403782081095, 3.693335942284495, 3.6930315063608807, 3.6927270704372663, 3.692422634513653, 3.6921181985900384, 3.691813762666424, 3.6915093267428096, 3.6912048908191952, 3.6909004548955817, 3.6905960189719673, 3.690291583048353, 3.6899871471247385, 3.689682711201124, 3.6893782752775106, 3.689073839353896, 3.688769403430282, 3.688160531583053, 3.6878560956594395, 3.687551659735825, 3.6872472238122107, 3.6869427878885963, 3.686638351964982, 3.6863339160413684, 3.686029480117754, 3.6857250441941396, 3.685420608270525, 3.685116172346911, 3.6848117364232973, 3.684507300499683, 3.6842028645760685, 3.683898428652454, 3.6835939927288397, 3.683289556805226, 3.682985120881612, 3.6826806849579974, 3.682376249034383, 3.6820718131107686, 3.6814629412635407, 3.6784185820273985, 3.6775052742565553, 3.677200838332941, 3.6768964024093274, 3.676591966485713, 3.6762875305620986, 3.675983094638484, 3.6756786587148698, 3.6726342994787275, 3.672329863555114, 3.667154452853672, 3.6668500169300575, 3.666545581006443, 3.6662411450828296, 3.665632273235601, 3.6653278373119864, 3.665023401388372, 3.6647189654647585, 3.664414529541144, 3.6641100936175297, 3.661370170305002, ]"
          ]
        },
        {
          "output_type": "display_data",
          "data": {
            "text/plain": [
              "<Figure size 800x500 with 1 Axes>"
            ],
            "image/png": "[encoded data removed]"
          },
          "metadata": {}
        },
        {
          "output_type": "stream",
          "name": "stdout",
          "text": [
            "Stationary test for patient 303827011 about Intrinsic Capacity data\n",
            "\n",
            "ADF Statistic: -5.597878\n",
            "p-value: 0.000001\t so the trend is stationary\n",
            "Critical Values:\n",
            "\t1%: -3.453\n",
            "\t5%: -2.871\n",
            "\t10%: -2.572\n",
            "KPSS Statistic: 0.095504\n",
            "p-value: 0.100000\t so the trend is stationary\n",
            "Critical Values:\n",
            "\t10%: 0.119\n",
            "\t5%: 0.146\n",
            "\t2.5%: 0.176\n",
            "\t1%: 0.216\n"
          ]
        },
        {
          "output_type": "stream",
          "name": "stderr",
          "text": [
            "<ipython-input-53-a4f45cea2656>:60: InterpolationWarning: The test statistic is outside of the range of p-values available in the\n",
            "look-up table. The actual p-value is greater than the p-value returned.\n",
            "\n",
            "  result = kpss(X, regression = 'ct') # 'regression=ct --> null hypothesis is that the data is trend stationary\n"
          ]
        }
      ]
    },
    {
      "cell_type": "code",
      "source": [
        "plotPatientPerformanceScorePandas(dfTotPandas, '303827011', 'Locomotion')\n",
        "adf_kpss_test_pandas(dfTotPandas, '303827011', 'Locomotion')"
      ],
      "metadata": {
        "colab": {
          "base_uri": "https://localhost:8080/",
          "height": 886
        },
        "id": "_cV_-SEXeUUm",
        "outputId": "9cde8c3d-701c-4e5d-c916-c18a5b341305"
      },
      "execution_count": null,
      "outputs": [
        {
          "output_type": "stream",
          "name": "stdout",
          "text": [
            "[2.5665883877970326, 2.5855707287024234, 2.5665883877970326, 2.5665883877970326, 2.5665883877970326, 2.5665883877970326, 2.5665883877970326, 2.5665883877970326, 2.5715079104271066, 2.8517558648054107, 4.428611071015845, 4.510741522588145, 3.0649008835380203, 4.292574510610929, 3.735043593019502, 4.367710215162958, 3.6280296136844417, 4.184680382750627, 3.3101772576135406, 3.261349650453553, 3.465114673656137, 3.3949035798278224, 3.0572326140032793, 3.5424147412634053, 2.7044236523923075, 3.6888905581192715, 4.817551065293805, 3.3496908709763678, 3.453612802234519, 4.188927934334396, 3.4945806752703943, 3.752150284538971, 3.204469950197338, 3.987233838613081, 4.155636063217043, 3.650012430520584, 4.527973462206856, 4.330982258575157, 4.079415860375785, 4.151857765464337, 4.420535985753942, 4.522695105124951, 3.6501922587803115, 2.8843437879437626, 3.332705805234437, 3.490239037961161, 3.13713276045965, 4.003666728951183, 3.5245314629275457, 3.944989919879262, 3.943134977279306, 3.402617854637527, 3.582011605508698, 4.3659140011489805, 2.630501798460766, 3.9296807965394627, 4.162874823267441, 3.73536620072409, 3.890228182483481, 4.0309480397851, 2.662939861776564, 4.649938533975052, 4.400824069161448, 3.1928090196944288, 3.4015560870177013, 3.42511473258696, 3.6820574846848695, 3.501974957735385, 3.5234687517079557, 3.4986669094558196, 2.954994450052731, 3.284375874007184, 3.5675427919429215, 3.2245760335144955, 2.5693147597880612, 3.3899319714361136, 2.6988115698484543, 3.7852374034226752, 3.1308616834203264, 3.5000000000000013, 3.1374843667412553, 3.687398248567276, 3.573879865783693, 3.413865953864238, 3.551200913439358, 3.472840809928439, 3.3723022154611475, 3.694731599822114, 3.716972130709843, 3.006611539815012, 4.504002972138506, 3.436489263410083, 5.030083566389707, 3.8543375671518376, 3.5000000000000013, 3.5000000000000013, 4.012339953078558, 3.1465144443962565, 3.7369896957737923, 3.0866342353906058, 4.196551812882293, 3.259686719125064, 2.5665883877970326, 4.167606377376143, 3.2317320238723437, 2.928933064939126, 3.7396515166727906, 2.9401987791348447, 3.0045946217672723, 2.9486580024217792, 3.0987611806983, 3.3506900043482473, 2.9306619853994316, 3.6241270787030797, 3.8813222651387713, 3.428423536617216, 3.763552926784962, 3.1916475884350564, 3.8614389743905986, 3.640411757451082, 3.6731315602723487, 3.7452873591053146, 4.265764617201414, 3.9999673101424476, 3.056842170660418, 3.014175748213217, 4.0607202221678005, 3.80388416423581, 4.192046149312122, 4.2269166063212635, 3.5964386231173116, 3.682381487780714, 3.9851260534992954, 3.5993736588028007, 3.996032707249938, 3.7249538448150403, 2.8462704425175063, 2.6175823846928874, 3.5000000000000013, 4.011277794915988, 3.9288138503683134, 3.4796169661864846, 4.4693416605152425, 3.370731603378857, 2.5665883877970326, 4.1990070869584, 3.714483633361269, 3.8301451050929765, 4.454797786030075, 4.526946141066926, 3.89290467189338, 3.303408545457928, 4.203261973815381, 4.264940289380272, 2.9800169426436875, 4.005886047434523, 2.8578989262004, 2.5665883877970326, 2.5665883877970326, 2.615214239329618, 3.432904048026857, 3.917456906950329, 3.825874269471916, 4.254668595299359, 3.1362185056377965, 3.2828284298582746, 4.039510890510339, 3.830276251156019, 4.209555768764004, 2.70081244760849, 3.996629494290712, 3.595608372370081, 3.1789431068723752, 2.6271959976075405, 4.065559323084351, 3.013693398412944, 4.241178758881232, 4.059144346962418, 3.714639199073008, 3.3716936096645047, 4.807289105317263, 3.5527979554959925, 4.145484099419893, 3.7132743641770225, 3.2853449373351213, 3.6963101642788185, 3.357837166943779, 3.7875779791432045, 4.200716440819769, 4.0279642873978165, 3.336634216804133, 3.2065593034487265, 2.8820509576424787, 2.5665883877970326, 3.5512227769743987, 3.9679253131190046, 2.5665883877970326, 2.5665883877970326, 2.5665883877970326, 2.5665883877970326, 2.5665883877970326, 2.5665883877970326, 2.5665883877970326, 2.5665883877970326, 2.5665883877970326, 2.5665883877970326, 2.5665883877970326, 2.5805141734210433, 4.219016923652072, 3.9615351943659545, 4.0860558755748615, 4.064292924253826, 4.043152155366876, 4.723655153682255, 2.5665883877970326, 3.4612713154605474, 3.804812667213318, 3.7595398917670075, 3.414345008820927, 3.694731599822114, 3.5302094133729303, 3.6547112902355656, 2.845911577202396, 3.87273115727794, 3.763131533543644, 3.414465914802411, 3.0696419907624297, 2.8991064578729446, 2.9423180131131224, 3.40738827951475, 3.6322121385460324, 3.96471396763257, 3.077934194712724, 2.7496555004795415, 2.5665883877970326, 2.5665883877970326, 2.5665883877970326, 2.5665883877970326, 2.5665883877970326, 2.5665883877970326, 2.5665883877970326, 2.5665883877970326, 2.5665883877970326, 2.5665883877970326, 2.5665883877970326, 2.5665883877970326, 2.5665883877970326, 2.5665883877970326, 2.5665883877970326, 2.5665883877970326, 2.5665883877970326, 2.5665883877970326, 2.5665883877970326, 3.2910066662691486, 3.5000000000000013, 3.5000000000000013, 3.5000000000000013, 3.5000000000000013, 3.2466180973674255, 2.819023473492373, 2.638714781550318, 3.542495907064945, 2.566976693870257, 3.0886495459345955, 3.0886495459345955, 3.0886495459345955, 3.0886495459345955, 3.0886495459345955, 3.0886495459345955, 3.0886495459345955, 3.0886495459345955, 3.5000000000000013, 3.0909244370886633, 3.5000000000000013, 2.3052377442793777, 3.5000000000000013, 3.5000000000000013, 3.5000000000000013, 3.5000000000000013, 3.5000000000000013, 3.5000000000000013, 3.5000000000000013, 3.5000000000000013, 3.5000000000000013, 3.5000000000000013, 3.5000000000000013, 3.5000000000000013, 3.5000000000000013, 3.5000000000000013, 3.5000000000000013, 3.5000000000000013, 3.5000000000000013, 3.090768562912234, 3.454158808453285, 3.0886495459345955, 3.2737542116906995, 3.0886495459345955, 3.5000000000000013]\n",
            "['2021/10/27', '2021/10/28', '2021/10/29', '2021/10/30', '2021/10/31', '2021/11/01', '2021/11/02', '2021/11/03', '2021/11/04', '2021/11/11', '2021/11/12', '2021/11/13', '2021/11/14', '2021/11/15', '2021/11/16', '2021/11/17', '2021/11/18', '2021/11/19', '2021/11/20', '2021/11/21', '2021/11/22', '2021/11/23', '2021/11/24', '2021/11/25', '2021/11/26', '2021/11/28', '2021/11/29', '2021/11/30', '2021/12/01', '2021/12/02', '2021/12/03', '2021/12/04', '2021/12/05', '2021/12/06', '2021/12/07', '2021/12/08', '2021/12/09', '2021/12/10', '2021/12/11', '2021/12/12', '2021/12/13', '2021/12/14', '2021/12/15', '2021/12/16', '2021/12/17', '2021/12/18', '2021/12/19', '2021/12/20', '2021/12/21', '2021/12/22', '2021/12/23', '2021/12/24', '2021/12/25', '2021/12/26', '2021/12/27', '2021/12/28', '2021/12/29', '2021/12/30', '2021/12/31', '2022/01/01', '2022/01/02', '2022/01/03', '2022/01/04', '2022/01/05', '2022/01/06', '2022/01/07', '2022/01/08', '2022/01/09', '2022/01/10', '2022/01/11', '2022/01/12', '2022/01/13', '2022/01/14', '2022/01/15', '2022/01/16', '2022/01/17', '2022/01/18', '2022/01/19', '2022/01/20', '2022/01/21', '2022/01/22', '2022/01/23', '2022/01/24', '2022/01/25', '2022/01/26', '2022/01/27', '2022/01/28', '2022/01/29', '2022/01/30', '2022/01/31', '2022/02/01', '2022/02/02', '2022/02/03', '2022/02/04', '2022/02/05', '2022/02/06', '2022/02/07', '2022/02/08', '2022/02/09', '2022/02/10', '2022/02/15', '2022/02/16', '2022/02/17', '2022/02/18', '2022/02/19', '2022/02/20', '2022/02/21', '2022/02/22', '2022/02/23', '2022/02/24', '2022/02/25', '2022/02/26', '2022/02/27', '2022/03/02', '2022/03/03', '2022/03/04', '2022/03/05', '2022/03/06', '2022/03/07', '2022/03/08', '2022/03/09', '2022/03/10', '2022/03/11', '2022/03/12', '2022/03/13', '2022/03/14', '2022/03/15', '2022/03/16', '2022/03/17', '2022/03/18', '2022/03/19', '2022/03/20', '2022/03/21', '2022/03/22', '2022/03/23', '2022/03/24', '2022/03/25', '2022/03/26', '2022/03/27', '2022/03/28', '2022/03/29', '2022/03/30', '2022/03/31', '2022/04/01', '2022/04/02', '2022/04/03', '2022/04/04', '2022/04/05', '2022/04/06', '2022/04/07', '2022/04/08', '2022/04/09', '2022/04/10', '2022/04/11', '2022/04/12', '2022/04/13', '2022/04/14', '2022/04/15', '2022/04/16', '2022/04/17', '2022/04/18', '2022/04/19', '2022/04/20', '2022/04/21', '2022/04/22', '2022/04/23', '2022/04/24', '2022/04/25', '2022/04/26', '2022/04/27', '2022/04/28', '2022/04/29', '2022/04/30', '2022/05/01', '2022/05/02', '2022/05/03', '2022/05/04', '2022/05/05', '2022/05/06', '2022/05/07', '2022/05/08', '2022/05/09', '2022/05/10', '2022/05/11', '2022/05/12', '2022/05/13', '2022/05/14', '2022/05/15', '2022/05/16', '2022/05/17', '2022/05/18', '2022/05/19', '2022/05/20', '2022/05/21', '2022/05/22', '2022/05/23', '2022/05/24', '2022/05/25', '2022/05/26', '2022/05/27', '2022/05/28', '2022/05/29', '2022/05/30', '2022/05/31', '2022/06/01', '2022/06/02', '2022/06/03', '2022/06/04', '2022/06/05', '2022/06/06', '2022/06/07', '2022/06/08', '2022/06/09', '2022/06/10', '2022/06/11', '2022/06/12', '2022/06/13', '2022/06/14', '2022/06/15', '2022/06/16', '2022/06/17', '2022/06/18', '2022/06/19', '2022/06/20', '2022/06/21', '2022/06/22', '2022/06/23', '2022/06/24', '2022/06/25', '2022/06/26', '2022/06/27', '2022/06/28', '2022/06/29', '2022/07/02', '2022/07/03', '2022/07/04', '2022/07/05', '2022/07/06', '2022/07/07', '2022/07/08', '2022/07/09', '2022/07/10', '2022/07/11', '2022/07/12', '2022/07/13', '2022/07/14', '2022/07/15', '2022/07/16', '2022/07/17', '2022/07/18', '2022/07/19', '2022/07/20', '2022/07/21', '2022/07/22', '2022/07/23', '2022/07/25', '2022/07/26', '2022/07/27', '2022/07/28', '2022/07/29', '2022/07/30', '2022/07/31', '2022/08/01', '2022/08/02', '2022/08/03', '2022/08/04', '2022/08/05', '2022/08/06', '2022/08/07', '2022/08/08', '2022/08/09', '2022/08/10', '2022/08/11', '2022/08/12', '2022/08/13', '2022/08/14', '2022/08/16', '2022/08/26', '2022/08/29', '2022/08/30', '2022/08/31', '2022/09/01', '2022/09/02', '2022/09/03', '2022/09/04', '2022/09/14', '2022/09/15', '2022/10/02', '2022/10/03', '2022/10/04', '2022/10/05', '2022/10/07', '2022/10/08', '2022/10/09', '2022/10/10', '2022/10/11', '2022/10/12', '2022/10/21', ]\n",
            "[3.642711546224003, 3.6413291028992703, 3.639946659574541, 3.638564216249808, 3.6371817729250786, 3.6357993296003457, 3.6344168862756128, 3.6330344429508834, 3.6316519996261505, 3.6219748963530307, 3.6205924530283013, 3.6192100097035684, 3.6178275663788355, 3.616445123054106, 3.6150626797293732, 3.613680236404644, 3.612297793079911, 3.610915349755178, 3.6095329064304487, 3.6081504631057157, 3.6067680197809864, 3.6053855764562535, 3.6040031331315205, 3.602620689806791, 3.6012382464820583, 3.598473359832596, 3.5970909165078666, 3.5957084731831337, 3.5943260298584008, 3.5929435865336714, 3.5915611432089385, 3.590178699884209, 3.588796256559476, 3.5874138132347433, 3.586031369910014, 3.584648926585281, 3.5832664832605516, 3.5818840399358187, 3.580501596611086, 3.5791191532863564, 3.5777367099616235, 3.576354266636894, 3.5749718233121612, 3.573589379987432, 3.572206936662699, 3.570824493337966, 3.5694420500132367, 3.5680596066885037, 3.5666771633637744, 3.5652947200390415, 3.5639122767143085, 3.562529833389579, 3.5611473900648463, 3.559764946740117, 3.558382503415384, 3.557000060090651, 3.5556176167659217, 3.5542351734411888, 3.5528527301164594, 3.5514702867917265, 3.550087843466997, 3.548705400142264, 3.5473229568175313, 3.545940513492802, 3.544558070168069, 3.5431756268433396, 3.5417931835186067, 3.540410740193874, 3.5390282968691444, 3.5376458535444115, 3.536263410219682, 3.5348809668949492, 3.53349852357022, 3.532116080245487, 3.530733636920754, 3.5293511935960247, 3.5279687502712918, 3.5265863069465624, 3.5252038636218295, 3.5238214202970966, 3.522438976972367, 3.5210565336476343, 3.519674090322905, 3.518291646998172, 3.516909203673439, 3.5155267603487097, 3.514144317023977, 3.5127618736992474, 3.5113794303745145, 3.509996987049785, 3.508614543725052, 3.5072321004003193, 3.50584965707559, 3.504467213750857, 3.5030847704261276, 3.5017023271013947, 3.500319883776662, 3.4989374404519324, 3.4975549971271995, 3.49617255380247, 3.4892603371788127, 3.4878778938540798, 3.4864954505293504, 3.4851130072046175, 3.4837305638798846, 3.482348120555155, 3.4809656772304223, 3.479583233905693, 3.47820079058096, 3.476818347256227, 3.4754359039314977, 3.474053460606765, 3.4726710172820354, 3.46852368730784, 3.4671412439831073, 3.465758800658378, 3.464376357333645, 3.4629939140089157, 3.4616114706841827, 3.46022902735945, 3.4588465840347205, 3.4574641407099875, 3.456081697385258, 3.4546992540605252, 3.4533168107357923, 3.451934367411063, 3.45055192408633, 3.4491694807616007, 3.4477870374368678, 3.446404594112135, 3.4450221507874055, 3.4436397074626726, 3.442257264137943, 3.4408748208132103, 3.439492377488481, 3.438109934163748, 3.436727490839015, 3.4353450475142857, 3.433962604189553, 3.4325801608648234, 3.4311977175400905, 3.4298152742153576, 3.4284328308906282, 3.4270503875658953, 3.425667944241166, 3.424285500916433, 3.4229030575917037, 3.4215206142669707, 3.420138170942238, 3.4187557276175085, 3.4173732842927755, 3.415990840968046, 3.4146083976433133, 3.4132259543185803, 3.411843510993851, 3.410461067669118, 3.4090786243443887, 3.4076961810196558, 3.406313737694923, 3.4049312943701935, 3.4035488510454606, 3.402166407720731, 3.4007839643959983, 3.399401521071269, 3.398019077746536, 3.396636634421803, 3.3952541910970737, 3.393871747772341, 3.3924893044476114, 3.3911068611228785, 3.3897244177981456, 3.3883419744734162, 3.3869595311486833, 3.385577087823954, 3.384194644499221, 3.382812201174488, 3.3814297578497587, 3.380047314525026, 3.3786648712002965, 3.3772824278755635, 3.375899984550834, 3.3745175412261013, 3.3731350979013683, 3.371752654576639, 3.370370211251906, 3.3689877679271767, 3.3676053246024438, 3.366222881277711, 3.3648404379529815, 3.3634579946282486, 3.362075551303519, 3.3606931079787863, 3.3593106646540534, 3.357928221329324, 3.356545778004591, 3.3551633346798617, 3.353780891355129, 3.3523984480303994, 3.3510160047056665, 3.3496335613809336, 3.3482511180562042, 3.3468686747314713, 3.345486231406742, 3.344103788082009, 3.342721344757276, 3.3413389014325467, 3.339956458107814, 3.3385740147830845, 3.3371915714583515, 3.3358091281336186, 3.3344266848088893, 3.3330442414841563, 3.331661798159427, 3.330279354834694, 3.3288969115099647, 3.3275144681852318, 3.326132024860499, 3.3247495815357695, 3.3233671382110366, 3.321984694886307, 3.3206022515615743, 3.3192198082368414, 3.317837364912112, 3.316454921587379, 3.3150724782626497, 3.313690034937917, 3.3123075916131874, 3.3109251482884545, 3.3095427049637216, 3.3081602616389922, 3.3067778183142593, 3.30539537498953, 3.304012931664797, 3.299865601690602, 3.2984831583658725, 3.2971007150411396, 3.2957182717164066, 3.2943358283916773, 3.2929533850669443, 3.291570941742215, 3.290188498417482, 3.2888060550927527, 3.28742361176802, 3.286041168443287, 3.2846587251185575, 3.2832762817938246, 3.281893838469095, 3.2805113951443623, 3.2791289518196294, 3.2777465084949, 3.276364065170167, 3.2749816218454377, 3.273599178520705, 3.272216735195972, 3.2708342918712425, 3.2680694052217802, 3.2666869618970473, 3.265304518572318, 3.263922075247585, 3.262539631922852, 3.2611571885981228, 3.25977474527339, 3.2583923019486605, 3.2570098586239276, 3.2556274152991946, 3.2542449719744653, 3.2528625286497324, 3.251480085325003, 3.25009764200027, 3.248715198675537, 3.247332755350808, 3.245950312026075, 3.2445678687013455, 3.2431854253766126, 3.241802982051883, 3.2404205387271503, 3.237655652077688, 3.223831218830373, 3.219683888856178, 3.2183014455314485, 3.2169190022067156, 3.2155365588819826, 3.2141541155572533, 3.2127716722325204, 3.211389228907791, 3.197564795660476, 3.196182352335743, 3.1726808158153084, 3.171298372490579, 3.169915929165846, 3.168533485841113, 3.165768599191651, 3.1643861558669215, 3.1630037125421886, 3.1616212692174557, 3.1602388258927263, 3.1588563825679934, 3.1464143926454113, ]"
          ]
        },
        {
          "output_type": "display_data",
          "data": {
            "text/plain": [
              "<Figure size 800x500 with 1 Axes>"
            ],
            "image/png": "[encoded data removed]"
          },
          "metadata": {}
        },
        {
          "output_type": "stream",
          "name": "stdout",
          "text": [
            "Stationary test for patient 303827011 about Locomotion data\n",
            "\n",
            "ADF Statistic: -4.784846\n",
            "p-value: 0.000058\t so the trend is stationary\n",
            "Critical Values:\n",
            "\t1%: -3.453\n",
            "\t5%: -2.872\n",
            "\t10%: -2.572\n",
            "KPSS Statistic: 0.116049\n",
            "p-value: 0.100000\t so the trend is stationary\n",
            "Critical Values:\n",
            "\t10%: 0.119\n",
            "\t5%: 0.146\n",
            "\t2.5%: 0.176\n",
            "\t1%: 0.216\n"
          ]
        },
        {
          "output_type": "stream",
          "name": "stderr",
          "text": [
            "<ipython-input-53-a4f45cea2656>:60: InterpolationWarning: The test statistic is outside of the range of p-values available in the\n",
            "look-up table. The actual p-value is greater than the p-value returned.\n",
            "\n",
            "  result = kpss(X, regression = 'ct') # 'regression=ct --> null hypothesis is that the data is trend stationary\n"
          ]
        }
      ]
    },
    {
      "cell_type": "code",
      "source": [
        "#plotPatientPerformanceScore(dfTot, '1705741053', 'Locomotion')"
      ],
      "metadata": {
        "id": "IRKHAN-ITaiI"
      },
      "execution_count": null,
      "outputs": []
    },
    {
      "cell_type": "code",
      "source": [
        "#plotPatientPerformanceScore(dfTot, '1705741053', 'Intrinsic Capacity')\n",
        "#adf_kpss_test(dfTot, '1705741053', 'Intrinsic Capacity')"
      ],
      "metadata": {
        "id": "xyihOxSjT5yv"
      },
      "execution_count": null,
      "outputs": []
    },
    {
      "cell_type": "code",
      "source": [
        "#plotPatientPerformanceScore(dfTot, '1065442966', 'Intrinsic Capacity')\n",
        "#adf_kpss_test(dfTot, '1065442966', 'Intrinsic Capacity')"
      ],
      "metadata": {
        "id": "4TJcHdZDMRy9"
      },
      "execution_count": null,
      "outputs": []
    },
    {
      "cell_type": "code",
      "source": [
        "#dfTotPandas = dfTot.toPandas()\n",
        "#plotPatientPerformanceScorePandas(dfTotPandas, '1065442966', 'Locomotion')\n",
        "#plotPatientPerformanceScorePandas(dfTotPandas, '1065442966', 'Intrinsic Capacity')"
      ],
      "metadata": {
        "id": "UG_1i_9IMp7l"
      },
      "execution_count": null,
      "outputs": []
    }
  ],
  "metadata": {
    "colab": {
      "provenance": [],
      "toc_visible": true
    },
    "kernelspec": {
      "display_name": "Python 3",
      "name": "python3"
    },
    "language_info": {
      "name": "python"
    }
  },
  "nbformat": 4,
  "nbformat_minor": 0
}